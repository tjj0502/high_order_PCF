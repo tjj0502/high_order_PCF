{
 "cells": [
  {
   "cell_type": "code",
   "execution_count": 6,
   "id": "82f56751",
   "metadata": {},
   "outputs": [],
   "source": [
    "import torch\n",
    "import numpy as np\n",
    "import matplotlib.pyplot as plt\n",
    "from tqdm.notebook import tqdm\n",
    "# import higherOrderKME\n",
    "# from higherOrderKME import sigkernel\n",
    "import Path_Char\n",
    "from Path_Char.path_characteristic_function import char_func_path\n",
    "from Path_Char.model import LSTMGenerator, UnitaryLSTMGenerator, UnitaryLSTMRegressor\n",
    "from Path_Char.utils import AddTime\n",
    "from torch.utils.data import DataLoader\n",
    "import ml_collections\n",
    "import seaborn as sns\n",
    "import os\n",
    "os.environ[\"CUDA_VISIBLE_DEVICES\"] = \"4\"\n",
    "sns.set()\n",
    "torch.manual_seed(0)\n",
    "device = 'cuda'"
   ]
  },
  {
   "cell_type": "code",
   "execution_count": 2,
   "id": "dd0ef84d",
   "metadata": {},
   "outputs": [],
   "source": [
    "config = {'G_input_dim': 3,\n",
    "          'G_hidden_dim': 32,\n",
    "          'G_num_layers': 2,\n",
    "          'G_output_dim': 5}\n",
    "config = ml_collections.ConfigDict(config)"
   ]
  },
  {
   "cell_type": "code",
   "execution_count": 3,
   "id": "1d693d3b",
   "metadata": {},
   "outputs": [],
   "source": [
    "# data = pickle.load(open('./data_optimal_stopping.obj','rb'))\n",
    "# prices, paths = data['prices'], data['paths']\n",
    "\n",
    "data = torch.load('./examples/Rough/train_X.pt')"
   ]
  },
  {
   "cell_type": "code",
   "execution_count": 25,
   "id": "0d01074b",
   "metadata": {},
   "outputs": [
    {
     "data": {
      "text/plain": [
       "torch.Size([16000, 50, 3])"
      ]
     },
     "execution_count": 25,
     "metadata": {},
     "output_type": "execute_result"
    }
   ],
   "source": [
    "data.shape"
   ]
  },
  {
   "cell_type": "code",
   "execution_count": 4,
   "id": "6f29c006",
   "metadata": {},
   "outputs": [],
   "source": [
    "N, L, D = data.shape\n",
    "lie_degree_1 = 5\n",
    "num_samples_1 = 10\n",
    "add_time = True\n",
    "\n",
    "pcf_level_1 = char_func_path(num_samples=num_samples_1, \n",
    "                              hidden_size=lie_degree_1, \n",
    "                              input_dim=D, \n",
    "                              add_time=add_time, \n",
    "                              include_initial = False,\n",
    "                              return_sequence=False)\n",
    "pcf_level_1.to(device)\n",
    "data = AddTime(data).to(device)"
   ]
  },
  {
   "cell_type": "code",
   "execution_count": 26,
   "id": "5482f280",
   "metadata": {
    "scrolled": true
   },
   "outputs": [],
   "source": [
    "with torch.no_grad():\n",
    "    dev_X = pcf_level_1.unitary_development(data.to(device)).unsqueeze(1).repeat([1, 50, 1, 1, 1])\n",
    "    \n",
    "train_X_dl = DataLoader(data, 256, shuffle=True)\n",
    "train_X_dev_dl = DataLoader(dev_X, 256, shuffle=True)\n",
    "\n",
    "# train_X_n_dl = DataLoader(X_n, 128, shuffle=True)\n",
    "# train_X_n_dev_dl = DataLoader(dev_X_n, 128, shuffle=True)"
   ]
  },
  {
   "cell_type": "code",
   "execution_count": 27,
   "id": "7ef21604",
   "metadata": {},
   "outputs": [
    {
     "data": {
      "text/plain": [
       "torch.Size([16000, 50, 10, 5, 5])"
      ]
     },
     "execution_count": 27,
     "metadata": {},
     "output_type": "execute_result"
    }
   ],
   "source": [
    "dev_X.shape"
   ]
  },
  {
   "cell_type": "code",
   "execution_count": 28,
   "id": "ecb31ef0",
   "metadata": {},
   "outputs": [
    {
     "data": {
      "text/plain": [
       "UnitaryLSTMRegressor(\n",
       "  (rnns): ModuleList(\n",
       "    (0): LSTM(3, 32, num_layers=2, batch_first=True)\n",
       "    (1): LSTM(3, 32, num_layers=2, batch_first=True)\n",
       "    (2): LSTM(3, 32, num_layers=2, batch_first=True)\n",
       "    (3): LSTM(3, 32, num_layers=2, batch_first=True)\n",
       "    (4): LSTM(3, 32, num_layers=2, batch_first=True)\n",
       "    (5): LSTM(3, 32, num_layers=2, batch_first=True)\n",
       "    (6): LSTM(3, 32, num_layers=2, batch_first=True)\n",
       "    (7): LSTM(3, 32, num_layers=2, batch_first=True)\n",
       "    (8): LSTM(3, 32, num_layers=2, batch_first=True)\n",
       "    (9): LSTM(3, 32, num_layers=2, batch_first=True)\n",
       "  )\n",
       "  (linears): ModuleList(\n",
       "    (0): Linear(in_features=32, out_features=50, bias=False)\n",
       "    (1): Linear(in_features=32, out_features=50, bias=False)\n",
       "    (2): Linear(in_features=32, out_features=50, bias=False)\n",
       "    (3): Linear(in_features=32, out_features=50, bias=False)\n",
       "    (4): Linear(in_features=32, out_features=50, bias=False)\n",
       "    (5): Linear(in_features=32, out_features=50, bias=False)\n",
       "    (6): Linear(in_features=32, out_features=50, bias=False)\n",
       "    (7): Linear(in_features=32, out_features=50, bias=False)\n",
       "    (8): Linear(in_features=32, out_features=50, bias=False)\n",
       "    (9): Linear(in_features=32, out_features=50, bias=False)\n",
       "  )\n",
       "  (activation): Tanh()\n",
       ")"
      ]
     },
     "execution_count": 28,
     "metadata": {},
     "output_type": "execute_result"
    }
   ],
   "source": [
    "regressor_for_X = UnitaryLSTMRegressor(\n",
    "        input_dim=config.G_input_dim,\n",
    "        hidden_dim=config.G_hidden_dim,\n",
    "        output_dim=config.G_output_dim,\n",
    "        n_linear_maps=num_samples_1,\n",
    "        n_layers=config.G_num_layers\n",
    "    )\n",
    "regressor_for_X.to(device)"
   ]
  },
  {
   "cell_type": "code",
   "execution_count": 54,
   "id": "12719588",
   "metadata": {},
   "outputs": [],
   "source": [
    "def train_regressor(regressor, iterations, X_dl, Y_dl):\n",
    "    loss = []\n",
    "    best_loss = 10000.\n",
    "    regressor_optimizer = torch.optim.Adam(regressor.parameters(), betas=(0, 0.9), lr=0.002)\n",
    "    regressor.train()\n",
    "    for i in tqdm(range(iterations)):\n",
    "        regressor_optimizer.zero_grad()\n",
    "        batch_X = next(iter(X_dl))\n",
    "        batch_X_dev = next(iter(Y_dl))\n",
    "        reg_dev = regressor(batch_X, device)\n",
    "    #     print(batch_Y.shape, reg_dev.shape)\n",
    "        regressor_loss = torch.norm(reg_dev - batch_X_dev)\n",
    "        if regressor_loss < best_loss:\n",
    "            print(\"Loss updated: {}\".format(regressor_loss), \" at iteration {}\".format(i))\n",
    "#             with torch.no_grad():\n",
    "#                 print(torch.norm(reg_dev - batch_X_dev, dim = [2,3]).mean(0))\n",
    "            best_loss = regressor_loss\n",
    "            trained_regressor = regressor\n",
    "        loss.append(regressor_loss)\n",
    "        regressor_loss.backward()\n",
    "        regressor_optimizer.step()\n",
    "    \n",
    "    return trained_regressor, loss"
   ]
  },
  {
   "cell_type": "code",
   "execution_count": 29,
   "id": "2e809779",
   "metadata": {
    "scrolled": true
   },
   "outputs": [
    {
     "data": {
      "application/vnd.jupyter.widget-view+json": {
       "model_id": "fb95e0e3b07e42509d2e6eb61f6f8b5b",
       "version_major": 2,
       "version_minor": 0
      },
      "text/plain": [
       "  0%|          | 0/10000 [00:00<?, ?it/s]"
      ]
     },
     "metadata": {},
     "output_type": "display_data"
    },
    {
     "name": "stdout",
     "output_type": "stream",
     "text": [
      "Loss updated: 362.472412109375  at iteration 0\n",
      "Loss updated: 354.776611328125  at iteration 1\n",
      "Loss updated: 343.5869140625  at iteration 2\n",
      "Loss updated: 331.4811706542969  at iteration 3\n",
      "Loss updated: 318.2199401855469  at iteration 4\n",
      "Loss updated: 298.0776672363281  at iteration 5\n",
      "Loss updated: 279.025634765625  at iteration 6\n",
      "Loss updated: 256.4327087402344  at iteration 7\n",
      "Loss updated: 237.72837829589844  at iteration 8\n",
      "Loss updated: 216.2695770263672  at iteration 9\n",
      "Loss updated: 195.53028869628906  at iteration 10\n",
      "Loss updated: 176.818603515625  at iteration 11\n",
      "Loss updated: 164.20840454101562  at iteration 12\n",
      "Loss updated: 159.03135681152344  at iteration 13\n",
      "Loss updated: 145.41249084472656  at iteration 14\n",
      "Loss updated: 137.17465209960938  at iteration 15\n",
      "Loss updated: 136.65980529785156  at iteration 17\n",
      "Loss updated: 135.7979736328125  at iteration 18\n",
      "Loss updated: 123.58457946777344  at iteration 19\n",
      "Loss updated: 122.83892822265625  at iteration 23\n",
      "Loss updated: 119.23406982421875  at iteration 29\n",
      "Loss updated: 117.30641174316406  at iteration 41\n",
      "Loss updated: 115.01885986328125  at iteration 43\n",
      "Loss updated: 112.03447723388672  at iteration 50\n",
      "Loss updated: 111.18016052246094  at iteration 72\n",
      "Loss updated: 109.8514175415039  at iteration 75\n",
      "Loss updated: 108.32843780517578  at iteration 90\n",
      "Loss updated: 107.80882263183594  at iteration 96\n",
      "Loss updated: 102.85641479492188  at iteration 100\n",
      "Loss updated: 101.1436767578125  at iteration 253\n",
      "Loss updated: 99.50762939453125  at iteration 313\n",
      "Loss updated: 98.54724884033203  at iteration 741\n",
      "Loss updated: 95.10430908203125  at iteration 988\n"
     ]
    }
   ],
   "source": [
    "trained_regressor_X, losses = train_regressor(regressor_for_X, 10000, train_X_dl, train_X_dev_dl)"
   ]
  },
  {
   "cell_type": "code",
   "execution_count": 34,
   "id": "6d164dac",
   "metadata": {},
   "outputs": [
    {
     "data": {
      "text/plain": [
       "[<matplotlib.lines.Line2D at 0x7fa6690aecd0>]"
      ]
     },
     "execution_count": 34,
     "metadata": {},
     "output_type": "execute_result"
    },
    {
     "data": {
      "image/png": "[encoded data removed]",
      "text/plain": [
       "<Figure size 640x480 with 1 Axes>"
      ]
     },
     "metadata": {},
     "output_type": "display_data"
    }
   ],
   "source": [
    "plt.plot(torch.stack(losses).detach().cpu()[200:])"
   ]
  },
  {
   "cell_type": "code",
   "execution_count": 29,
   "id": "8372ee6a",
   "metadata": {},
   "outputs": [
    {
     "name": "stdout",
     "output_type": "stream",
     "text": [
      "torch.Size([256, 50, 5, 5]) torch.Size([256, 50, 10, 5, 5])\n"
     ]
    },
    {
     "ename": "RuntimeError",
     "evalue": "The size of tensor a (50) must match the size of tensor b (10) at non-singleton dimension 2",
     "output_type": "error",
     "traceback": [
      "\u001b[0;31m---------------------------------------------------------------------------\u001b[0m",
      "\u001b[0;31mRuntimeError\u001b[0m                              Traceback (most recent call last)",
      "\u001b[0;32m/tmp/ipykernel_520190/1338907146.py\u001b[0m in \u001b[0;36m<module>\u001b[0;34m\u001b[0m\n\u001b[1;32m      4\u001b[0m     \u001b[0mreg_dev\u001b[0m \u001b[0;34m=\u001b[0m \u001b[0mregressor_for_X\u001b[0m\u001b[0;34m(\u001b[0m\u001b[0mbatch_X\u001b[0m\u001b[0;34m,\u001b[0m \u001b[0;36m1\u001b[0m\u001b[0;34m,\u001b[0m\u001b[0mdevice\u001b[0m\u001b[0;34m)\u001b[0m\u001b[0;34m\u001b[0m\u001b[0;34m\u001b[0m\u001b[0m\n\u001b[1;32m      5\u001b[0m     \u001b[0mprint\u001b[0m\u001b[0;34m(\u001b[0m\u001b[0mreg_dev\u001b[0m\u001b[0;34m.\u001b[0m\u001b[0mshape\u001b[0m\u001b[0;34m,\u001b[0m \u001b[0mbatch_X_dev\u001b[0m\u001b[0;34m.\u001b[0m\u001b[0mshape\u001b[0m\u001b[0;34m)\u001b[0m\u001b[0;34m\u001b[0m\u001b[0;34m\u001b[0m\u001b[0m\n\u001b[0;32m----> 6\u001b[0;31m     \u001b[0mregressor_loss\u001b[0m \u001b[0;34m=\u001b[0m \u001b[0mreg_dev\u001b[0m \u001b[0;34m-\u001b[0m \u001b[0mbatch_X_dev\u001b[0m\u001b[0;34m\u001b[0m\u001b[0;34m\u001b[0m\u001b[0m\n\u001b[0m",
      "\u001b[0;31mRuntimeError\u001b[0m: The size of tensor a (50) must match the size of tensor b (10) at non-singleton dimension 2"
     ]
    }
   ],
   "source": [
    "with torch.no_grad():\n",
    "    batch_X = next(iter(train_X_dl))\n",
    "    batch_X_dev = next(iter(train_X_dev_dl))\n",
    "    reg_dev = regressor_for_X(batch_X, 1,device)\n",
    "    print(reg_dev.shape, batch_X_dev.shape)\n",
    "    regressor_loss = reg_dev - batch_X_dev[]"
   ]
  },
  {
   "cell_type": "code",
   "execution_count": 41,
   "id": "fb90ee4f",
   "metadata": {},
   "outputs": [
    {
     "data": {
      "text/plain": [
       "torch.Size([256, 50, 5, 5])"
      ]
     },
     "execution_count": 41,
     "metadata": {},
     "output_type": "execute_result"
    }
   ],
   "source": [
    "regressor_loss.shape"
   ]
  },
  {
   "cell_type": "code",
   "execution_count": 50,
   "id": "cb791a6b",
   "metadata": {},
   "outputs": [
    {
     "data": {
      "text/plain": [
       "tensor(0.3863, device='cuda:0')"
      ]
     },
     "execution_count": 50,
     "metadata": {},
     "output_type": "execute_result"
    }
   ],
   "source": [
    "(torch.norm(regressor_loss, dim=(2,3))/torch.norm(reg_dev, dim=(2,3))).mean()"
   ]
  },
  {
   "cell_type": "code",
   "execution_count": null,
   "id": "f2444c70",
   "metadata": {},
   "outputs": [],
   "source": [
    "class high_order_PCFGAN_trainer():\n",
    "    def __init__(self, G, regressor_X, lie_degree_1, lie_degree_2, add_time = True, device = 'cuda'):\n",
    "        super(high_order_PCFGAN_trainer, self).__init__()\n",
    "        \"\"\" Generator base class. All generators should be children of this class. \"\"\"\n",
    "        self.device = device\n",
    "        self.regressor_X = regressor_X\n",
    "        self.regressor_X.to(device)\n",
    "\n",
    "        self.G = G\n",
    "        self.G.to(device)\n",
    "        self.lie_degree_1 = lie_degree_1\n",
    "        self.add_time = add_time\n",
    "        self.num_samples_2 = 10\n",
    "        self.lie_degree_2 = 5\n",
    "        self.pcf_level_2 = char_func_path(num_samples=self.num_samples_2, \n",
    "                                      hidden_size=self.lie_degree_2, \n",
    "                                      input_dim=2*self.lie_degree_1**2, \n",
    "                                      add_time=add_time, \n",
    "                                      include_initial = False,\n",
    "                                      return_sequence=False)\n",
    "        self.pcf_level_2.to(device)\n",
    "        \n",
    "    \n",
    "    def train_M(self, X_dl, X_n_dl):\n",
    "        iterations = 10000\n",
    "        best_loss = 0.\n",
    "        \n",
    "        char_2_optimizer = torch.optim.Adam(self.pcf_level_2.parameters(), betas=(0, 0.9), lr=0.002)\n",
    "        \n",
    "        print('start opitmize charateristics function')\n",
    "        self.regressor_X.eval()\n",
    "        self.regressor_X_n.eval()\n",
    "        self.pcf_level_2.train()\n",
    "        for i in tqdm(range(iterations)):\n",
    "            \n",
    "            X = next(iter(X_dl))\n",
    "            X_n = next(iter(X_n_dl))\n",
    "            with torch.no_grad():\n",
    "                exp_dev_X = self.regressor_X(X, self.device).reshape([-1, X.shape[1], self.lie_degree_1**2])\n",
    "                exp_dev_Y = self.regressor_X_n(X_n, self.device).reshape([-1, X_n.shape[1], self.lie_degree_1**2])\n",
    "                \n",
    "                exp_dev_X = torch.cat([exp_dev_X.real, exp_dev_X.imag],-1)\n",
    "                exp_dev_Y = torch.cat([exp_dev_Y.real, exp_dev_Y.imag],-1)\n",
    "\n",
    "            char_2_optimizer.zero_grad()\n",
    "            char_loss = - self.pcf_level_2.distance_measure(exp_dev_X, exp_dev_Y, Lambda=0)\n",
    "            if -char_loss > best_loss:\n",
    "                print(\"Loss updated: {}\".format(-char_loss))\n",
    "                best_loss = -char_loss\n",
    "            if i%100 == 0:\n",
    "                print(\"Iteration {} :\".format(i), \" loss = {}\".format(-char_loss))\n",
    "            char_loss.backward()\n",
    "            char_2_optimizer.step()\n",
    "    \n",
    "    def evaluate(self, X_dl, X_n_dl):\n",
    "        self.pcf_level_2.eval()\n",
    "        self.regressor_X.eval()\n",
    "        self.regressor_X_n.eval()\n",
    "        repeats = 100\n",
    "        MMD_1 = np.zeros((repeats))\n",
    "        MMD_2 = np.zeros((repeats))\n",
    "        with torch.no_grad():\n",
    "            for i in tqdm(range(repeats)):\n",
    "                X = next(iter(X_dl))\n",
    "                X_n = next(iter(X_n_dl))\n",
    "                exp_dev_X = self.regressor_X(X, self.device).reshape([-1, X.shape[1], self.lie_degree_1**2])\n",
    "                exp_dev_X_ = self.regressor_X(X_, self.device).reshape([-1, X.shape[1], self.lie_degree_1**2])\n",
    "                exp_dev_Y = self.regressor_X_n(X_n, self.device).reshape([-1, X_n.shape[1], self.lie_degree_1**2])\n",
    "\n",
    "                exp_dev_X = torch.cat([exp_dev_X.real, exp_dev_X.imag],-1)\n",
    "                exp_dev_Y = torch.cat([exp_dev_Y.real, exp_dev_Y.imag],-1)\n",
    "                exp_dev_X_ = torch.cat([exp_dev_X_.real, exp_dev_X_.imag],-1)\n",
    "                \n",
    "                MMD_1[i] = self.pcf_level_2.distance_measure(exp_dev_X, exp_dev_X_, Lambda=0)\n",
    "                MMD_2[i] = self.pcf_level_2.distance_measure(exp_dev_X, exp_dev_Y, Lambda=0)\n",
    "        return MMD_1, MMD_2"
   ]
  }
 ],
 "metadata": {
  "kernelspec": {
   "display_name": "levy",
   "language": "python",
   "name": "levy"
  },
  "language_info": {
   "codemirror_mode": {
    "name": "ipython",
    "version": 3
   },
   "file_extension": ".py",
   "mimetype": "text/x-python",
   "name": "python",
   "nbconvert_exporter": "python",
   "pygments_lexer": "ipython3",
   "version": "3.9.13"
  }
 },
 "nbformat": 4,
 "nbformat_minor": 5
}
