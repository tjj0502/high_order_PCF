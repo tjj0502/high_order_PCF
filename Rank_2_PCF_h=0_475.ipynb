{
 "cells": [
  {
   "cell_type": "code",
   "execution_count": 1,
   "id": "dfce127c",
   "metadata": {},
   "outputs": [],
   "source": [
    "import torch\n",
    "import numpy as np\n",
    "import matplotlib.pyplot as plt\n",
    "from tqdm.notebook import tqdm\n",
    "# import higherOrderKME\n",
    "# from higherOrderKME import sigkernel\n",
    "import Path_Char\n",
    "from Path_Char.path_characteristic_function import char_func_path\n",
    "from Path_Char.model import LSTMRegressor, LSTMRegressor_with_M, LSTMRegressor_with_M_2\n",
    "from Path_Char.utils import AddTime\n",
    "from torch.utils.data import DataLoader, Dataset\n",
    "from Path_Char.high_level_pcf import expected_dev\n",
    "import ml_collections\n",
    "from torch.distributions import Bernoulli\n",
    "import seaborn as sns\n",
    "import os\n",
    "from fbm import FBM\n",
    "os.environ[\"CUDA_VISIBLE_DEVICES\"] = \"0\"\n",
    "sns.set()\n",
    "torch.manual_seed(0)\n",
    "device = 'cuda'"
   ]
  },
  {
   "cell_type": "code",
   "execution_count": 2,
   "id": "306e44d3",
   "metadata": {},
   "outputs": [],
   "source": [
    "def FBM_data(num_samples, dim, length, h):\n",
    "    fbm_paths = []\n",
    "    for i in range(num_samples*dim):\n",
    "        f = FBM(n=length, hurst=h, method='daviesharte')\n",
    "        fbm_paths.append(f.fbm())\n",
    "    data = torch.FloatTensor(np.array(fbm_paths)).reshape(\n",
    "        num_samples, dim, length+1).permute(0, 2, 1)\n",
    "    return data"
   ]
  },
  {
   "cell_type": "code",
   "execution_count": 3,
   "id": "94eb890d",
   "metadata": {},
   "outputs": [],
   "source": [
    "# Construct fbm path with different Hurst parameter\n",
    "\n",
    "samples = 20000\n",
    "steps = 50\n",
    "\n",
    "bm = FBM_data(samples, dim=3, length=steps, h=0.5)\n",
    "fbm_h = FBM_data(samples, dim=3, length=steps, h=0.475)\n",
    "\n",
    "bm_test = FBM_data(4000, dim=3, length=steps, h=0.5)\n",
    "fbm_h_test = FBM_data(4000, dim=3, length=steps, h=0.475)\n",
    "\n",
    "fbm_h = fbm_h.to(device)\n",
    "bm = bm.to(device)\n",
    "fbm_h_test = fbm_h_test.to(device)\n",
    "bm_test = bm_test.to(device)"
   ]
  },
  {
   "cell_type": "code",
   "execution_count": 4,
   "id": "7660158c",
   "metadata": {},
   "outputs": [],
   "source": [
    "config = {'G_input_dim': 4,\n",
    "          'G_hidden_dim': 128,\n",
    "          'G_num_layers': 2,\n",
    "          'G_output_dim': 5}\n",
    "config = ml_collections.ConfigDict(config)"
   ]
  },
  {
   "cell_type": "code",
   "execution_count": 5,
   "id": "5d653ad2",
   "metadata": {},
   "outputs": [],
   "source": [
    "# Construct rank 1 pcf discriminator\n",
    "input_dim = fbm_h.shape[-1]\n",
    "num_samples_1 = 1\n",
    "lie_degree_1 = 5\n",
    "pcf_level_1 = char_func_path(num_samples=num_samples_1,\n",
    "                             hidden_size=lie_degree_1,\n",
    "                             input_dim= input_dim,\n",
    "                             add_time=True,\n",
    "                             include_initial=False,\n",
    "                             return_sequence=False).to(device)"
   ]
  },
  {
   "cell_type": "code",
   "execution_count": 6,
   "id": "970eeb08",
   "metadata": {},
   "outputs": [],
   "source": [
    "M = pcf_level_1.unitary_development.projection.A"
   ]
  },
  {
   "cell_type": "code",
   "execution_count": 7,
   "id": "581f4179",
   "metadata": {},
   "outputs": [],
   "source": [
    "def construct_future_dev_path(pcf, path, steps):\n",
    "    with torch.no_grad():\n",
    "        lie_degree = pcf.degree\n",
    "        N, T, D = path.shape\n",
    "        dev_list = []\n",
    "        for step in range(steps):\n",
    "            if step == steps-1:\n",
    "                dev = torch.eye(lie_degree).repeat(N, 1, 1, 1).to(dtype=dev_list[0].dtype, device=dev_list[0].device)\n",
    "                dev_list.append(dev)\n",
    "            else:\n",
    "                dev_list.append(pcf.unitary_development(path[:, step:]))\n",
    "    return torch.cat(dev_list, dim = 1)\n",
    "\n",
    "def construct_past_dev_path(pcf, path, steps):\n",
    "    with torch.no_grad():\n",
    "        lie_degree = pcf.degree\n",
    "        N, T, D = path.shape\n",
    "        dev_list = []\n",
    "        for step in range(1, steps+1):\n",
    "            if step == 1:\n",
    "                dev = torch.eye(lie_degree).repeat(N, 1, 1, 1)\n",
    "                dev_list.append(dev)\n",
    "            else:\n",
    "                dev_list.append(pcf.unitary_development(path[:, :step]))\n",
    "        dev_list[0] = dev_list[0].to(dtype=dev_list[-1].dtype, device=dev_list[-1].device)\n",
    "    return torch.cat(dev_list, dim = 1)\n",
    "\n",
    "class XYZDataset(Dataset):\n",
    "    def __init__(self, X, Y, Z):\n",
    "        self.X = X\n",
    "        self.Y = Y\n",
    "        self.Z = Z\n",
    "\n",
    "    def __len__(self):\n",
    "        return len(self.X)\n",
    "\n",
    "    def __getitem__(self, index):\n",
    "        return self.X[index], self.Y[index], self.Z[index]\n",
    "    \n",
    "class XYDataset(Dataset):\n",
    "    def __init__(self, X, Y):\n",
    "        self.X = X\n",
    "        self.Y = Y\n",
    "        self.shape = X.shape\n",
    "\n",
    "    def __len__(self):\n",
    "        return len(self.X)\n",
    "\n",
    "    def __getitem__(self, index):\n",
    "        return self.X[index], self.Y[index]"
   ]
  },
  {
   "cell_type": "code",
   "execution_count": 8,
   "id": "7402ceef",
   "metadata": {},
   "outputs": [],
   "source": [
    "batch_size = 1024\n",
    "\n",
    "with torch.no_grad():\n",
    "    future_dev_path_X = construct_future_dev_path(pcf_level_1, AddTime(bm).to(device), steps+1)\n",
    "    future_dev_path_Y = construct_future_dev_path(pcf_level_1, AddTime(fbm_h).to(device), steps+1)\n",
    "    future_dev_path_X_test = construct_future_dev_path(pcf_level_1, AddTime(bm_test).to(device), steps+1)\n",
    "    future_dev_path_Y_test = construct_future_dev_path(pcf_level_1, AddTime(fbm_h_test).to(device), steps+1)\n",
    "#     future_dev_path_X = pcf_level_1.unitary_development(AddTime(bm).to(device)).repeat([1, steps+1, 1, 1])\n",
    "#     future_dev_path_Y = pcf_level_1.unitary_development(AddTime(fbm_h).to(device)).repeat([1, steps+1, 1, 1])\n",
    "#     future_dev_path_X_test = pcf_level_1.unitary_development(AddTime(bm_test).to(device)).repeat([1, steps+1, 1, 1])\n",
    "#     future_dev_path_Y_test = pcf_level_1.unitary_development(AddTime(fbm_h_test).to(device)).repeat([1, steps+1, 1, 1])\n",
    "    \n",
    "    past_dev_path_X = construct_past_dev_path(pcf_level_1, AddTime(bm).to(device), steps+1)\n",
    "    past_dev_path_Y = construct_past_dev_path(pcf_level_1, AddTime(fbm_h).to(device), steps+1)\n",
    "    past_dev_path_X_test = construct_past_dev_path(pcf_level_1, AddTime(bm_test).to(device), steps+1)\n",
    "    past_dev_path_Y_test = construct_past_dev_path(pcf_level_1, AddTime(fbm_h_test).to(device), steps+1)\n",
    "\n",
    "\n",
    "\"\"\"\n",
    "Regression dataset\n",
    "\"\"\"\n",
    "train_reg_X_ds = XYDataset(AddTime(bm), future_dev_path_X)\n",
    "train_reg_Y_ds = XYDataset(AddTime(fbm_h), future_dev_path_Y)\n",
    "test_reg_X_ds = XYDataset(AddTime(bm_test), future_dev_path_X_test)\n",
    "test_reg_Y_ds = XYDataset(AddTime(fbm_h_test), future_dev_path_Y_test)\n",
    "train_test_reg_X_ds = XYDataset(torch.cat([AddTime(bm), AddTime(bm_test)]), torch.cat([future_dev_path_X, future_dev_path_X_test]))\n",
    "train_test_reg_Y_ds = XYDataset(torch.cat([AddTime(fbm_h), AddTime(fbm_h_test)]), torch.cat([future_dev_path_Y, future_dev_path_Y_test]))\n",
    "joint_train_reg_ds = XYDataset(torch.cat([AddTime(bm), AddTime(fbm_h)]), torch.cat([future_dev_path_X, future_dev_path_Y]))\n",
    "\n",
    "train_reg_X_dl = DataLoader(train_reg_X_ds, batch_size, shuffle=True)\n",
    "train_reg_Y_dl = DataLoader(train_reg_Y_ds, batch_size, shuffle=True)\n",
    "test_reg_X_dl = DataLoader(test_reg_X_ds, batch_size, shuffle=True)\n",
    "test_reg_Y_dl = DataLoader(test_reg_Y_ds, batch_size, shuffle=True)\n",
    "train_test_reg_X_dl = DataLoader(train_test_reg_X_ds, batch_size, shuffle=True)\n",
    "train_test_reg_Y_dl = DataLoader(train_test_reg_Y_ds, batch_size, shuffle=True)\n",
    "joint_train_reg_dl = DataLoader(joint_train_reg_ds, batch_size, shuffle=True)\n",
    "\n",
    "\n",
    "\"\"\"\n",
    "PCF dataset\n",
    "\"\"\"\n",
    "train_pcf_X_ds = XYDataset(AddTime(bm), past_dev_path_X)\n",
    "train_pcf_Y_ds = XYDataset(AddTime(fbm_h), past_dev_path_Y)\n",
    "test_pcf_X_ds = XYDataset(AddTime(bm_test), past_dev_path_X_test)\n",
    "test_pcf_Y_ds = XYDataset(AddTime(fbm_h_test), past_dev_path_Y_test)\n",
    "\n",
    "\n",
    "train_pcf_X_dl = DataLoader(train_pcf_X_ds, batch_size, shuffle=True)\n",
    "train_pcf_Y_dl = DataLoader(train_pcf_Y_ds, batch_size, shuffle=True)\n",
    "test_pcf_X_dl = DataLoader(test_pcf_X_ds, batch_size, shuffle=True)\n",
    "test_pcf_Y_dl = DataLoader(test_pcf_Y_ds, batch_size, shuffle=True)\n",
    " "
   ]
  },
  {
   "cell_type": "code",
   "execution_count": 9,
   "id": "02479683",
   "metadata": {},
   "outputs": [
    {
     "data": {
      "text/plain": [
       "tensor([[[-8.9407e-08+5.2154e-08j,  2.9802e-08+9.1270e-08j,\n",
       "           1.1921e-07-5.9605e-08j,  2.9802e-08+5.9605e-08j,\n",
       "          -1.4901e-08-5.9605e-08j],\n",
       "         [-4.4703e-08+5.8673e-08j,  0.0000e+00+4.4703e-08j,\n",
       "           1.1921e-07-2.9802e-08j, -1.1176e-08-2.3842e-07j,\n",
       "           0.0000e+00-5.9605e-08j],\n",
       "         [ 5.9605e-08+1.6764e-07j, -5.9605e-08-5.9605e-08j,\n",
       "           1.4901e-08-7.2643e-08j,  2.9802e-08-2.9802e-08j,\n",
       "           1.4901e-07+0.0000e+00j],\n",
       "         [-1.4901e-08+8.9407e-08j, -1.4901e-07+4.0978e-08j,\n",
       "           1.4901e-07+7.4506e-08j,  5.9605e-08+1.1921e-07j,\n",
       "          -5.9605e-08+2.9802e-08j],\n",
       "         [ 5.9605e-08-5.9605e-08j,  1.4901e-08-5.9605e-08j,\n",
       "           1.4901e-07+5.0291e-08j,  1.6764e-08+1.4901e-08j,\n",
       "          -7.4506e-08-5.9605e-08j]]], device='cuda:0')"
      ]
     },
     "execution_count": 9,
     "metadata": {},
     "output_type": "execute_result"
    }
   ],
   "source": [
    "idx = 42\n",
    "(past_dev_path_X_test[idx:idx+1] @ future_dev_path_X_test[idx:idx+1])[:,32] - (past_dev_path_X_test[idx:idx+1] @ future_dev_path_X_test[idx:idx+1])[:,36]"
   ]
  },
  {
   "cell_type": "code",
   "execution_count": 9,
   "id": "f2c56fdd",
   "metadata": {
    "scrolled": false
   },
   "outputs": [
    {
     "data": {
      "text/plain": [
       "<All keys matched successfully>"
      ]
     },
     "execution_count": 9,
     "metadata": {},
     "output_type": "execute_result"
    }
   ],
   "source": [
    "regressor_for_X = LSTMRegressor(\n",
    "        input_dim=config.G_input_dim,\n",
    "        hidden_dim=config.G_hidden_dim,\n",
    "        output_dim=config.G_output_dim,\n",
    "        n_layers=config.G_num_layers\n",
    "    )\n",
    "regressor_for_X.to(device)\n",
    "\n",
    "regressor_for_Y = LSTMRegressor(\n",
    "        input_dim=config.G_input_dim,\n",
    "        hidden_dim=config.G_hidden_dim,\n",
    "        output_dim=config.G_output_dim,\n",
    "        n_layers=config.G_num_layers\n",
    "    )\n",
    "regressor_for_Y.to(device)\n",
    "\n",
    "regressor_for_Y.load_state_dict(regressor_for_X.state_dict())\n",
    "\n",
    "# regressor_for_X = LSTMRegressor_with_M_2(\n",
    "#         input_dim=config.G_input_dim,\n",
    "#         hidden_dim=config.G_hidden_dim,\n",
    "#         output_dim=config.G_output_dim,\n",
    "#         n_layers=config.G_num_layers,\n",
    "#         M = pcf_level_1.unitary_development.projection.A\n",
    "#     )\n",
    "# regressor_for_X.to(device)"
   ]
  },
  {
   "cell_type": "code",
   "execution_count": 11,
   "id": "5ecf00ba",
   "metadata": {},
   "outputs": [
    {
     "name": "stdout",
     "output_type": "stream",
     "text": [
      "tensor([[[[0.+0.j, 0.+0.j, 0.+0.j, 0.+0.j, 0.+0.j],\n",
      "          [0.+0.j, 0.+0.j, 0.+0.j, 0.+0.j, 0.+0.j],\n",
      "          [0.+0.j, 0.+0.j, 0.+0.j, 0.+0.j, 0.+0.j],\n",
      "          [0.+0.j, 0.+0.j, 0.+0.j, 0.+0.j, 0.+0.j],\n",
      "          [0.+0.j, 0.+0.j, 0.+0.j, 0.+0.j, 0.+0.j]],\n",
      "\n",
      "         [[0.+0.j, 0.+0.j, 0.+0.j, 0.+0.j, 0.+0.j],\n",
      "          [0.+0.j, 0.+0.j, 0.+0.j, 0.+0.j, 0.+0.j],\n",
      "          [0.+0.j, 0.+0.j, 0.+0.j, 0.+0.j, 0.+0.j],\n",
      "          [0.+0.j, 0.+0.j, 0.+0.j, 0.+0.j, 0.+0.j],\n",
      "          [0.+0.j, 0.+0.j, 0.+0.j, 0.+0.j, 0.+0.j]],\n",
      "\n",
      "         [[0.+0.j, 0.+0.j, 0.+0.j, 0.+0.j, 0.+0.j],\n",
      "          [0.+0.j, 0.+0.j, 0.+0.j, 0.+0.j, 0.+0.j],\n",
      "          [0.+0.j, 0.+0.j, 0.+0.j, 0.+0.j, 0.+0.j],\n",
      "          [0.+0.j, 0.+0.j, 0.+0.j, 0.+0.j, 0.+0.j],\n",
      "          [0.+0.j, 0.+0.j, 0.+0.j, 0.+0.j, 0.+0.j]],\n",
      "\n",
      "         ...,\n",
      "\n",
      "         [[0.+0.j, 0.+0.j, 0.+0.j, 0.+0.j, 0.+0.j],\n",
      "          [0.+0.j, 0.+0.j, 0.+0.j, 0.+0.j, 0.+0.j],\n",
      "          [0.+0.j, 0.+0.j, 0.+0.j, 0.+0.j, 0.+0.j],\n",
      "          [0.+0.j, 0.+0.j, 0.+0.j, 0.+0.j, 0.+0.j],\n",
      "          [0.+0.j, 0.+0.j, 0.+0.j, 0.+0.j, 0.+0.j]],\n",
      "\n",
      "         [[0.+0.j, 0.+0.j, 0.+0.j, 0.+0.j, 0.+0.j],\n",
      "          [0.+0.j, 0.+0.j, 0.+0.j, 0.+0.j, 0.+0.j],\n",
      "          [0.+0.j, 0.+0.j, 0.+0.j, 0.+0.j, 0.+0.j],\n",
      "          [0.+0.j, 0.+0.j, 0.+0.j, 0.+0.j, 0.+0.j],\n",
      "          [0.+0.j, 0.+0.j, 0.+0.j, 0.+0.j, 0.+0.j]],\n",
      "\n",
      "         [[0.+0.j, 0.+0.j, 0.+0.j, 0.+0.j, 0.+0.j],\n",
      "          [0.+0.j, 0.+0.j, 0.+0.j, 0.+0.j, 0.+0.j],\n",
      "          [0.+0.j, 0.+0.j, 0.+0.j, 0.+0.j, 0.+0.j],\n",
      "          [0.+0.j, 0.+0.j, 0.+0.j, 0.+0.j, 0.+0.j],\n",
      "          [0.+0.j, 0.+0.j, 0.+0.j, 0.+0.j, 0.+0.j]]],\n",
      "\n",
      "\n",
      "        [[[0.+0.j, 0.+0.j, 0.+0.j, 0.+0.j, 0.+0.j],\n",
      "          [0.+0.j, 0.+0.j, 0.+0.j, 0.+0.j, 0.+0.j],\n",
      "          [0.+0.j, 0.+0.j, 0.+0.j, 0.+0.j, 0.+0.j],\n",
      "          [0.+0.j, 0.+0.j, 0.+0.j, 0.+0.j, 0.+0.j],\n",
      "          [0.+0.j, 0.+0.j, 0.+0.j, 0.+0.j, 0.+0.j]],\n",
      "\n",
      "         [[0.+0.j, 0.+0.j, 0.+0.j, 0.+0.j, 0.+0.j],\n",
      "          [0.+0.j, 0.+0.j, 0.+0.j, 0.+0.j, 0.+0.j],\n",
      "          [0.+0.j, 0.+0.j, 0.+0.j, 0.+0.j, 0.+0.j],\n",
      "          [0.+0.j, 0.+0.j, 0.+0.j, 0.+0.j, 0.+0.j],\n",
      "          [0.+0.j, 0.+0.j, 0.+0.j, 0.+0.j, 0.+0.j]],\n",
      "\n",
      "         [[0.+0.j, 0.+0.j, 0.+0.j, 0.+0.j, 0.+0.j],\n",
      "          [0.+0.j, 0.+0.j, 0.+0.j, 0.+0.j, 0.+0.j],\n",
      "          [0.+0.j, 0.+0.j, 0.+0.j, 0.+0.j, 0.+0.j],\n",
      "          [0.+0.j, 0.+0.j, 0.+0.j, 0.+0.j, 0.+0.j],\n",
      "          [0.+0.j, 0.+0.j, 0.+0.j, 0.+0.j, 0.+0.j]],\n",
      "\n",
      "         ...,\n",
      "\n",
      "         [[0.+0.j, 0.+0.j, 0.+0.j, 0.+0.j, 0.+0.j],\n",
      "          [0.+0.j, 0.+0.j, 0.+0.j, 0.+0.j, 0.+0.j],\n",
      "          [0.+0.j, 0.+0.j, 0.+0.j, 0.+0.j, 0.+0.j],\n",
      "          [0.+0.j, 0.+0.j, 0.+0.j, 0.+0.j, 0.+0.j],\n",
      "          [0.+0.j, 0.+0.j, 0.+0.j, 0.+0.j, 0.+0.j]],\n",
      "\n",
      "         [[0.+0.j, 0.+0.j, 0.+0.j, 0.+0.j, 0.+0.j],\n",
      "          [0.+0.j, 0.+0.j, 0.+0.j, 0.+0.j, 0.+0.j],\n",
      "          [0.+0.j, 0.+0.j, 0.+0.j, 0.+0.j, 0.+0.j],\n",
      "          [0.+0.j, 0.+0.j, 0.+0.j, 0.+0.j, 0.+0.j],\n",
      "          [0.+0.j, 0.+0.j, 0.+0.j, 0.+0.j, 0.+0.j]],\n",
      "\n",
      "         [[0.+0.j, 0.+0.j, 0.+0.j, 0.+0.j, 0.+0.j],\n",
      "          [0.+0.j, 0.+0.j, 0.+0.j, 0.+0.j, 0.+0.j],\n",
      "          [0.+0.j, 0.+0.j, 0.+0.j, 0.+0.j, 0.+0.j],\n",
      "          [0.+0.j, 0.+0.j, 0.+0.j, 0.+0.j, 0.+0.j],\n",
      "          [0.+0.j, 0.+0.j, 0.+0.j, 0.+0.j, 0.+0.j]]],\n",
      "\n",
      "\n",
      "        [[[0.+0.j, 0.+0.j, 0.+0.j, 0.+0.j, 0.+0.j],\n",
      "          [0.+0.j, 0.+0.j, 0.+0.j, 0.+0.j, 0.+0.j],\n",
      "          [0.+0.j, 0.+0.j, 0.+0.j, 0.+0.j, 0.+0.j],\n",
      "          [0.+0.j, 0.+0.j, 0.+0.j, 0.+0.j, 0.+0.j],\n",
      "          [0.+0.j, 0.+0.j, 0.+0.j, 0.+0.j, 0.+0.j]],\n",
      "\n",
      "         [[0.+0.j, 0.+0.j, 0.+0.j, 0.+0.j, 0.+0.j],\n",
      "          [0.+0.j, 0.+0.j, 0.+0.j, 0.+0.j, 0.+0.j],\n",
      "          [0.+0.j, 0.+0.j, 0.+0.j, 0.+0.j, 0.+0.j],\n",
      "          [0.+0.j, 0.+0.j, 0.+0.j, 0.+0.j, 0.+0.j],\n",
      "          [0.+0.j, 0.+0.j, 0.+0.j, 0.+0.j, 0.+0.j]],\n",
      "\n",
      "         [[0.+0.j, 0.+0.j, 0.+0.j, 0.+0.j, 0.+0.j],\n",
      "          [0.+0.j, 0.+0.j, 0.+0.j, 0.+0.j, 0.+0.j],\n",
      "          [0.+0.j, 0.+0.j, 0.+0.j, 0.+0.j, 0.+0.j],\n",
      "          [0.+0.j, 0.+0.j, 0.+0.j, 0.+0.j, 0.+0.j],\n",
      "          [0.+0.j, 0.+0.j, 0.+0.j, 0.+0.j, 0.+0.j]],\n",
      "\n",
      "         ...,\n",
      "\n",
      "         [[0.+0.j, 0.+0.j, 0.+0.j, 0.+0.j, 0.+0.j],\n",
      "          [0.+0.j, 0.+0.j, 0.+0.j, 0.+0.j, 0.+0.j],\n",
      "          [0.+0.j, 0.+0.j, 0.+0.j, 0.+0.j, 0.+0.j],\n",
      "          [0.+0.j, 0.+0.j, 0.+0.j, 0.+0.j, 0.+0.j],\n",
      "          [0.+0.j, 0.+0.j, 0.+0.j, 0.+0.j, 0.+0.j]],\n",
      "\n",
      "         [[0.+0.j, 0.+0.j, 0.+0.j, 0.+0.j, 0.+0.j],\n",
      "          [0.+0.j, 0.+0.j, 0.+0.j, 0.+0.j, 0.+0.j],\n",
      "          [0.+0.j, 0.+0.j, 0.+0.j, 0.+0.j, 0.+0.j],\n",
      "          [0.+0.j, 0.+0.j, 0.+0.j, 0.+0.j, 0.+0.j],\n",
      "          [0.+0.j, 0.+0.j, 0.+0.j, 0.+0.j, 0.+0.j]],\n",
      "\n",
      "         [[0.+0.j, 0.+0.j, 0.+0.j, 0.+0.j, 0.+0.j],\n",
      "          [0.+0.j, 0.+0.j, 0.+0.j, 0.+0.j, 0.+0.j],\n",
      "          [0.+0.j, 0.+0.j, 0.+0.j, 0.+0.j, 0.+0.j],\n",
      "          [0.+0.j, 0.+0.j, 0.+0.j, 0.+0.j, 0.+0.j],\n",
      "          [0.+0.j, 0.+0.j, 0.+0.j, 0.+0.j, 0.+0.j]]],\n",
      "\n",
      "\n",
      "        ...,\n",
      "\n",
      "\n",
      "        [[[0.+0.j, 0.+0.j, 0.+0.j, 0.+0.j, 0.+0.j],\n",
      "          [0.+0.j, 0.+0.j, 0.+0.j, 0.+0.j, 0.+0.j],\n",
      "          [0.+0.j, 0.+0.j, 0.+0.j, 0.+0.j, 0.+0.j],\n",
      "          [0.+0.j, 0.+0.j, 0.+0.j, 0.+0.j, 0.+0.j],\n",
      "          [0.+0.j, 0.+0.j, 0.+0.j, 0.+0.j, 0.+0.j]],\n",
      "\n",
      "         [[0.+0.j, 0.+0.j, 0.+0.j, 0.+0.j, 0.+0.j],\n",
      "          [0.+0.j, 0.+0.j, 0.+0.j, 0.+0.j, 0.+0.j],\n",
      "          [0.+0.j, 0.+0.j, 0.+0.j, 0.+0.j, 0.+0.j],\n",
      "          [0.+0.j, 0.+0.j, 0.+0.j, 0.+0.j, 0.+0.j],\n",
      "          [0.+0.j, 0.+0.j, 0.+0.j, 0.+0.j, 0.+0.j]],\n",
      "\n",
      "         [[0.+0.j, 0.+0.j, 0.+0.j, 0.+0.j, 0.+0.j],\n",
      "          [0.+0.j, 0.+0.j, 0.+0.j, 0.+0.j, 0.+0.j],\n",
      "          [0.+0.j, 0.+0.j, 0.+0.j, 0.+0.j, 0.+0.j],\n",
      "          [0.+0.j, 0.+0.j, 0.+0.j, 0.+0.j, 0.+0.j],\n",
      "          [0.+0.j, 0.+0.j, 0.+0.j, 0.+0.j, 0.+0.j]],\n",
      "\n",
      "         ...,\n",
      "\n",
      "         [[0.+0.j, 0.+0.j, 0.+0.j, 0.+0.j, 0.+0.j],\n",
      "          [0.+0.j, 0.+0.j, 0.+0.j, 0.+0.j, 0.+0.j],\n",
      "          [0.+0.j, 0.+0.j, 0.+0.j, 0.+0.j, 0.+0.j],\n",
      "          [0.+0.j, 0.+0.j, 0.+0.j, 0.+0.j, 0.+0.j],\n",
      "          [0.+0.j, 0.+0.j, 0.+0.j, 0.+0.j, 0.+0.j]],\n",
      "\n",
      "         [[0.+0.j, 0.+0.j, 0.+0.j, 0.+0.j, 0.+0.j],\n",
      "          [0.+0.j, 0.+0.j, 0.+0.j, 0.+0.j, 0.+0.j],\n",
      "          [0.+0.j, 0.+0.j, 0.+0.j, 0.+0.j, 0.+0.j],\n",
      "          [0.+0.j, 0.+0.j, 0.+0.j, 0.+0.j, 0.+0.j],\n",
      "          [0.+0.j, 0.+0.j, 0.+0.j, 0.+0.j, 0.+0.j]],\n",
      "\n",
      "         [[0.+0.j, 0.+0.j, 0.+0.j, 0.+0.j, 0.+0.j],\n",
      "          [0.+0.j, 0.+0.j, 0.+0.j, 0.+0.j, 0.+0.j],\n",
      "          [0.+0.j, 0.+0.j, 0.+0.j, 0.+0.j, 0.+0.j],\n",
      "          [0.+0.j, 0.+0.j, 0.+0.j, 0.+0.j, 0.+0.j],\n",
      "          [0.+0.j, 0.+0.j, 0.+0.j, 0.+0.j, 0.+0.j]]],\n",
      "\n",
      "\n",
      "        [[[0.+0.j, 0.+0.j, 0.+0.j, 0.+0.j, 0.+0.j],\n",
      "          [0.+0.j, 0.+0.j, 0.+0.j, 0.+0.j, 0.+0.j],\n",
      "          [0.+0.j, 0.+0.j, 0.+0.j, 0.+0.j, 0.+0.j],\n",
      "          [0.+0.j, 0.+0.j, 0.+0.j, 0.+0.j, 0.+0.j],\n",
      "          [0.+0.j, 0.+0.j, 0.+0.j, 0.+0.j, 0.+0.j]],\n",
      "\n",
      "         [[0.+0.j, 0.+0.j, 0.+0.j, 0.+0.j, 0.+0.j],\n",
      "          [0.+0.j, 0.+0.j, 0.+0.j, 0.+0.j, 0.+0.j],\n",
      "          [0.+0.j, 0.+0.j, 0.+0.j, 0.+0.j, 0.+0.j],\n",
      "          [0.+0.j, 0.+0.j, 0.+0.j, 0.+0.j, 0.+0.j],\n",
      "          [0.+0.j, 0.+0.j, 0.+0.j, 0.+0.j, 0.+0.j]],\n",
      "\n",
      "         [[0.+0.j, 0.+0.j, 0.+0.j, 0.+0.j, 0.+0.j],\n",
      "          [0.+0.j, 0.+0.j, 0.+0.j, 0.+0.j, 0.+0.j],\n",
      "          [0.+0.j, 0.+0.j, 0.+0.j, 0.+0.j, 0.+0.j],\n",
      "          [0.+0.j, 0.+0.j, 0.+0.j, 0.+0.j, 0.+0.j],\n",
      "          [0.+0.j, 0.+0.j, 0.+0.j, 0.+0.j, 0.+0.j]],\n",
      "\n",
      "         ...,\n",
      "\n",
      "         [[0.+0.j, 0.+0.j, 0.+0.j, 0.+0.j, 0.+0.j],\n",
      "          [0.+0.j, 0.+0.j, 0.+0.j, 0.+0.j, 0.+0.j],\n",
      "          [0.+0.j, 0.+0.j, 0.+0.j, 0.+0.j, 0.+0.j],\n",
      "          [0.+0.j, 0.+0.j, 0.+0.j, 0.+0.j, 0.+0.j],\n",
      "          [0.+0.j, 0.+0.j, 0.+0.j, 0.+0.j, 0.+0.j]],\n",
      "\n",
      "         [[0.+0.j, 0.+0.j, 0.+0.j, 0.+0.j, 0.+0.j],\n",
      "          [0.+0.j, 0.+0.j, 0.+0.j, 0.+0.j, 0.+0.j],\n",
      "          [0.+0.j, 0.+0.j, 0.+0.j, 0.+0.j, 0.+0.j],\n",
      "          [0.+0.j, 0.+0.j, 0.+0.j, 0.+0.j, 0.+0.j],\n",
      "          [0.+0.j, 0.+0.j, 0.+0.j, 0.+0.j, 0.+0.j]],\n",
      "\n",
      "         [[0.+0.j, 0.+0.j, 0.+0.j, 0.+0.j, 0.+0.j],\n",
      "          [0.+0.j, 0.+0.j, 0.+0.j, 0.+0.j, 0.+0.j],\n",
      "          [0.+0.j, 0.+0.j, 0.+0.j, 0.+0.j, 0.+0.j],\n",
      "          [0.+0.j, 0.+0.j, 0.+0.j, 0.+0.j, 0.+0.j],\n",
      "          [0.+0.j, 0.+0.j, 0.+0.j, 0.+0.j, 0.+0.j]]],\n",
      "\n",
      "\n",
      "        [[[0.+0.j, 0.+0.j, 0.+0.j, 0.+0.j, 0.+0.j],\n",
      "          [0.+0.j, 0.+0.j, 0.+0.j, 0.+0.j, 0.+0.j],\n",
      "          [0.+0.j, 0.+0.j, 0.+0.j, 0.+0.j, 0.+0.j],\n",
      "          [0.+0.j, 0.+0.j, 0.+0.j, 0.+0.j, 0.+0.j],\n",
      "          [0.+0.j, 0.+0.j, 0.+0.j, 0.+0.j, 0.+0.j]],\n",
      "\n",
      "         [[0.+0.j, 0.+0.j, 0.+0.j, 0.+0.j, 0.+0.j],\n",
      "          [0.+0.j, 0.+0.j, 0.+0.j, 0.+0.j, 0.+0.j],\n",
      "          [0.+0.j, 0.+0.j, 0.+0.j, 0.+0.j, 0.+0.j],\n",
      "          [0.+0.j, 0.+0.j, 0.+0.j, 0.+0.j, 0.+0.j],\n",
      "          [0.+0.j, 0.+0.j, 0.+0.j, 0.+0.j, 0.+0.j]],\n",
      "\n",
      "         [[0.+0.j, 0.+0.j, 0.+0.j, 0.+0.j, 0.+0.j],\n",
      "          [0.+0.j, 0.+0.j, 0.+0.j, 0.+0.j, 0.+0.j],\n",
      "          [0.+0.j, 0.+0.j, 0.+0.j, 0.+0.j, 0.+0.j],\n",
      "          [0.+0.j, 0.+0.j, 0.+0.j, 0.+0.j, 0.+0.j],\n",
      "          [0.+0.j, 0.+0.j, 0.+0.j, 0.+0.j, 0.+0.j]],\n",
      "\n",
      "         ...,\n",
      "\n",
      "         [[0.+0.j, 0.+0.j, 0.+0.j, 0.+0.j, 0.+0.j],\n",
      "          [0.+0.j, 0.+0.j, 0.+0.j, 0.+0.j, 0.+0.j],\n",
      "          [0.+0.j, 0.+0.j, 0.+0.j, 0.+0.j, 0.+0.j],\n",
      "          [0.+0.j, 0.+0.j, 0.+0.j, 0.+0.j, 0.+0.j],\n",
      "          [0.+0.j, 0.+0.j, 0.+0.j, 0.+0.j, 0.+0.j]],\n",
      "\n",
      "         [[0.+0.j, 0.+0.j, 0.+0.j, 0.+0.j, 0.+0.j],\n",
      "          [0.+0.j, 0.+0.j, 0.+0.j, 0.+0.j, 0.+0.j],\n",
      "          [0.+0.j, 0.+0.j, 0.+0.j, 0.+0.j, 0.+0.j],\n",
      "          [0.+0.j, 0.+0.j, 0.+0.j, 0.+0.j, 0.+0.j],\n",
      "          [0.+0.j, 0.+0.j, 0.+0.j, 0.+0.j, 0.+0.j]],\n",
      "\n",
      "         [[0.+0.j, 0.+0.j, 0.+0.j, 0.+0.j, 0.+0.j],\n",
      "          [0.+0.j, 0.+0.j, 0.+0.j, 0.+0.j, 0.+0.j],\n",
      "          [0.+0.j, 0.+0.j, 0.+0.j, 0.+0.j, 0.+0.j],\n",
      "          [0.+0.j, 0.+0.j, 0.+0.j, 0.+0.j, 0.+0.j],\n",
      "          [0.+0.j, 0.+0.j, 0.+0.j, 0.+0.j, 0.+0.j]]]], device='cuda:0')\n"
     ]
    }
   ],
   "source": [
    "x = torch.randn([10, 50 ,4])\n",
    "with torch.no_grad():\n",
    "    x_ = regressor_for_X(x, device)\n",
    "    y = regressor_for_Y(x, device)\n",
    "print(x_ - y)"
   ]
  },
  {
   "cell_type": "code",
   "execution_count": 10,
   "id": "6226adcb",
   "metadata": {},
   "outputs": [],
   "source": [
    "def train_regressor(regressor, iterations, X_dl, X_test_dl):\n",
    "    best_loss = 10000.\n",
    "    loss = []\n",
    "    test_loss = []\n",
    "    regressor_optimizer = torch.optim.Adam(regressor.parameters(), betas=(0, 0.9), lr=0.001)\n",
    "    regressor.train()\n",
    "    for i in tqdm(range(iterations)):\n",
    "        regressor_optimizer.zero_grad()\n",
    "        batch_X, batch_X_dev = next(iter(X_dl))\n",
    "#         batch_X_dev = next(iter(Y_dl))\n",
    "#         print(batch_X.shape, batch_X_dev.shape)\n",
    "        reg_dev = regressor(batch_X, device)\n",
    "#         print(reg_dev.shape, batch_X_dev.shape)\n",
    "        \n",
    "        regressor_loss = torch.norm(reg_dev - batch_X_dev, dim = (2,3)).sum(1).mean()\n",
    "        loss.append(regressor_loss.item())\n",
    "        if regressor_loss < best_loss:\n",
    "            print(\"Loss updated: {}\".format(regressor_loss), \" at iteration {}\".format(i))\n",
    "#             with torch.no_grad():\n",
    "#                 print(torch.norm(reg_dev - batch_X_dev, dim = [2,3]).mean(0))\n",
    "            best_loss = regressor_loss\n",
    "            trained_regressor = regressor\n",
    "            \n",
    "            \n",
    "        regressor_loss.backward()\n",
    "        regressor_optimizer.step()\n",
    "        \n",
    "        if i%50 == 0:\n",
    "            with torch.no_grad():\n",
    "                regressor.eval()\n",
    "                batch_X_test, batch_X_dev_test = next(iter(X_test_dl))\n",
    "                reg_dev = regressor(batch_X_test, device)\n",
    "    #         print(reg_dev.shape, batch_X_dev.shape)\n",
    "\n",
    "                regressor_loss = torch.norm(reg_dev - batch_X_dev_test, dim = (2,3)).sum(1).mean()\n",
    "                test_loss.append(regressor_loss.item())\n",
    "                regressor.train()\n",
    "    \n",
    "    return trained_regressor, loss, test_loss\n",
    "\n",
    "\n",
    "\n",
    "def joint_training(regressor_X, regressor_Y, iterations, X_dl, Y_dl):\n",
    "    best_loss_X = 10000.\n",
    "    best_loss_Y = 10000.\n",
    "    loss = {\"R1_loss\": [], \"R2_loss\": [], \"R1X_R2X\": [], \"R1Y_R2Y\":[]}\n",
    "    regressor_optimizer_X = torch.optim.Adam(regressor_X.parameters(), betas=(0, 0.9), lr=0.001)\n",
    "    regressor_optimizer_Y = torch.optim.Adam(regressor_Y.parameters(), betas=(0, 0.9), lr=0.001)\n",
    "    regressor_X.train()\n",
    "    regressor_Y.train()\n",
    "    for i in tqdm(range(iterations)):\n",
    "        regressor_optimizer_X.zero_grad()\n",
    "        regressor_optimizer_Y.zero_grad()\n",
    "        batch_X, batch_X_dev = next(iter(X_dl))\n",
    "#         batch_X_dev = next(iter(Y_dl))\n",
    "#         print(batch_X.shape, batch_X_dev.shape)\n",
    "        reg_dev_X = regressor_X(batch_X, device)\n",
    "#         print(reg_dev.shape, batch_X_dev.shape)\n",
    "        \n",
    "        regressor_loss_X = torch.norm(reg_dev_X - batch_X_dev, dim = (2,3)).sum(1).mean()\n",
    "        loss[\"R1_loss\"].append(regressor_loss_X.item())\n",
    "        if regressor_loss_X < best_loss_X:\n",
    "            print(\"Loss updated: {}\".format(regressor_loss_X), \" at iteration {}\".format(i))\n",
    "#             with torch.no_grad():\n",
    "#                 print(torch.norm(reg_dev - batch_X_dev, dim = [2,3]).mean(0))\n",
    "            best_loss_X = regressor_loss_X\n",
    "            trained_regressor_X = regressor_X\n",
    "\n",
    "        regressor_loss_X.backward()\n",
    "        regressor_optimizer_X.step()\n",
    "        \n",
    "        \n",
    "        batch_Y, batch_Y_dev = next(iter(Y_dl))\n",
    "#         batch_X_dev = next(iter(Y_dl))\n",
    "#         print(batch_X.shape, batch_X_dev.shape)\n",
    "        reg_dev_Y = regressor_Y(batch_Y, device)\n",
    "#         print(reg_dev.shape, batch_X_dev.shape)\n",
    "        \n",
    "        regressor_loss_Y = torch.norm(reg_dev_Y - batch_Y_dev, dim = (2,3)).sum(1).mean()\n",
    "        loss[\"R2_loss\"].append(regressor_loss_Y.item())\n",
    "        if regressor_loss_Y < best_loss_Y:\n",
    "            print(\"Loss updated: {}\".format(regressor_loss_Y), \" at iteration {}\".format(i))\n",
    "#             with torch.no_grad():\n",
    "#                 print(torch.norm(reg_dev - batch_X_dev, dim = [2,3]).mean(0))\n",
    "            best_loss_Y = regressor_loss_Y\n",
    "            trained_regressor_Y = regressor_Y\n",
    "\n",
    "        regressor_loss_Y.backward()\n",
    "        regressor_optimizer_Y.step()\n",
    "        \n",
    "        \n",
    "        with torch.no_grad():\n",
    "            reg_dev_YX = regressor_Y(batch_X, device)\n",
    "            reg_dev_XY = regressor_X(batch_Y, device)\n",
    "            \n",
    "            regressor_loss_YX = torch.norm(reg_dev_X - reg_dev_YX, dim = (2,3)).sum(1).mean()\n",
    "            regressor_loss_XY = torch.norm(reg_dev_Y - reg_dev_XY, dim = (2,3)).sum(1).mean()\n",
    "            \n",
    "            loss[\"R1X_R2X\"].append(regressor_loss_YX.item())\n",
    "            loss[\"R1Y_R2Y\"].append(regressor_loss_XY.item())\n",
    "            \n",
    "    return trained_regressor_X, trained_regressor_Y, loss"
   ]
  },
  {
   "cell_type": "code",
   "execution_count": 11,
   "id": "a6443e3c",
   "metadata": {
    "scrolled": true
   },
   "outputs": [
    {
     "data": {
      "application/vnd.jupyter.widget-view+json": {
       "model_id": "73faac52cd544704a850517031f70231",
       "version_major": 2,
       "version_minor": 0
      },
      "text/plain": [
       "  0%|          | 0/2000 [00:00<?, ?it/s]"
      ]
     },
     "metadata": {},
     "output_type": "display_data"
    },
    {
     "name": "stdout",
     "output_type": "stream",
     "text": [
      "Loss updated: 142.38755798339844  at iteration 0\n",
      "Loss updated: 142.16062927246094  at iteration 0\n",
      "Loss updated: 133.67822265625  at iteration 1\n",
      "Loss updated: 134.1829833984375  at iteration 1\n",
      "Loss updated: 127.14029693603516  at iteration 2\n",
      "Loss updated: 127.81209564208984  at iteration 2\n",
      "Loss updated: 122.52617645263672  at iteration 3\n",
      "Loss updated: 122.39576721191406  at iteration 3\n",
      "Loss updated: 118.82571411132812  at iteration 4\n",
      "Loss updated: 119.09461212158203  at iteration 4\n",
      "Loss updated: 115.44454956054688  at iteration 5\n",
      "Loss updated: 115.61505126953125  at iteration 5\n",
      "Loss updated: 113.31763458251953  at iteration 6\n",
      "Loss updated: 113.65397644042969  at iteration 6\n",
      "Loss updated: 111.44656372070312  at iteration 7\n",
      "Loss updated: 111.80476379394531  at iteration 7\n",
      "Loss updated: 110.12630462646484  at iteration 8\n",
      "Loss updated: 110.84159851074219  at iteration 8\n",
      "Loss updated: 108.9363021850586  at iteration 9\n",
      "Loss updated: 110.32701110839844  at iteration 9\n",
      "Loss updated: 108.67520141601562  at iteration 10\n",
      "Loss updated: 109.44124603271484  at iteration 10\n",
      "Loss updated: 108.38552856445312  at iteration 11\n",
      "Loss updated: 109.43972778320312  at iteration 11\n",
      "Loss updated: 108.06061553955078  at iteration 12\n",
      "Loss updated: 108.72438049316406  at iteration 12\n",
      "Loss updated: 107.53089904785156  at iteration 13\n",
      "Loss updated: 108.4363021850586  at iteration 13\n",
      "Loss updated: 107.98373413085938  at iteration 14\n",
      "Loss updated: 107.16084289550781  at iteration 15\n",
      "Loss updated: 107.09959411621094  at iteration 15\n",
      "Loss updated: 107.13856506347656  at iteration 16\n",
      "Loss updated: 106.15438842773438  at iteration 17\n",
      "Loss updated: 107.05532836914062  at iteration 18\n",
      "Loss updated: 106.12248992919922  at iteration 19\n",
      "Loss updated: 106.82432556152344  at iteration 19\n",
      "Loss updated: 105.57752227783203  at iteration 20\n",
      "Loss updated: 106.7631607055664  at iteration 20\n",
      "Loss updated: 106.35816955566406  at iteration 21\n",
      "Loss updated: 105.50142669677734  at iteration 22\n",
      "Loss updated: 105.28622436523438  at iteration 23\n",
      "Loss updated: 106.01604461669922  at iteration 23\n",
      "Loss updated: 105.14098358154297  at iteration 24\n",
      "Loss updated: 105.05057525634766  at iteration 25\n",
      "Loss updated: 105.59806060791016  at iteration 25\n",
      "Loss updated: 105.41632080078125  at iteration 27\n",
      "Loss updated: 105.32530212402344  at iteration 28\n",
      "Loss updated: 104.44532775878906  at iteration 30\n",
      "Loss updated: 105.15616607666016  at iteration 33\n",
      "Loss updated: 104.23533630371094  at iteration 34\n",
      "Loss updated: 104.95553588867188  at iteration 34\n",
      "Loss updated: 103.91828155517578  at iteration 35\n",
      "Loss updated: 104.93440246582031  at iteration 35\n",
      "Loss updated: 104.75448608398438  at iteration 36\n",
      "Loss updated: 104.31794738769531  at iteration 37\n",
      "Loss updated: 103.62848663330078  at iteration 38\n",
      "Loss updated: 104.22575378417969  at iteration 38\n",
      "Loss updated: 103.58470916748047  at iteration 39\n",
      "Loss updated: 103.5637435913086  at iteration 41\n",
      "Loss updated: 103.16377258300781  at iteration 43\n",
      "Loss updated: 103.7506103515625  at iteration 45\n",
      "Loss updated: 102.62650299072266  at iteration 49\n",
      "Loss updated: 103.64378356933594  at iteration 53\n",
      "Loss updated: 103.45628356933594  at iteration 54\n",
      "Loss updated: 103.4541244506836  at iteration 60\n",
      "Loss updated: 102.58567810058594  at iteration 61\n",
      "Loss updated: 103.34703063964844  at iteration 61\n",
      "Loss updated: 102.05587005615234  at iteration 63\n",
      "Loss updated: 103.27767944335938  at iteration 65\n",
      "Loss updated: 103.12216186523438  at iteration 67\n",
      "Loss updated: 103.07267761230469  at iteration 68\n",
      "Loss updated: 102.01119232177734  at iteration 73\n",
      "Loss updated: 102.99607849121094  at iteration 79\n",
      "Loss updated: 102.95974731445312  at iteration 81\n",
      "Loss updated: 102.68739318847656  at iteration 83\n",
      "Loss updated: 101.885009765625  at iteration 84\n",
      "Loss updated: 101.76493072509766  at iteration 87\n",
      "Loss updated: 102.3713150024414  at iteration 89\n",
      "Loss updated: 102.2363052368164  at iteration 90\n",
      "Loss updated: 101.61746215820312  at iteration 97\n",
      "Loss updated: 101.59996795654297  at iteration 103\n",
      "Loss updated: 101.23690795898438  at iteration 107\n",
      "Loss updated: 102.21084594726562  at iteration 119\n",
      "Loss updated: 102.1467514038086  at iteration 131\n",
      "Loss updated: 101.2210693359375  at iteration 135\n",
      "Loss updated: 101.01071166992188  at iteration 159\n",
      "Loss updated: 101.98808288574219  at iteration 167\n",
      "Loss updated: 101.88119506835938  at iteration 169\n",
      "Loss updated: 101.8692855834961  at iteration 171\n",
      "Loss updated: 100.68890380859375  at iteration 179\n",
      "Loss updated: 101.56172180175781  at iteration 193\n",
      "Loss updated: 101.43885803222656  at iteration 251\n",
      "Loss updated: 100.6533203125  at iteration 255\n",
      "Loss updated: 100.61753845214844  at iteration 263\n",
      "Loss updated: 101.3968505859375  at iteration 263\n",
      "Loss updated: 100.5357666015625  at iteration 321\n",
      "Loss updated: 100.46846771240234  at iteration 383\n",
      "Loss updated: 101.24256896972656  at iteration 387\n",
      "Loss updated: 100.36180114746094  at iteration 395\n",
      "Loss updated: 101.11270141601562  at iteration 411\n",
      "Loss updated: 100.23312377929688  at iteration 503\n",
      "Loss updated: 100.12950897216797  at iteration 585\n",
      "Loss updated: 100.97974395751953  at iteration 623\n",
      "Loss updated: 100.8467025756836  at iteration 811\n",
      "Loss updated: 100.10603332519531  at iteration 1073\n",
      "Loss updated: 100.06317138671875  at iteration 1155\n",
      "Loss updated: 99.97639465332031  at iteration 1607\n",
      "Loss updated: 100.7984390258789  at iteration 1921\n"
     ]
    }
   ],
   "source": [
    "# trained_regressor_X, loss_X, test_loss_X = train_regressor(regressor_for_X, 10000, train_reg_X_dl, test_reg_X_dl)\n",
    "# trained_regressor_Y, loss_Y, test_loss_Y  = train_regressor(regressor_for_Y, 2000, train_test_reg_Y_dl, test_reg_Y_dl)\n",
    "trained_regressor_X, trained_regressor_Y, loss = joint_training(regressor_for_X, regressor_for_Y, 2000, train_reg_X_dl, train_reg_Y_dl)"
   ]
  },
  {
   "cell_type": "code",
   "execution_count": 12,
   "id": "4b885b37",
   "metadata": {
    "scrolled": false
   },
   "outputs": [
    {
     "data": {
      "image/png": "[encoded data removed]",
      "text/plain": [
       "<Figure size 640x480 with 1 Axes>"
      ]
     },
     "metadata": {},
     "output_type": "display_data"
    }
   ],
   "source": [
    "plt.plot(loss[\"R1_loss\"])\n",
    "plt.plot(loss[\"R2_loss\"])\n",
    "plt.plot(loss[\"R1X_R2X\"])\n",
    "plt.plot(loss[\"R1Y_R2Y\"])\n",
    "# plt.plot(loss_Y)\n",
    "plt.show()"
   ]
  },
  {
   "cell_type": "code",
   "execution_count": 23,
   "id": "49a8ed3a",
   "metadata": {},
   "outputs": [
    {
     "ename": "NameError",
     "evalue": "name 'loss_X' is not defined",
     "output_type": "error",
     "traceback": [
      "\u001b[0;31m---------------------------------------------------------------------------\u001b[0m",
      "\u001b[0;31mNameError\u001b[0m                                 Traceback (most recent call last)",
      "\u001b[0;32m/tmp/ipykernel_1738501/950518152.py\u001b[0m in \u001b[0;36m<module>\u001b[0;34m\u001b[0m\n\u001b[0;32m----> 1\u001b[0;31m \u001b[0mplt\u001b[0m\u001b[0;34m.\u001b[0m\u001b[0mplot\u001b[0m\u001b[0;34m(\u001b[0m\u001b[0mloss_X\u001b[0m\u001b[0;34m)\u001b[0m\u001b[0;34m\u001b[0m\u001b[0;34m\u001b[0m\u001b[0m\n\u001b[0m\u001b[1;32m      2\u001b[0m \u001b[0mplt\u001b[0m\u001b[0;34m.\u001b[0m\u001b[0mplot\u001b[0m\u001b[0;34m(\u001b[0m\u001b[0mtest_loss_X\u001b[0m\u001b[0;34m)\u001b[0m\u001b[0;34m\u001b[0m\u001b[0;34m\u001b[0m\u001b[0m\n",
      "\u001b[0;31mNameError\u001b[0m: name 'loss_X' is not defined"
     ]
    }
   ],
   "source": [
    "plt.plot(loss_X)\n",
    "plt.plot(test_loss_X)"
   ]
  },
  {
   "cell_type": "code",
   "execution_count": 29,
   "id": "2afba048",
   "metadata": {},
   "outputs": [],
   "source": [
    "class joint_expected_dev():\n",
    "\n",
    "    def __init__(self, regressor, lie_degree_1, lie_degree_2, num_samples_2, whole_dev=True, add_time=True, device='cuda'):\n",
    "        super(joint_expected_dev, self).__init__()\n",
    "        \"\"\" Generator base class. All generators should be children of this class. \"\"\"\n",
    "        self.device = device\n",
    "        self.regressor_X = regressor\n",
    "        self.regressor_X.to(device)\n",
    "        \n",
    "        self.whole_dev = whole_dev\n",
    "        self.lie_degree_1 = lie_degree_1\n",
    "        self.add_time = add_time\n",
    "        self.num_samples_2 = num_samples_2\n",
    "        self.lie_degree_2 = lie_degree_2\n",
    "        self.pcf_level_2 = char_func_path(num_samples=self.num_samples_2,\n",
    "                                          hidden_size=self.lie_degree_2,\n",
    "                                          input_dim=2 * self.lie_degree_1 ** 2,\n",
    "                                          add_time=add_time,\n",
    "                                          include_initial=False,\n",
    "                                          return_sequence=False)\n",
    "        self.pcf_level_2.to(device)\n",
    "\n",
    "\n",
    "\n",
    "    def train_M(self, X_dl, Y_dl, X_test_dl, Y_test_dl, iterations):\n",
    "        best_loss = 0.\n",
    "\n",
    "        char_2_optimizer = torch.optim.Adam(self.pcf_level_2.parameters(), betas=(0, 0.9), lr=0.02)\n",
    "        losses = {\"R1X_R2Y_loss\":[], \"Out-of-sample-loss\":[]}\n",
    "        print('start opitmize charateristics function')\n",
    "        self.regressor_X.eval()\n",
    "        self.pcf_level_2.train()\n",
    "        for i in tqdm(range(iterations)):\n",
    "\n",
    "            X, past_dev_X = next(iter(X_dl))\n",
    "            Y, past_dev_Y = next(iter(Y_dl))\n",
    "            with torch.no_grad():\n",
    "                if self.whole_dev:\n",
    "                    exp_dev_X = self.regressor_X(X, self.device)\n",
    "                    exp_dev_Y = self.regressor_X(Y, self.device)\n",
    "                    exp_dev_X = (past_dev_X @ exp_dev_X).reshape([-1, X.shape[1], self.lie_degree_1 ** 2])\n",
    "                    exp_dev_Y = (past_dev_Y @ exp_dev_Y).reshape([-1, X.shape[1], self.lie_degree_1 ** 2])\n",
    "                else:\n",
    "                    exp_dev_X = self.regressor_X(X, self.device).reshape([-1, X.shape[1], self.lie_degree_1 ** 2])\n",
    "                    exp_dev_Y = self.regressor_X(Y, self.device).reshape([-1, X.shape[1], self.lie_degree_1 ** 2])\n",
    "#                     exp_dev_X = past_dev_X.reshape([-1, X.shape[1], self.lie_degree_1 ** 2])\n",
    "#                     exp_dev_Y = past_dev_Y.reshape([-1, X.shape[1], self.lie_degree_1 ** 2])\n",
    "                    \n",
    "                exp_dev_X = torch.cat([exp_dev_X.real, exp_dev_X.imag], -1)\n",
    "                exp_dev_Y = torch.cat([exp_dev_Y.real, exp_dev_Y.imag], -1)\n",
    "            \n",
    "            \n",
    "                if i % 5 == 0:\n",
    "                    X_test, past_dev_X_test = next(iter(X_test_dl))\n",
    "                    Y_test, past_dev_Y_test = next(iter(Y_test_dl))\n",
    "                    \n",
    "                    if self.whole_dev:\n",
    "                        exp_dev_X_test = self.regressor_X(X_test, self.device)\n",
    "                        exp_dev_Y_test = self.regressor_X(Y_test, self.device)\n",
    "                        exp_dev_X_test = (past_dev_X_test @ exp_dev_X_test).reshape([-1, X.shape[1], self.lie_degree_1 ** 2])\n",
    "                        exp_dev_Y_test = (past_dev_Y_test @ exp_dev_Y_test).reshape([-1, X.shape[1], self.lie_degree_1 ** 2])\n",
    "                    else:\n",
    "                        exp_dev_X_test = self.regressor_X(X_test, self.device).reshape([-1, X.shape[1], self.lie_degree_1 ** 2])\n",
    "                        exp_dev_Y_test = self.regressor_X(Y_test, self.device).reshape([-1, X.shape[1], self.lie_degree_1 ** 2])\n",
    "#                         exp_dev_X_test = past_dev_X_test.reshape([-1, X.shape[1], self.lie_degree_1 ** 2])\n",
    "#                         exp_dev_Y_test = past_dev_Y_test.reshape([-1, X.shape[1], self.lie_degree_1 ** 2])\n",
    "                        \n",
    "                        \n",
    "                    exp_dev_X_test = torch.cat([exp_dev_X_test.real, exp_dev_X_test.imag], -1)\n",
    "                    exp_dev_Y_test = torch.cat([exp_dev_Y_test.real, exp_dev_Y_test.imag], -1)\n",
    "\n",
    "            char_2_optimizer.zero_grad()\n",
    "            char_loss = - self.pcf_level_2.distance_measure(exp_dev_X, exp_dev_Y, Lambda=0)\n",
    "            losses[\"R1X_R2Y_loss\"].append(-char_loss.item())\n",
    "            \n",
    "            with torch.no_grad():\n",
    "                if i % 5 == 0:\n",
    "                    \n",
    "                    char_loss_ = self.pcf_level_2.distance_measure(exp_dev_X_test, exp_dev_Y_test, Lambda=0)\n",
    "                    losses[\"Out-of-sample-loss\"].append(char_loss_.item())\n",
    "            \n",
    "            if -char_loss > best_loss:\n",
    "                print(\"Loss updated: {}\".format(-char_loss))\n",
    "                best_loss = -char_loss\n",
    "            if i % 100 == 0:\n",
    "                print(\"Iteration {} :\".format(i), \" loss = {}\".format(-char_loss))\n",
    "            char_loss.backward()\n",
    "            char_2_optimizer.step()\n",
    "        \n",
    "        return losses\n",
    "\n",
    "    def evaluate(self, X_dl, Y_dl):\n",
    "        self.pcf_level_2.eval()\n",
    "        self.regressor_X.eval()\n",
    "        repeats = 100\n",
    "        MMD_1 = np.zeros((repeats))\n",
    "        MMD_2 = np.zeros((repeats))\n",
    "        with torch.no_grad():\n",
    "            for i in tqdm(range(repeats)):\n",
    "                X, past_dev_X = next(iter(X_dl))\n",
    "                Y, past_dev_Y = next(iter(Y_dl))\n",
    "                X_, past_dev_X_ = next(iter(X_dl))\n",
    "                \n",
    "                if self.whole_dev:\n",
    "                    exp_dev_X = self.regressor_X(X, self.device)\n",
    "                    exp_dev_X_ = self.regressor_X(X_, self.device)\n",
    "                    exp_dev_Y = self.regressor_X(Y, self.device)\n",
    "                    exp_dev_X = (past_dev_X @ exp_dev_X).reshape([-1, X.shape[1], self.lie_degree_1 ** 2])\n",
    "                    exp_dev_X_ = (past_dev_X_ @ exp_dev_X_).reshape([-1, X.shape[1], self.lie_degree_1 ** 2])\n",
    "                    exp_dev_Y = (past_dev_Y @ exp_dev_Y).reshape([-1, X.shape[1], self.lie_degree_1 ** 2])\n",
    "                else:\n",
    "                    exp_dev_X = self.regressor_X(X, self.device).reshape([-1, X.shape[1], self.lie_degree_1 ** 2])\n",
    "                    exp_dev_X_ = self.regressor_X(X_, self.device).reshape([-1, X.shape[1], self.lie_degree_1 ** 2])\n",
    "                    exp_dev_Y = self.regressor_X(Y, self.device).reshape([-1, X.shape[1], self.lie_degree_1 ** 2])\n",
    "#                     exp_dev_X = past_dev_X.reshape([-1, X.shape[1], self.lie_degree_1 ** 2])\n",
    "#                     exp_dev_X_ = past_dev_X_.reshape([-1, X.shape[1], self.lie_degree_1 ** 2])\n",
    "#                     exp_dev_Y = past_dev_Y.reshape([-1, X.shape[1], self.lie_degree_1 ** 2])\n",
    "                \n",
    "                exp_dev_X = torch.cat([exp_dev_X.real, exp_dev_X.imag], -1)\n",
    "                exp_dev_Y = torch.cat([exp_dev_Y.real, exp_dev_Y.imag], -1)\n",
    "                exp_dev_X_ = torch.cat([exp_dev_X_.real, exp_dev_X_.imag], -1)\n",
    "                \n",
    "                if i == 0:\n",
    "                    print(exp_dev_X.shape, exp_dev_Y.shape, exp_dev_X_.shape)\n",
    "\n",
    "                MMD_1[i] = self.pcf_level_2.distance_measure(exp_dev_X, exp_dev_X_, Lambda=0)\n",
    "                MMD_2[i] = self.pcf_level_2.distance_measure(exp_dev_X, exp_dev_Y, Lambda=0)\n",
    "        self.print_hist(MMD_1, MMD_2)\n",
    "        return MMD_1, MMD_2\n",
    "    \n",
    "    \n",
    "    def permutation_test(self, X, Y, sample_size, num_permutations=500):\n",
    "        with torch.no_grad():\n",
    "            self.pcf_level_2.eval()\n",
    "            self.regressor_X.eval()\n",
    "\n",
    "#             X = self.subsample(X, sample_size).to(self.device)\n",
    "#             Y = self.subsample(Y, sample_size).to(self.device)\n",
    "\n",
    "            # print(t1)\n",
    "#             n, m = X.shape[0], Y.shape[0]\n",
    "#             combined = torch.cat([X, Y])\n",
    "            H0_stats = np.zeros((num_permutations))\n",
    "            H1_stats = np.zeros((num_permutations))\n",
    "\n",
    "            for i in tqdm(range(num_permutations)):\n",
    "                X_sample, past_dev_X = self.subsample(X, sample_size)\n",
    "                Y_sample, past_dev_Y = self.subsample(Y, sample_size)\n",
    "                \n",
    "                if self.whole_dev:\n",
    "                    exp_dev_X = self.regressor_X(X_sample, self.device)\n",
    "                    exp_dev_Y = self.regressor_X(Y_sample, self.device)\n",
    "                    exp_dev_X = (past_dev_X @ exp_dev_X).reshape([-1, X.shape[1], self.lie_degree_1 ** 2])\n",
    "                    exp_dev_Y = (past_dev_Y @ exp_dev_Y).reshape([-1, X.shape[1], self.lie_degree_1 ** 2])\n",
    "                else:\n",
    "                    exp_dev_X = self.regressor_X(X_sample, self.device).reshape([-1, X.shape[1], self.lie_degree_1 ** 2])\n",
    "                    exp_dev_Y = self.regressor_X(Y_sample, self.device).reshape([-1, X.shape[1], self.lie_degree_1 ** 2])\n",
    "#                     exp_dev_X = past_dev_X.reshape([-1, X.shape[1], self.lie_degree_1 ** 2])\n",
    "#                     exp_dev_Y = past_dev_Y.reshape([-1, X.shape[1], self.lie_degree_1 ** 2])\n",
    "                \n",
    "#                 exp_dev_X = self.regressor_X(X_sample, self.device).reshape([-1, X.shape[1], self.lie_degree_1 ** 2])\n",
    "#                 exp_dev_Y = self.regressor_X(Y_sample, self.device).reshape([-1, X.shape[1], self.lie_degree_1 ** 2])\n",
    "                \n",
    "#                 exp_dev_X = (past_dev_X @ exp_dev_X).reshape([-1, X.shape[1], self.lie_degree_1 ** 2])\n",
    "#                 exp_dev_Y = (past_dev_Y @ exp_dev_Y).reshape([-1, X.shape[1], self.lie_degree_1 ** 2])\n",
    "                \n",
    "                exp_dev_X = torch.cat([exp_dev_X.real, exp_dev_X.imag], -1)\n",
    "                exp_dev_Y = torch.cat([exp_dev_Y.real, exp_dev_Y.imag], -1)\n",
    "                if i == 0:\n",
    "                    print(exp_dev_X.shape, exp_dev_Y.shape)\n",
    "                n, m = exp_dev_X.shape[0], exp_dev_Y.shape[0]\n",
    "                combined = torch.cat([exp_dev_X, exp_dev_Y])\n",
    "                \n",
    "                \n",
    "                idx = torch.randperm(n + m)\n",
    "                H0_stats[i] = self.pcf_level_2.distance_measure(combined[idx[:n]], combined[idx[n:]],  Lambda=0)\n",
    "                H1_stats[i] = self.pcf_level_2.distance_measure(exp_dev_X, exp_dev_Y,  Lambda=0)\n",
    "            Q_a = np.quantile(np.array(H0_stats), q=0.95)\n",
    "            Q_b = np.quantile(np.array(H1_stats), q=0.05)\n",
    "\n",
    "            # print(statistics)\n",
    "            # print(np.array(statistics))\n",
    "            power = 1 - (Q_a > np.array(H1_stats)).sum() / num_permutations\n",
    "            type1_error = (Q_b < np.array(H0_stats)).sum() / num_permutations\n",
    "            \n",
    "            self.print_hist(H0_stats, H1_stats)\n",
    "        return power, type1_error, H0_stats, H1_stats\n",
    "\n",
    "    def subsample(self, data, sample_size):\n",
    "        idx = torch.randint(low=0, high=data.shape[0], size=[sample_size])\n",
    "        return data[idx]\n",
    "    \n",
    "    def print_hist(self, hist_1, hist_2):\n",
    "        fig, ax = plt.subplots(1,1,figsize=(15,5))\n",
    "\n",
    "        ax.hist(hist_1, bins=25, label='H_0',edgecolor='#E6E6E6')\n",
    "        ax.hist(hist_2, bins=25, label='H_A',edgecolor='#E6E6E6')\n",
    "\n",
    "        ax.legend(loc='upper right', ncol=2, fontsize=22)\n",
    "        ax.set_xlabel('D_1(X, Y)^2', labelpad=10)\n",
    "        ax.set_ylabel('Count', labelpad=10)\n",
    "\n",
    "        plt.tight_layout(pad=3.0)\n",
    "        # plt.savefig('MMD_binary_tex.pdf',bbox_inches='tight')\n",
    "        plt.show()\n",
    "        \n",
    "        \n",
    "class separate_expected_dev():\n",
    "\n",
    "    def __init__(self, regressor_X, regressor_Y, lie_degree_1, lie_degree_2, num_samples_2, whole_dev=True, add_time=True, device='cuda'):\n",
    "        super(separate_expected_dev, self).__init__()\n",
    "        \"\"\" Generator base class. All generators should be children of this class. \"\"\"\n",
    "        self.device = device\n",
    "        self.regressor_X = regressor_X\n",
    "        self.regressor_X.to(device)\n",
    "        self.regressor_Y = regressor_Y\n",
    "        self.regressor_Y.to(device)\n",
    "        \n",
    "        self.whole_dev = whole_dev\n",
    "        self.lie_degree_1 = lie_degree_1\n",
    "        self.add_time = add_time\n",
    "        self.num_samples_2 = num_samples_2\n",
    "        self.lie_degree_2 = lie_degree_2\n",
    "        self.pcf_level_2 = char_func_path(num_samples=self.num_samples_2,\n",
    "                                          hidden_size=self.lie_degree_2,\n",
    "                                          input_dim=2 * self.lie_degree_1 ** 2,\n",
    "                                          add_time=add_time,\n",
    "                                          include_initial=False,\n",
    "                                          return_sequence=False)\n",
    "        self.pcf_level_2.to(device)\n",
    "\n",
    "\n",
    "\n",
    "    def train_M(self, X_dl, Y_dl, X_test_dl, Y_test_dl, iterations):\n",
    "        best_loss = 0.\n",
    "\n",
    "        char_2_optimizer = torch.optim.Adam(self.pcf_level_2.parameters(), betas=(0, 0.9), lr=0.02)\n",
    "        losses = {\"R1X_R2Y_loss\":[], \"R1X_R2X_loss\":[], \"R1Y_R2Y_loss\":[], \"R1Y_R2X_loss\":[], \"Out-of-sample-loss\":[]}\n",
    "        print('start opitmize charateristics function')\n",
    "        self.regressor_X.eval()\n",
    "        self.regressor_Y.eval()\n",
    "        self.pcf_level_2.train()\n",
    "        for i in tqdm(range(iterations)):\n",
    "\n",
    "            X, past_dev_X = next(iter(X_dl))\n",
    "            Y, past_dev_Y = next(iter(Y_dl))\n",
    "            with torch.no_grad():\n",
    "                \n",
    "                if self.whole_dev:\n",
    "                    exp_dev_X = self.regressor_X(X, self.device)\n",
    "                    exp_dev_Y = self.regressor_Y(Y, self.device)\n",
    "                    exp_dev_X = (past_dev_X @ exp_dev_X).reshape([-1, X.shape[1], self.lie_degree_1 ** 2])\n",
    "                    exp_dev_Y = (past_dev_Y @ exp_dev_Y).reshape([-1, X.shape[1], self.lie_degree_1 ** 2])\n",
    "                else:\n",
    "                    exp_dev_X = self.regressor_X(X, self.device).reshape([-1, X.shape[1], self.lie_degree_1 ** 2])\n",
    "                    exp_dev_Y = self.regressor_Y(Y, self.device).reshape([-1, X.shape[1], self.lie_degree_1 ** 2])\n",
    "#                 print(past_dev_X.shape, exp_dev_X.shape)\n",
    "\n",
    "\n",
    "                exp_dev_X = torch.cat([exp_dev_X.real, exp_dev_X.imag], -1)\n",
    "                exp_dev_Y = torch.cat([exp_dev_Y.real, exp_dev_Y.imag], -1)\n",
    "#                 print(past_dev_X.shape, exp_dev_X.shape)\n",
    "                \n",
    "                if i % 5 == 0:\n",
    "                \n",
    "#                     exp_dev_XY = self.regressor_X(Y, self.device).reshape([-1, X.shape[1], self.lie_degree_1 ** 2])\n",
    "#                     exp_dev_YX = self.regressor_Y(X, self.device).reshape([-1, X.shape[1], self.lie_degree_1 ** 2])\n",
    "# #     #                 print(past_dev_X.shape, exp_dev_X.shape)\n",
    "#                     exp_dev_XY = (past_dev_Y @ exp_dev_XY).reshape([-1, X.shape[1], self.lie_degree_1 ** 2])\n",
    "#                     exp_dev_YX = (past_dev_X @ exp_dev_YX).reshape([-1, X.shape[1], self.lie_degree_1 ** 2])\n",
    "#                     exp_dev_XY = torch.cat([exp_dev_XY.real, exp_dev_XY.imag], -1)\n",
    "#                     exp_dev_YX = torch.cat([exp_dev_YX.real, exp_dev_YX.imag], -1)\n",
    "                    X_test, past_dev_X_test = next(iter(X_test_dl))\n",
    "                    Y_test, past_dev_Y_test = next(iter(Y_test_dl))\n",
    "                    \n",
    "                    \n",
    "                    if self.whole_dev:\n",
    "                        exp_dev_X_test = self.regressor_X(X_test, self.device)\n",
    "                        exp_dev_Y_test = self.regressor_Y(Y_test, self.device)\n",
    "                        exp_dev_X_test = (past_dev_X_test @ exp_dev_X_test).reshape([-1, X.shape[1], self.lie_degree_1 ** 2])\n",
    "                        exp_dev_Y_test = (past_dev_Y_test @ exp_dev_Y_test).reshape([-1, X.shape[1], self.lie_degree_1 ** 2])\n",
    "                        exp_dev_XY = self.regressor_X(Y, self.device)\n",
    "                        exp_dev_YX = self.regressor_Y(X, self.device)\n",
    "                        exp_dev_XY = (past_dev_Y @ exp_dev_XY).reshape([-1, X.shape[1], self.lie_degree_1 ** 2])\n",
    "                        exp_dev_YX = (past_dev_X @ exp_dev_YX).reshape([-1, X.shape[1], self.lie_degree_1 ** 2])\n",
    "                        \n",
    "                    else:\n",
    "                        exp_dev_X_test = self.regressor_X(X_test, self.device).reshape([-1, X.shape[1], self.lie_degree_1 ** 2])\n",
    "                        exp_dev_Y_test = self.regressor_Y(Y_test, self.device).reshape([-1, X.shape[1], self.lie_degree_1 ** 2])\n",
    "                        exp_dev_XY = self.regressor_X(Y, self.device).reshape([-1, X.shape[1], self.lie_degree_1 ** 2])\n",
    "                        exp_dev_YX = self.regressor_Y(X, self.device).reshape([-1, X.shape[1], self.lie_degree_1 ** 2])\n",
    "                        \n",
    "                    exp_dev_X_test = torch.cat([exp_dev_X_test.real, exp_dev_X_test.imag], -1)\n",
    "                    exp_dev_Y_test = torch.cat([exp_dev_Y_test.real, exp_dev_Y_test.imag], -1)\n",
    "                    exp_dev_XY = torch.cat([exp_dev_XY.real, exp_dev_XY.imag], -1)\n",
    "                    exp_dev_YX = torch.cat([exp_dev_YX.real, exp_dev_YX.imag], -1)\n",
    "                \n",
    "            char_2_optimizer.zero_grad()\n",
    "            char_loss = - self.pcf_level_2.distance_measure(exp_dev_X, exp_dev_Y, Lambda=0)\n",
    "            \n",
    "            \n",
    "            losses[\"R1X_R2Y_loss\"].append(-char_loss.item())\n",
    "            with torch.no_grad():\n",
    "                if i % 5 == 0:\n",
    "                    char_loss_ = self.pcf_level_2.distance_measure(exp_dev_XY, exp_dev_Y, Lambda=0)\n",
    "                    losses[\"R1Y_R2Y_loss\"].append(char_loss_.item())\n",
    "                    char_loss_ = self.pcf_level_2.distance_measure(exp_dev_X, exp_dev_YX, Lambda=0)\n",
    "                    losses[\"R1X_R2X_loss\"].append(char_loss_.item())\n",
    "                    char_loss_ = self.pcf_level_2.distance_measure(exp_dev_XY, exp_dev_YX, Lambda=0)\n",
    "                    losses[\"R1Y_R2X_loss\"].append(char_loss_.item())\n",
    "                    \n",
    "                    char_loss_ = self.pcf_level_2.distance_measure(exp_dev_X_test, exp_dev_Y_test, Lambda=0)\n",
    "                    losses[\"Out-of-sample-loss\"].append(char_loss_.item())\n",
    "                    \n",
    "                \n",
    "            if -char_loss > best_loss:\n",
    "                print(\"Loss updated: {}\".format(-char_loss))\n",
    "                best_loss = -char_loss\n",
    "            if i % 100 == 0:\n",
    "                print(\"Iteration {} :\".format(i), \" loss = {}\".format(-char_loss))\n",
    "            char_loss.backward()\n",
    "            char_2_optimizer.step()\n",
    "        \n",
    "        return losses\n",
    "\n",
    "    def evaluate(self, X_dl, Y_dl):\n",
    "        self.pcf_level_2.eval()\n",
    "        self.regressor_X.eval()\n",
    "        self.regressor_Y.eval()\n",
    "        repeats = 100\n",
    "        MMD_1 = np.zeros((repeats))\n",
    "        MMD_2 = np.zeros((repeats))\n",
    "        with torch.no_grad():\n",
    "            for i in tqdm(range(repeats)):\n",
    "                X, past_dev_X = next(iter(X_dl))\n",
    "                Y, past_dev_Y = next(iter(Y_dl))\n",
    "                X_, past_dev_X_ = next(iter(X_dl))\n",
    "                \n",
    "                \n",
    "                if self.whole_dev:\n",
    "                    exp_dev_X = self.regressor_X(X, self.device)\n",
    "                    exp_dev_X_ = self.regressor_X(X_, self.device)\n",
    "                    exp_dev_Y = self.regressor_Y(Y, self.device)\n",
    "                    exp_dev_X = (past_dev_X @ exp_dev_X).reshape([-1, X.shape[1], self.lie_degree_1 ** 2])\n",
    "                    exp_dev_X_ = (past_dev_X_ @ exp_dev_X_).reshape([-1, X.shape[1], self.lie_degree_1 ** 2])\n",
    "                    exp_dev_Y = (past_dev_Y @ exp_dev_Y).reshape([-1, X.shape[1], self.lie_degree_1 ** 2])\n",
    "                else:\n",
    "                    exp_dev_X = self.regressor_X(X, self.device).reshape([-1, X.shape[1], self.lie_degree_1 ** 2])\n",
    "                    exp_dev_X_ = self.regressor_X(X_, self.device).reshape([-1, X.shape[1], self.lie_degree_1 ** 2])\n",
    "                    exp_dev_Y = self.regressor_Y(Y, self.device).reshape([-1, X.shape[1], self.lie_degree_1 ** 2])\n",
    "\n",
    "                exp_dev_X = torch.cat([exp_dev_X.real, exp_dev_X.imag], -1)\n",
    "                exp_dev_Y = torch.cat([exp_dev_Y.real, exp_dev_Y.imag], -1)\n",
    "                exp_dev_X_ = torch.cat([exp_dev_X_.real, exp_dev_X_.imag], -1)\n",
    "\n",
    "                MMD_1[i] = self.pcf_level_2.distance_measure(exp_dev_X, exp_dev_X_, Lambda=0)\n",
    "                MMD_2[i] = self.pcf_level_2.distance_measure(exp_dev_X, exp_dev_Y, Lambda=0)\n",
    "        self.print_hist(MMD_1, MMD_2)\n",
    "        return MMD_1, MMD_2\n",
    "    \n",
    "    \n",
    "    def permutation_test(self, X, Y, sample_size, num_permutations=500):\n",
    "        with torch.no_grad():\n",
    "            self.pcf_level_2.eval()\n",
    "            self.regressor_X.eval()\n",
    "            self.regressor_Y.eval()\n",
    "#             X = self.subsample(X, sample_size).to(self.device)\n",
    "#             Y = self.subsample(Y, sample_size).to(self.device)\n",
    "\n",
    "            # print(t1)\n",
    "#             n, m = X.shape[0], Y.shape[0]\n",
    "#             combined = torch.cat([X, Y])\n",
    "            H0_stats = np.zeros((num_permutations))\n",
    "            H1_stats = np.zeros((num_permutations))\n",
    "\n",
    "            for i in tqdm(range(num_permutations)):\n",
    "                X_sample, past_dev_X = self.subsample(X, sample_size)\n",
    "                Y_sample, past_dev_Y = self.subsample(Y, sample_size)\n",
    "                \n",
    "                \n",
    "                \n",
    "                \n",
    "                if self.whole_dev:\n",
    "                    exp_dev_X = self.regressor_X(X_sample, self.device)\n",
    "                    exp_dev_Y = self.regressor_Y(Y_sample, self.device)\n",
    "                    exp_dev_X = (past_dev_X @ exp_dev_X).reshape([-1, X.shape[1], self.lie_degree_1 ** 2])\n",
    "                    exp_dev_Y = (past_dev_Y @ exp_dev_Y).reshape([-1, X.shape[1], self.lie_degree_1 ** 2])\n",
    "                else:\n",
    "                    exp_dev_X = self.regressor_X(X_sample, self.device).reshape([-1, X.shape[1], self.lie_degree_1 ** 2])\n",
    "                    exp_dev_Y = self.regressor_Y(Y_sample, self.device).reshape([-1, X.shape[1], self.lie_degree_1 ** 2])\n",
    "                \n",
    "                exp_dev_X = torch.cat([exp_dev_X.real, exp_dev_X.imag], -1)\n",
    "                exp_dev_Y = torch.cat([exp_dev_Y.real, exp_dev_Y.imag], -1)\n",
    "                \n",
    "                n, m = exp_dev_X.shape[0], exp_dev_Y.shape[0]\n",
    "                combined = torch.cat([exp_dev_X, exp_dev_Y])\n",
    "                \n",
    "                \n",
    "                idx = torch.randperm(n + m)\n",
    "                H0_stats[i] = self.pcf_level_2.distance_measure(combined[idx[:n]], combined[idx[n:]],  Lambda=0)\n",
    "                H1_stats[i] = self.pcf_level_2.distance_measure(exp_dev_X, exp_dev_Y,  Lambda=0)\n",
    "            Q_a = np.quantile(np.array(H0_stats), q=0.95)\n",
    "            Q_b = np.quantile(np.array(H1_stats), q=0.05)\n",
    "\n",
    "            # print(statistics)\n",
    "            # print(np.array(statistics))\n",
    "            power = 1 - (Q_a > np.array(H1_stats)).sum() / num_permutations\n",
    "            type1_error = (Q_b < np.array(H0_stats)).sum() / num_permutations\n",
    "            \n",
    "            self.print_hist(H0_stats, H1_stats)\n",
    "        return power, type1_error, H0_stats, H1_stats\n",
    "\n",
    "    def subsample(self, data, sample_size):\n",
    "        idx = torch.randint(low=0, high=data.shape[0], size=[sample_size])\n",
    "        return data[idx]\n",
    "    \n",
    "\n",
    "    \n",
    "    def print_hist(self, hist_1, hist_2):\n",
    "        fig, ax = plt.subplots(1,1,figsize=(15,5))\n",
    "\n",
    "        ax.hist(hist_1, bins=25, label='H_0',edgecolor='#E6E6E6')\n",
    "        ax.hist(hist_2, bins=25, label='H_A',edgecolor='#E6E6E6')\n",
    "\n",
    "        ax.legend(loc='upper right', ncol=2, fontsize=22)\n",
    "        ax.set_xlabel('D_1(X, Y)^2', labelpad=10)\n",
    "        ax.set_ylabel('Count', labelpad=10)\n",
    "\n",
    "        plt.tight_layout(pad=3.0)\n",
    "        # plt.savefig('MMD_binary_tex.pdf',bbox_inches='tight')\n",
    "        plt.show()"
   ]
  },
  {
   "cell_type": "code",
   "execution_count": 30,
   "id": "fc58613b",
   "metadata": {},
   "outputs": [],
   "source": [
    "# expected_devx = joint_expected_dev(regressor = trained_regressor_X, \n",
    "#                              lie_degree_1 = 5, lie_degree_2 = 8, num_samples_2 = 10, whole_dev=False)\n",
    "\n",
    "expected_devx = separate_expected_dev(regressor_X = trained_regressor_X, regressor_Y = trained_regressor_Y, \n",
    "                             lie_degree_1 = 5, lie_degree_2 = 8, num_samples_2 = 10, whole_dev=True)"
   ]
  },
  {
   "cell_type": "code",
   "execution_count": 31,
   "id": "ea31f6b6",
   "metadata": {
    "scrolled": true
   },
   "outputs": [
    {
     "name": "stdout",
     "output_type": "stream",
     "text": [
      "start opitmize charateristics function\n"
     ]
    },
    {
     "data": {
      "application/vnd.jupyter.widget-view+json": {
       "model_id": "83756e1bbc0243fcafe8e9ad669c46cb",
       "version_major": 2,
       "version_minor": 0
      },
      "text/plain": [
       "  0%|          | 0/500 [00:00<?, ?it/s]"
      ]
     },
     "metadata": {},
     "output_type": "display_data"
    },
    {
     "name": "stdout",
     "output_type": "stream",
     "text": [
      "Loss updated: 0.015000852756202221\n",
      "Iteration 0 :  loss = 0.015000852756202221\n",
      "Loss updated: 0.015921050682663918\n",
      "Loss updated: 0.01601136289536953\n",
      "Loss updated: 0.016783038154244423\n",
      "Loss updated: 0.017614198848605156\n",
      "Loss updated: 0.017931973561644554\n",
      "Loss updated: 0.018334614112973213\n",
      "Loss updated: 0.019860876724123955\n",
      "Loss updated: 0.020022770389914513\n",
      "Loss updated: 0.02055935561656952\n",
      "Loss updated: 0.02132112719118595\n",
      "Loss updated: 0.022247014567255974\n",
      "Loss updated: 0.023006688803434372\n",
      "Loss updated: 0.023021293804049492\n",
      "Loss updated: 0.023834599182009697\n",
      "Loss updated: 0.023855198174715042\n",
      "Loss updated: 0.02459404058754444\n",
      "Loss updated: 0.025069210678339005\n",
      "Loss updated: 0.025569308549165726\n",
      "Loss updated: 0.025641804561018944\n",
      "Loss updated: 0.026579100638628006\n",
      "Loss updated: 0.02712092362344265\n",
      "Loss updated: 0.027559924870729446\n",
      "Loss updated: 0.029264647513628006\n",
      "Loss updated: 0.0294162817299366\n",
      "Loss updated: 0.02955196611583233\n",
      "Loss updated: 0.03079257346689701\n",
      "Loss updated: 0.030890321359038353\n",
      "Loss updated: 0.03124191239476204\n",
      "Loss updated: 0.031275004148483276\n",
      "Loss updated: 0.032291289418935776\n",
      "Iteration 100 :  loss = 0.032046839594841\n",
      "Loss updated: 0.033028341829776764\n",
      "Loss updated: 0.03444691002368927\n",
      "Loss updated: 0.03455027937889099\n",
      "Loss updated: 0.03562802076339722\n",
      "Loss updated: 0.03638136386871338\n",
      "Loss updated: 0.03732794523239136\n",
      "Loss updated: 0.03765338659286499\n",
      "Loss updated: 0.03866240009665489\n",
      "Loss updated: 0.03989223390817642\n",
      "Loss updated: 0.041257478296756744\n",
      "Loss updated: 0.0412791408598423\n",
      "Loss updated: 0.043674834072589874\n",
      "Loss updated: 0.04378262907266617\n",
      "Loss updated: 0.04410719871520996\n",
      "Loss updated: 0.04716433212161064\n",
      "Iteration 200 :  loss = 0.04674490913748741\n",
      "Loss updated: 0.0473676435649395\n",
      "Loss updated: 0.04754982516169548\n",
      "Loss updated: 0.048116836696863174\n",
      "Loss updated: 0.04906867817044258\n",
      "Loss updated: 0.049565184861421585\n",
      "Loss updated: 0.0496266633272171\n",
      "Loss updated: 0.049963127821683884\n",
      "Loss updated: 0.05068225413560867\n",
      "Loss updated: 0.05094461515545845\n",
      "Loss updated: 0.0515579953789711\n",
      "Loss updated: 0.052297987043857574\n",
      "Loss updated: 0.05403504520654678\n",
      "Loss updated: 0.05480669066309929\n",
      "Iteration 300 :  loss = 0.05354604125022888\n",
      "Loss updated: 0.05594715103507042\n",
      "Loss updated: 0.05611694976687431\n",
      "Loss updated: 0.05672689154744148\n",
      "Loss updated: 0.059122174978256226\n",
      "Loss updated: 0.0599023699760437\n",
      "Iteration 400 :  loss = 0.05591880902647972\n",
      "Loss updated: 0.06001380831003189\n",
      "Loss updated: 0.06041213497519493\n",
      "Loss updated: 0.06104818731546402\n",
      "Loss updated: 0.061418939381837845\n",
      "Loss updated: 0.06158517673611641\n",
      "Loss updated: 0.06322435289621353\n"
     ]
    }
   ],
   "source": [
    "losses = expected_devx.train_M(train_pcf_X_dl, train_pcf_Y_dl, test_pcf_X_dl, test_pcf_Y_dl, 500)"
   ]
  },
  {
   "cell_type": "code",
   "execution_count": 31,
   "id": "35d28229",
   "metadata": {},
   "outputs": [
    {
     "data": {
      "text/plain": [
       "dict_keys(['R1X_R2Y_loss', 'R1X_R2X_loss', 'R1Y_R2Y_loss', 'R1Y_R2X_loss', 'Out-of-sample-loss'])"
      ]
     },
     "execution_count": 31,
     "metadata": {},
     "output_type": "execute_result"
    }
   ],
   "source": [
    "losses.keys()"
   ]
  },
  {
   "cell_type": "code",
   "execution_count": 32,
   "id": "82de4ff5",
   "metadata": {},
   "outputs": [
    {
     "data": {
      "image/png": "[encoded data removed]",
      "text/plain": [
       "<Figure size 640x480 with 1 Axes>"
      ]
     },
     "metadata": {},
     "output_type": "display_data"
    }
   ],
   "source": [
    "plt.plot(losses['R1X_R2Y_loss'], label = \"R1X_R2Y_loss\")\n",
    "plt.legend()\n",
    "plt.show()"
   ]
  },
  {
   "cell_type": "code",
   "execution_count": 33,
   "id": "de037c31",
   "metadata": {},
   "outputs": [
    {
     "data": {
      "text/plain": [
       "[<matplotlib.lines.Line2D at 0x7f770647d9d0>]"
      ]
     },
     "execution_count": 33,
     "metadata": {},
     "output_type": "execute_result"
    },
    {
     "data": {
      "image/png": "[encoded data removed]",
      "text/plain": [
       "<Figure size 640x480 with 1 Axes>"
      ]
     },
     "metadata": {},
     "output_type": "display_data"
    }
   ],
   "source": [
    "plt.plot(losses['Out-of-sample-loss'], label = \"Out-of-sample-loss\")"
   ]
  },
  {
   "cell_type": "code",
   "execution_count": 34,
   "id": "d7bbdac1",
   "metadata": {},
   "outputs": [
    {
     "data": {
      "image/png": "[encoded data removed]",
      "text/plain": [
       "<Figure size 640x480 with 1 Axes>"
      ]
     },
     "metadata": {},
     "output_type": "display_data"
    }
   ],
   "source": [
    "plt.plot(losses['R1X_R2X_loss'], label = \"R1X_R2X_loss\")\n",
    "plt.plot(losses['R1Y_R2Y_loss'], label = \"R1Y_R2Y_loss\")\n",
    "plt.plot(losses['R1Y_R2X_loss'], label = \"R1Y_R2X_loss\")\n",
    "plt.legend()\n",
    "plt.show()"
   ]
  },
  {
   "cell_type": "code",
   "execution_count": 38,
   "id": "659b60ed",
   "metadata": {},
   "outputs": [
    {
     "data": {
      "application/vnd.jupyter.widget-view+json": {
       "model_id": "be875326e00245e1a8d144e9197e92cc",
       "version_major": 2,
       "version_minor": 0
      },
      "text/plain": [
       "  0%|          | 0/100 [00:00<?, ?it/s]"
      ]
     },
     "metadata": {},
     "output_type": "display_data"
    },
    {
     "data": {
      "image/png": "[encoded data removed]",
      "text/plain": [
       "<Figure size 1500x500 with 1 Axes>"
      ]
     },
     "metadata": {},
     "output_type": "display_data"
    }
   ],
   "source": [
    "MMD_1, MMD_2 = expected_devx.evaluate(test_pcf_X_dl, test_pcf_Y_dl)"
   ]
  },
  {
   "cell_type": "code",
   "execution_count": 24,
   "id": "29d35717",
   "metadata": {
    "scrolled": false
   },
   "outputs": [
    {
     "data": {
      "application/vnd.jupyter.widget-view+json": {
       "model_id": "7ae7bf3a6323435dbb2d8455db1cf7ff",
       "version_major": 2,
       "version_minor": 0
      },
      "text/plain": [
       "  0%|          | 0/500 [00:00<?, ?it/s]"
      ]
     },
     "metadata": {},
     "output_type": "display_data"
    },
    {
     "data": {
      "image/png": "[encoded data removed]",
      "text/plain": [
       "<Figure size 1500x500 with 1 Axes>"
      ]
     },
     "metadata": {},
     "output_type": "display_data"
    }
   ],
   "source": [
    "power, type1_error, H0_stats, H1_stats = expected_devx.permutation_test(test_pcf_X_ds, \n",
    "                                                                        test_pcf_Y_ds, \n",
    "                                                                        sample_size = 200, \n",
    "                                                                        num_permutations=500)"
   ]
  },
  {
   "cell_type": "code",
   "execution_count": 28,
   "id": "249cf6b3",
   "metadata": {},
   "outputs": [
    {
     "data": {
      "application/vnd.jupyter.widget-view+json": {
       "model_id": "f0505506d27d4380b5db81c039a0925e",
       "version_major": 2,
       "version_minor": 0
      },
      "text/plain": [
       "  0%|          | 0/500 [00:00<?, ?it/s]"
      ]
     },
     "metadata": {},
     "output_type": "display_data"
    },
    {
     "data": {
      "image/png": "[encoded data removed]",
      "text/plain": [
       "<Figure size 1500x500 with 1 Axes>"
      ]
     },
     "metadata": {},
     "output_type": "display_data"
    }
   ],
   "source": [
    "power, type1_error, H0_stats, H1_stats = expected_devx.permutation_test(train_pcf_X_ds, \n",
    "                                                                        train_pcf_Y_ds, \n",
    "                                                                        sample_size = 1000, \n",
    "                                                                        num_permutations=500)"
   ]
  },
  {
   "cell_type": "code",
   "execution_count": 25,
   "id": "6f24a049",
   "metadata": {},
   "outputs": [
    {
     "data": {
      "text/plain": [
       "0.30600000000000005"
      ]
     },
     "execution_count": 25,
     "metadata": {},
     "output_type": "execute_result"
    }
   ],
   "source": [
    "power"
   ]
  },
  {
   "cell_type": "code",
   "execution_count": 26,
   "id": "050d682b",
   "metadata": {},
   "outputs": [
    {
     "data": {
      "text/plain": [
       "0.68"
      ]
     },
     "execution_count": 26,
     "metadata": {},
     "output_type": "execute_result"
    }
   ],
   "source": [
    "type1_error"
   ]
  },
  {
   "cell_type": "code",
   "execution_count": 60,
   "id": "861a4461",
   "metadata": {},
   "outputs": [],
   "source": [
    "x_sample, x_dev_sample = next(iter(train_X_dl))\n",
    "reg_x = trained_regressor_X(x_sample, device)\n",
    "y_sample, y_dev_sample = next(iter(train_Y_dl))\n",
    "reg_y = trained_regressor_X(y_sample, device)"
   ]
  },
  {
   "cell_type": "code",
   "execution_count": 62,
   "id": "84011b0f",
   "metadata": {},
   "outputs": [
    {
     "data": {
      "text/plain": [
       "tensor(83.3753, device='cuda:0', grad_fn=<SumBackward0>)"
      ]
     },
     "execution_count": 62,
     "metadata": {},
     "output_type": "execute_result"
    }
   ],
   "source": [
    "torch.norm(reg_x - x_dev_sample, dim = (2,3)).mean(0).sum()"
   ]
  },
  {
   "cell_type": "code",
   "execution_count": 28,
   "id": "5fd697d3",
   "metadata": {},
   "outputs": [
    {
     "data": {
      "text/plain": [
       "tensor([2.2251, 2.2240, 2.2246, 2.2264, 2.2249, 2.2270, 2.2258, 2.2285, 2.2298,\n",
       "        2.2374, 2.2417, 2.2456, 2.2508, 2.2591, 2.2611, 2.2762, 2.2870, 2.2953,\n",
       "        2.3108, 2.3209, 2.3329, 2.3583, 2.3833, 2.4049, 2.4154, 2.4296, 2.4434,\n",
       "        2.4458, 2.4757, 2.5023, 2.5244, 2.5358, 2.5295, 2.5421, 2.5469, 2.5223,\n",
       "        2.5005, 2.5001, 2.4568, 2.4361, 2.3878, 2.3240, 2.2215, 2.1581, 2.0547,\n",
       "        1.9532, 1.8326, 1.5916, 1.2503, 0.8637, 0.1235], device='cuda:0',\n",
       "       grad_fn=<MeanBackward1>)"
      ]
     },
     "execution_count": 28,
     "metadata": {},
     "output_type": "execute_result"
    }
   ],
   "source": [
    "torch.norm(reg_y - y_dev_sample, dim = (2,3)).mean(0)"
   ]
  },
  {
   "cell_type": "code",
   "execution_count": 64,
   "id": "8ad1615f",
   "metadata": {},
   "outputs": [
    {
     "data": {
      "text/plain": [
       "tensor(59.2037, device='cuda:0', grad_fn=<SumBackward0>)"
      ]
     },
     "execution_count": 64,
     "metadata": {},
     "output_type": "execute_result"
    }
   ],
   "source": [
    "torch.norm(reg_x - reg_y, dim = (2,3)).mean(0).sum()"
   ]
  },
  {
   "cell_type": "code",
   "execution_count": 65,
   "id": "cb72b420",
   "metadata": {},
   "outputs": [
    {
     "data": {
      "text/plain": [
       "tensor(142.5012, device='cuda:0')"
      ]
     },
     "execution_count": 65,
     "metadata": {},
     "output_type": "execute_result"
    }
   ],
   "source": [
    "torch.norm(x_dev_sample - y_dev_sample, dim = (2,3)).mean(0)"
   ]
  },
  {
   "cell_type": "code",
   "execution_count": 37,
   "id": "61430987",
   "metadata": {},
   "outputs": [
    {
     "data": {
      "text/plain": [
       "tensor([5.4815, 5.4462, 5.3074, 5.4947, 5.4738, 5.4497, 5.3522, 5.4273, 5.4093,\n",
       "        5.4442, 5.4787, 5.4453, 5.3965, 5.4555, 5.4951, 5.4830, 5.4290, 5.4030,\n",
       "        5.3966, 5.3508, 5.4065, 5.3942, 5.4105, 5.5259, 5.3358, 5.4166, 5.5029,\n",
       "        5.4579, 5.4390, 5.4237, 5.4852, 5.4263, 5.5251, 5.5145, 5.3986, 5.4524,\n",
       "        5.3762, 5.4760, 5.5242, 5.4604, 5.4021, 5.4774, 5.4267, 5.3371, 5.3383,\n",
       "        5.5128, 5.4279, 5.3168, 5.3398, 5.4773, 5.3404], device='cuda:0')"
      ]
     },
     "execution_count": 37,
     "metadata": {},
     "output_type": "execute_result"
    }
   ],
   "source": [
    "torch.norm(torch.randn(reg_x.shape).to(device) - x_dev_sample, dim = (2,3)).mean(0)"
   ]
  },
  {
   "cell_type": "code",
   "execution_count": null,
   "id": "a6c01aac",
   "metadata": {},
   "outputs": [],
   "source": []
  },
  {
   "cell_type": "code",
   "execution_count": null,
   "id": "1d95450f",
   "metadata": {},
   "outputs": [],
   "source": []
  },
  {
   "cell_type": "code",
   "execution_count": 32,
   "id": "fa4e90b8",
   "metadata": {},
   "outputs": [
    {
     "data": {
      "text/plain": [
       "tensor([2.2210, 2.2186, 2.2183, 2.2168, 2.2162, 2.2105, 2.2050, 2.2049, 2.2008,\n",
       "        2.1940, 2.1882, 2.1786, 2.1643, 2.1497, 2.1213, 2.1042, 2.0695, 2.0405,\n",
       "        2.0132, 1.9862, 1.9482, 1.9172, 1.8840, 1.8478, 1.7980, 1.7489, 1.7008,\n",
       "        1.6550, 1.6167, 1.5667, 1.5033, 1.4661, 1.3977, 1.3396, 1.2705, 1.2030,\n",
       "        1.1722, 1.1396, 1.0966, 1.0443, 1.0002, 0.9457, 0.8936, 0.8640, 0.7797,\n",
       "        0.7269, 0.6745, 0.6312, 0.5906, 0.5701, 0.1274], device='cuda:0',\n",
       "       grad_fn=<MeanBackward1>)"
      ]
     },
     "execution_count": 32,
     "metadata": {},
     "output_type": "execute_result"
    }
   ],
   "source": []
  },
  {
   "cell_type": "code",
   "execution_count": 33,
   "id": "4ed41105",
   "metadata": {},
   "outputs": [
    {
     "data": {
      "text/plain": [
       "tensor([0.0724, 0.0866, 0.1077, 0.1401, 0.1776, 0.2153, 0.2505, 0.2893, 0.3362,\n",
       "        0.3902, 0.4543, 0.5252, 0.6011, 0.6787, 0.7608, 0.8356, 0.9152, 0.9909,\n",
       "        1.0591, 1.1371, 1.2164, 1.3146, 1.4073, 1.4782, 1.5381, 1.6160, 1.7007,\n",
       "        1.7916, 1.8846, 1.9611, 2.0208, 2.0790, 2.1318, 2.1750, 2.2005, 2.1877,\n",
       "        2.1835, 2.2005, 2.2053, 2.2064, 2.2192, 2.1530, 2.0854, 2.0338, 1.9748,\n",
       "        1.8618, 1.6905, 1.4729, 1.1624, 0.6561, 0.2147], device='cuda:0',\n",
       "       grad_fn=<MeanBackward1>)"
      ]
     },
     "execution_count": 33,
     "metadata": {},
     "output_type": "execute_result"
    }
   ],
   "source": []
  },
  {
   "cell_type": "code",
   "execution_count": 34,
   "id": "e15d3a7f",
   "metadata": {},
   "outputs": [
    {
     "data": {
      "text/plain": [
       "tensor([3.0887, 3.1001, 3.1218, 3.1256, 3.1175, 3.1294, 3.1298, 3.1365, 3.0983,\n",
       "        3.1098, 3.1024, 3.0848, 3.0707, 3.0737, 3.0735, 3.0572, 3.0593, 3.0498,\n",
       "        3.0638, 3.0553, 3.0301, 3.0439, 3.0318, 3.0067, 2.9933, 3.0237, 3.0177,\n",
       "        3.0147, 3.0122, 3.0037, 2.9896, 2.9584, 2.9711, 2.9748, 2.9504, 2.8849,\n",
       "        2.8382, 2.7938, 2.7391, 2.7084, 2.6749, 2.5552, 2.4381, 2.3191, 2.2938,\n",
       "        2.1451, 1.9921, 1.7927, 1.5860, 1.2007, 0.0000], device='cuda:0')"
      ]
     },
     "execution_count": 34,
     "metadata": {},
     "output_type": "execute_result"
    }
   ],
   "source": [
    "torch.norm(x_dev_sample - y_dev_sample, dim = (2,3)).mean(0)"
   ]
  },
  {
   "cell_type": "code",
   "execution_count": 32,
   "id": "cd3342da",
   "metadata": {},
   "outputs": [
    {
     "data": {
      "application/vnd.jupyter.widget-view+json": {
       "model_id": "2a8a722f989f46dcb1304dc710a4dc5a",
       "version_major": 2,
       "version_minor": 0
      },
      "text/plain": [
       "  0%|          | 0/100 [00:00<?, ?it/s]"
      ]
     },
     "metadata": {},
     "output_type": "display_data"
    },
    {
     "name": "stdout",
     "output_type": "stream",
     "text": [
      "torch.Size([1024, 51, 50]) torch.Size([1024, 51, 50]) torch.Size([2048, 51, 50])\n",
      "torch.Size([1024, 51, 50]) torch.Size([1024, 51, 50]) torch.Size([2048, 51, 50])\n",
      "torch.Size([1024, 51, 50]) torch.Size([1024, 51, 50]) torch.Size([2048, 51, 50])\n",
      "torch.Size([1024, 51, 50]) torch.Size([1024, 51, 50]) torch.Size([2048, 51, 50])\n",
      "torch.Size([1024, 51, 50]) torch.Size([1024, 51, 50]) torch.Size([2048, 51, 50])\n",
      "torch.Size([1024, 51, 50]) torch.Size([1024, 51, 50]) torch.Size([2048, 51, 50])\n",
      "torch.Size([1024, 51, 50]) torch.Size([1024, 51, 50]) torch.Size([2048, 51, 50])\n",
      "torch.Size([1024, 51, 50]) torch.Size([1024, 51, 50]) torch.Size([2048, 51, 50])\n",
      "torch.Size([1024, 51, 50]) torch.Size([1024, 51, 50]) torch.Size([2048, 51, 50])\n",
      "torch.Size([1024, 51, 50]) torch.Size([1024, 51, 50]) torch.Size([2048, 51, 50])\n",
      "torch.Size([1024, 51, 50]) torch.Size([1024, 51, 50]) torch.Size([2048, 51, 50])\n",
      "torch.Size([1024, 51, 50]) torch.Size([1024, 51, 50]) torch.Size([2048, 51, 50])\n",
      "torch.Size([1024, 51, 50]) torch.Size([1024, 51, 50]) torch.Size([2048, 51, 50])\n",
      "torch.Size([1024, 51, 50]) torch.Size([1024, 51, 50]) torch.Size([2048, 51, 50])\n",
      "torch.Size([1024, 51, 50]) torch.Size([1024, 51, 50]) torch.Size([2048, 51, 50])\n",
      "torch.Size([1024, 51, 50]) torch.Size([1024, 51, 50]) torch.Size([2048, 51, 50])\n",
      "torch.Size([1024, 51, 50]) torch.Size([1024, 51, 50]) torch.Size([2048, 51, 50])\n",
      "torch.Size([1024, 51, 50]) torch.Size([1024, 51, 50]) torch.Size([2048, 51, 50])\n",
      "torch.Size([1024, 51, 50]) torch.Size([1024, 51, 50]) torch.Size([2048, 51, 50])\n",
      "torch.Size([1024, 51, 50]) torch.Size([1024, 51, 50]) torch.Size([2048, 51, 50])\n",
      "torch.Size([1024, 51, 50]) torch.Size([1024, 51, 50]) torch.Size([2048, 51, 50])\n",
      "torch.Size([1024, 51, 50]) torch.Size([1024, 51, 50]) torch.Size([2048, 51, 50])\n",
      "torch.Size([1024, 51, 50]) torch.Size([1024, 51, 50]) torch.Size([2048, 51, 50])\n",
      "torch.Size([1024, 51, 50]) torch.Size([1024, 51, 50]) torch.Size([2048, 51, 50])\n",
      "torch.Size([1024, 51, 50]) torch.Size([1024, 51, 50]) torch.Size([2048, 51, 50])\n",
      "torch.Size([1024, 51, 50]) torch.Size([1024, 51, 50]) torch.Size([2048, 51, 50])\n",
      "torch.Size([1024, 51, 50]) torch.Size([1024, 51, 50]) torch.Size([2048, 51, 50])\n",
      "torch.Size([1024, 51, 50]) torch.Size([1024, 51, 50]) torch.Size([2048, 51, 50])\n",
      "torch.Size([1024, 51, 50]) torch.Size([1024, 51, 50]) torch.Size([2048, 51, 50])\n",
      "torch.Size([1024, 51, 50]) torch.Size([1024, 51, 50]) torch.Size([2048, 51, 50])\n",
      "torch.Size([1024, 51, 50]) torch.Size([1024, 51, 50]) torch.Size([2048, 51, 50])\n",
      "torch.Size([1024, 51, 50]) torch.Size([1024, 51, 50]) torch.Size([2048, 51, 50])\n",
      "torch.Size([1024, 51, 50]) torch.Size([1024, 51, 50]) torch.Size([2048, 51, 50])\n",
      "torch.Size([1024, 51, 50]) torch.Size([1024, 51, 50]) torch.Size([2048, 51, 50])\n",
      "torch.Size([1024, 51, 50]) torch.Size([1024, 51, 50]) torch.Size([2048, 51, 50])\n",
      "torch.Size([1024, 51, 50]) torch.Size([1024, 51, 50]) torch.Size([2048, 51, 50])\n",
      "torch.Size([1024, 51, 50]) torch.Size([1024, 51, 50]) torch.Size([2048, 51, 50])\n",
      "torch.Size([1024, 51, 50]) torch.Size([1024, 51, 50]) torch.Size([2048, 51, 50])\n",
      "torch.Size([1024, 51, 50]) torch.Size([1024, 51, 50]) torch.Size([2048, 51, 50])\n",
      "torch.Size([1024, 51, 50]) torch.Size([1024, 51, 50]) torch.Size([2048, 51, 50])\n",
      "torch.Size([1024, 51, 50]) torch.Size([1024, 51, 50]) torch.Size([2048, 51, 50])\n",
      "torch.Size([1024, 51, 50]) torch.Size([1024, 51, 50]) torch.Size([2048, 51, 50])\n",
      "torch.Size([1024, 51, 50]) torch.Size([1024, 51, 50]) torch.Size([2048, 51, 50])\n",
      "torch.Size([1024, 51, 50]) torch.Size([1024, 51, 50]) torch.Size([2048, 51, 50])\n",
      "torch.Size([1024, 51, 50]) torch.Size([1024, 51, 50]) torch.Size([2048, 51, 50])\n",
      "torch.Size([1024, 51, 50]) torch.Size([1024, 51, 50]) torch.Size([2048, 51, 50])\n",
      "torch.Size([1024, 51, 50]) torch.Size([1024, 51, 50]) torch.Size([2048, 51, 50])\n",
      "torch.Size([1024, 51, 50]) torch.Size([1024, 51, 50]) torch.Size([2048, 51, 50])\n",
      "torch.Size([1024, 51, 50]) torch.Size([1024, 51, 50]) torch.Size([2048, 51, 50])\n",
      "torch.Size([1024, 51, 50]) torch.Size([1024, 51, 50]) torch.Size([2048, 51, 50])\n",
      "torch.Size([1024, 51, 50]) torch.Size([1024, 51, 50]) torch.Size([2048, 51, 50])\n",
      "torch.Size([1024, 51, 50]) torch.Size([1024, 51, 50]) torch.Size([2048, 51, 50])\n",
      "torch.Size([1024, 51, 50]) torch.Size([1024, 51, 50]) torch.Size([2048, 51, 50])\n",
      "torch.Size([1024, 51, 50]) torch.Size([1024, 51, 50]) torch.Size([2048, 51, 50])\n",
      "torch.Size([1024, 51, 50]) torch.Size([1024, 51, 50]) torch.Size([2048, 51, 50])\n",
      "torch.Size([1024, 51, 50]) torch.Size([1024, 51, 50]) torch.Size([2048, 51, 50])\n",
      "torch.Size([1024, 51, 50]) torch.Size([1024, 51, 50]) torch.Size([2048, 51, 50])\n",
      "torch.Size([1024, 51, 50]) torch.Size([1024, 51, 50]) torch.Size([2048, 51, 50])\n",
      "torch.Size([1024, 51, 50]) torch.Size([1024, 51, 50]) torch.Size([2048, 51, 50])\n",
      "torch.Size([1024, 51, 50]) torch.Size([1024, 51, 50]) torch.Size([2048, 51, 50])\n",
      "torch.Size([1024, 51, 50]) torch.Size([1024, 51, 50]) torch.Size([2048, 51, 50])\n",
      "torch.Size([1024, 51, 50]) torch.Size([1024, 51, 50]) torch.Size([2048, 51, 50])\n",
      "torch.Size([1024, 51, 50]) torch.Size([1024, 51, 50]) torch.Size([2048, 51, 50])\n",
      "torch.Size([1024, 51, 50]) torch.Size([1024, 51, 50]) torch.Size([2048, 51, 50])\n",
      "torch.Size([1024, 51, 50]) torch.Size([1024, 51, 50]) torch.Size([2048, 51, 50])\n",
      "torch.Size([1024, 51, 50]) torch.Size([1024, 51, 50]) torch.Size([2048, 51, 50])\n",
      "torch.Size([1024, 51, 50]) torch.Size([1024, 51, 50]) torch.Size([2048, 51, 50])\n",
      "torch.Size([1024, 51, 50]) torch.Size([1024, 51, 50]) torch.Size([2048, 51, 50])\n",
      "torch.Size([1024, 51, 50]) torch.Size([1024, 51, 50]) torch.Size([2048, 51, 50])\n",
      "torch.Size([1024, 51, 50]) torch.Size([1024, 51, 50]) torch.Size([2048, 51, 50])\n",
      "torch.Size([1024, 51, 50]) torch.Size([1024, 51, 50]) torch.Size([2048, 51, 50])\n",
      "torch.Size([1024, 51, 50]) torch.Size([1024, 51, 50]) torch.Size([2048, 51, 50])\n",
      "torch.Size([1024, 51, 50]) torch.Size([1024, 51, 50]) torch.Size([2048, 51, 50])\n",
      "torch.Size([1024, 51, 50]) torch.Size([1024, 51, 50]) torch.Size([2048, 51, 50])\n",
      "torch.Size([1024, 51, 50]) torch.Size([1024, 51, 50]) torch.Size([2048, 51, 50])\n",
      "torch.Size([1024, 51, 50]) torch.Size([1024, 51, 50]) torch.Size([2048, 51, 50])\n",
      "torch.Size([1024, 51, 50]) torch.Size([1024, 51, 50]) torch.Size([2048, 51, 50])\n",
      "torch.Size([1024, 51, 50]) torch.Size([1024, 51, 50]) torch.Size([2048, 51, 50])\n",
      "torch.Size([1024, 51, 50]) torch.Size([1024, 51, 50]) torch.Size([2048, 51, 50])\n",
      "torch.Size([1024, 51, 50]) torch.Size([1024, 51, 50]) torch.Size([2048, 51, 50])\n",
      "torch.Size([1024, 51, 50]) torch.Size([1024, 51, 50]) torch.Size([2048, 51, 50])\n",
      "torch.Size([1024, 51, 50]) torch.Size([1024, 51, 50]) torch.Size([2048, 51, 50])\n",
      "torch.Size([1024, 51, 50]) torch.Size([1024, 51, 50]) torch.Size([2048, 51, 50])\n",
      "torch.Size([1024, 51, 50]) torch.Size([1024, 51, 50]) torch.Size([2048, 51, 50])\n",
      "torch.Size([1024, 51, 50]) torch.Size([1024, 51, 50]) torch.Size([2048, 51, 50])\n",
      "torch.Size([1024, 51, 50]) torch.Size([1024, 51, 50]) torch.Size([2048, 51, 50])\n",
      "torch.Size([1024, 51, 50]) torch.Size([1024, 51, 50]) torch.Size([2048, 51, 50])\n",
      "torch.Size([1024, 51, 50]) torch.Size([1024, 51, 50]) torch.Size([2048, 51, 50])\n",
      "torch.Size([1024, 51, 50]) torch.Size([1024, 51, 50]) torch.Size([2048, 51, 50])\n",
      "torch.Size([1024, 51, 50]) torch.Size([1024, 51, 50]) torch.Size([2048, 51, 50])\n",
      "torch.Size([1024, 51, 50]) torch.Size([1024, 51, 50]) torch.Size([2048, 51, 50])\n",
      "torch.Size([1024, 51, 50]) torch.Size([1024, 51, 50]) torch.Size([2048, 51, 50])\n",
      "torch.Size([1024, 51, 50]) torch.Size([1024, 51, 50]) torch.Size([2048, 51, 50])\n",
      "torch.Size([1024, 51, 50]) torch.Size([1024, 51, 50]) torch.Size([2048, 51, 50])\n",
      "torch.Size([1024, 51, 50]) torch.Size([1024, 51, 50]) torch.Size([2048, 51, 50])\n",
      "torch.Size([1024, 51, 50]) torch.Size([1024, 51, 50]) torch.Size([2048, 51, 50])\n",
      "torch.Size([1024, 51, 50]) torch.Size([1024, 51, 50]) torch.Size([2048, 51, 50])\n",
      "torch.Size([1024, 51, 50]) torch.Size([1024, 51, 50]) torch.Size([2048, 51, 50])\n",
      "torch.Size([1024, 51, 50]) torch.Size([1024, 51, 50]) torch.Size([2048, 51, 50])\n",
      "torch.Size([1024, 51, 50]) torch.Size([1024, 51, 50]) torch.Size([2048, 51, 50])\n"
     ]
    },
    {
     "data": {
      "image/png": "[encoded data removed]",
      "text/plain": [
       "<Figure size 1500x500 with 1 Axes>"
      ]
     },
     "metadata": {},
     "output_type": "display_data"
    }
   ],
   "source": [
    "num_permutations = 100\n",
    "with torch.no_grad():\n",
    "    expected_devx.pcf_level_2.eval()\n",
    "    expected_devx.regressor_X.eval()\n",
    "\n",
    "#             X = self.subsample(X, sample_size).to(self.device)\n",
    "#             Y = self.subsample(Y, sample_size).to(self.device)\n",
    "\n",
    "    # print(t1)\n",
    "#     n, m = X.shape[0], Y.shape[0]\n",
    "#     combined = torch.cat([X, Y])\n",
    "    H0_stats = np.zeros((num_permutations))\n",
    "    H1_stats = np.zeros((num_permutations))\n",
    "\n",
    "    for i in tqdm(range(num_permutations)):\n",
    "        X_sample = next(iter(test_path_X_dl)).to(expected_devx.device)\n",
    "        Y_sample = next(iter(test_path_Y_dl)).to(expected_devx.device)\n",
    "\n",
    "        exp_dev_X = expected_devx.regressor_X(X_sample, expected_devx.device).reshape([-1, X_sample.shape[1], expected_devx.lie_degree_1 ** 2])\n",
    "        exp_dev_Y = expected_devx.regressor_X(Y_sample, expected_devx.device).reshape([-1, Y_sample.shape[1], expected_devx.lie_degree_1 ** 2])\n",
    "\n",
    "        exp_dev_X = torch.cat([exp_dev_X.real, exp_dev_X.imag], -1)\n",
    "        exp_dev_Y = torch.cat([exp_dev_Y.real, exp_dev_Y.imag], -1)\n",
    "\n",
    "        n, m = exp_dev_X.shape[0], exp_dev_Y.shape[0]\n",
    "        combined = torch.cat([exp_dev_X, exp_dev_Y])\n",
    "\n",
    "        print(exp_dev_X.shape, exp_dev_Y.shape, combined.shape)\n",
    "        idx = torch.randperm(n + m)\n",
    "        H0_stats[i] = expected_devx.pcf_level_2.distance_measure(combined[idx[:n]], combined[idx[n:]],  Lambda=0)\n",
    "        H1_stats[i] = expected_devx.pcf_level_2.distance_measure(exp_dev_X, exp_dev_Y,  Lambda=0)\n",
    "    Q_a = np.quantile(np.array(H0_stats), q=0.95)\n",
    "    Q_b = np.quantile(np.array(H1_stats), q=0.05)\n",
    "\n",
    "    # print(statistics)\n",
    "    # print(np.array(statistics))\n",
    "    power = 1 - (Q_a > np.array(H1_stats)).sum() / num_permutations\n",
    "    type1_error = (Q_b < np.array(H0_stats)).sum() / num_permutations\n",
    "\n",
    "    expected_devx.print_hist(H0_stats, H1_stats)"
   ]
  },
  {
   "cell_type": "code",
   "execution_count": null,
   "id": "61ec43e7",
   "metadata": {},
   "outputs": [],
   "source": []
  },
  {
   "cell_type": "code",
   "execution_count": 45,
   "id": "a3f7aae5",
   "metadata": {},
   "outputs": [
    {
     "data": {
      "text/plain": [
       "torch.Size([1024, 51, 5, 5])"
      ]
     },
     "execution_count": 45,
     "metadata": {},
     "output_type": "execute_result"
    }
   ],
   "source": [
    "x_dev_sample.shape"
   ]
  },
  {
   "cell_type": "code",
   "execution_count": 13,
   "id": "52c39b4a",
   "metadata": {},
   "outputs": [
    {
     "ename": "AttributeError",
     "evalue": "'LSTMRegressor' object has no attribute 'M'",
     "output_type": "error",
     "traceback": [
      "\u001b[0;31m---------------------------------------------------------------------------\u001b[0m",
      "\u001b[0;31mAttributeError\u001b[0m                            Traceback (most recent call last)",
      "\u001b[0;32m/tmp/ipykernel_1696422/1691209276.py\u001b[0m in \u001b[0;36m<module>\u001b[0;34m\u001b[0m\n\u001b[0;32m----> 1\u001b[0;31m \u001b[0mregressor_for_X\u001b[0m\u001b[0;34m.\u001b[0m\u001b[0mM\u001b[0m\u001b[0;34m\u001b[0m\u001b[0;34m\u001b[0m\u001b[0m\n\u001b[0m",
      "\u001b[0;32m~/ac3/lib/python3.9/site-packages/torch/nn/modules/module.py\u001b[0m in \u001b[0;36m__getattr__\u001b[0;34m(self, name)\u001b[0m\n\u001b[1;32m   1183\u001b[0m             \u001b[0;32mif\u001b[0m \u001b[0mname\u001b[0m \u001b[0;32min\u001b[0m \u001b[0mmodules\u001b[0m\u001b[0;34m:\u001b[0m\u001b[0;34m\u001b[0m\u001b[0;34m\u001b[0m\u001b[0m\n\u001b[1;32m   1184\u001b[0m                 \u001b[0;32mreturn\u001b[0m \u001b[0mmodules\u001b[0m\u001b[0;34m[\u001b[0m\u001b[0mname\u001b[0m\u001b[0;34m]\u001b[0m\u001b[0;34m\u001b[0m\u001b[0;34m\u001b[0m\u001b[0m\n\u001b[0;32m-> 1185\u001b[0;31m         raise AttributeError(\"'{}' object has no attribute '{}'\".format(\n\u001b[0m\u001b[1;32m   1186\u001b[0m             type(self).__name__, name))\n\u001b[1;32m   1187\u001b[0m \u001b[0;34m\u001b[0m\u001b[0m\n",
      "\u001b[0;31mAttributeError\u001b[0m: 'LSTMRegressor' object has no attribute 'M'"
     ]
    }
   ],
   "source": [
    "regressor_for_X.M"
   ]
  },
  {
   "cell_type": "code",
   "execution_count": 47,
   "id": "c44f631c",
   "metadata": {},
   "outputs": [
    {
     "name": "stdout",
     "output_type": "stream",
     "text": [
      "torch.Size([1024, 51, 50]) torch.Size([1024, 51, 50])\n",
      "tensor(-0.0700, device='cuda:0')\n"
     ]
    }
   ],
   "source": [
    "expected_devx.pcf_level_2.eval()\n",
    "\n",
    "\n",
    "X, past_dev_X = next(iter(train_pcf_X_dl))\n",
    "# X, past_dev_X = test_pcf_X_ds[:200]\n",
    "Y, past_dev_Y = next(iter(train_pcf_Y_dl))\n",
    "# Y, past_dev_Y = test_pcf_Y_ds[:200]\n",
    "with torch.no_grad():\n",
    "    exp_dev_X = expected_devx.regressor_X(X, expected_devx.device).reshape([-1, X.shape[1], expected_devx.lie_degree_1 ** 2])\n",
    "    exp_dev_Y = expected_devx.regressor_X(Y, expected_devx.device).reshape([-1, X.shape[1], expected_devx.lie_degree_1 ** 2])\n",
    "#                 print(past_dev_X.shape, exp_dev_X.shape)\n",
    "#                 exp_dev_X = (past_dev_X @ exp_dev_X).reshape([-1, X.shape[1], self.lie_degree_1 ** 2])\n",
    "#                 exp_dev_Y = (past_dev_Y @ exp_dev_Y).reshape([-1, X.shape[1], self.lie_degree_1 ** 2])\n",
    "\n",
    "    exp_dev_X = torch.cat([exp_dev_X.real, exp_dev_X.imag], -1)\n",
    "    exp_dev_Y = torch.cat([exp_dev_Y.real, exp_dev_Y.imag], -1)\n",
    "    print(exp_dev_X.shape, exp_dev_Y.shape)\n",
    "\n",
    "    char_loss = - expected_devx.pcf_level_2.distance_measure(exp_dev_X, exp_dev_Y, Lambda=0)\n",
    "    print(char_loss)"
   ]
  },
  {
   "cell_type": "code",
   "execution_count": null,
   "id": "48643583",
   "metadata": {},
   "outputs": [],
   "source": []
  }
 ],
 "metadata": {
  "kernelspec": {
   "display_name": "levy",
   "language": "python",
   "name": "levy"
  },
  "language_info": {
   "codemirror_mode": {
    "name": "ipython",
    "version": 3
   },
   "file_extension": ".py",
   "mimetype": "text/x-python",
   "name": "python",
   "nbconvert_exporter": "python",
   "pygments_lexer": "ipython3",
   "version": "3.9.13"
  }
 },
 "nbformat": 4,
 "nbformat_minor": 5
}
