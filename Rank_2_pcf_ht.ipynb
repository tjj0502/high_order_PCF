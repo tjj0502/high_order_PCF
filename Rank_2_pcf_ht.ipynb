{
 "cells": [
  {
   "cell_type": "code",
   "execution_count": 1,
   "id": "ce8b70a9",
   "metadata": {},
   "outputs": [],
   "source": [
    "import torch\n",
    "import numpy as np\n",
    "import matplotlib.pyplot as plt\n",
    "from tqdm import tqdm\n",
    "from src.model.regressor.regressor import LSTMRegressor\n",
    "from src.model.discriminator.path_characteristic_function import pcf\n",
    "from src.utils import AddTime\n",
    "from torch.utils.data import DataLoader, Dataset\n",
    "from src.datasets.fbm_ import FBM_data\n",
    "from src.datasets.data_preparation import prepare_dl\n",
    "from src.trainers.regression_trainer import regressor_joint_trainer\n",
    "from src.high_level_pcf import high_order_pcf\n",
    "import ml_collections\n",
    "import seaborn as sns\n",
    "import os\n",
    "import yaml\n",
    "from os import path as pt\n",
    "os.environ[\"CUDA_VISIBLE_DEVICES\"] = \"4\"\n",
    "sns.set()\n",
    "torch.manual_seed(0)\n",
    "device = 'cuda'"
   ]
  },
  {
   "cell_type": "code",
   "execution_count": 2,
   "id": "97441028",
   "metadata": {},
   "outputs": [],
   "source": [
    "config_dir = pt.join(\"configs/configs.yaml\")\n",
    "with open(config_dir) as file:\n",
    "    config = ml_collections.ConfigDict(yaml.safe_load(file))"
   ]
  },
  {
   "cell_type": "code",
   "execution_count": 3,
   "id": "9082caec",
   "metadata": {},
   "outputs": [],
   "source": [
    "config.exp_dir = \"./examples/HT/h_0.475/\""
   ]
  },
  {
   "cell_type": "code",
   "execution_count": 4,
   "id": "d02dca04",
   "metadata": {},
   "outputs": [],
   "source": [
    "# Construct fbm path with different Hurst parameter\n",
    "\n",
    "samples = 20000\n",
    "steps = 50\n",
    "\n",
    "bm = FBM_data(samples, dim=3, length=steps, h=0.5)\n",
    "fbm_h = FBM_data(samples, dim=3, length=steps, h=0.475)\n",
    "\n",
    "bm_test = FBM_data(4000, dim=3, length=steps, h=0.5)\n",
    "fbm_h_test = FBM_data(4000, dim=3, length=steps, h=0.475)\n",
    "\n",
    "fbm_h = fbm_h.to(device)\n",
    "bm = bm.to(device)\n",
    "fbm_h_test = fbm_h_test.to(device)\n",
    "bm_test = bm_test.to(device)"
   ]
  },
  {
   "cell_type": "code",
   "execution_count": 5,
   "id": "cb89dff7",
   "metadata": {},
   "outputs": [],
   "source": [
    "torch.save(bm, config.exp_dir+'bm_train.pt')\n",
    "torch.save(fbm_h, config.exp_dir+'fbm_train.pt')\n",
    "torch.save(bm_test, config.exp_dir+'bm_test.pt')\n",
    "torch.save(fbm_h_test, config.exp_dir+'fbm_test.pt')"
   ]
  },
  {
   "cell_type": "code",
   "execution_count": 4,
   "id": "5cc23392",
   "metadata": {},
   "outputs": [],
   "source": [
    "fbm_h = torch.load(config.exp_dir+'fbm_train.pt')\n",
    "bm = torch.load(config.exp_dir+'bm_train.pt')\n",
    "fbm_h_test = torch.load(config.exp_dir+'fbm_test.pt')\n",
    "bm_test = torch.load(config.exp_dir+'bm_test.pt')"
   ]
  },
  {
   "cell_type": "code",
   "execution_count": 5,
   "id": "8d41e24f",
   "metadata": {},
   "outputs": [],
   "source": [
    "config.R_input_dim = bm.shape[-1]+1 # Add time\n",
    "config.data_feat_dim = bm.shape[-1]\n",
    "config.n_lags = bm.shape[2]\n",
    "\n",
    "rank_1_pcf = pcf(num_samples=config.Rank_1_num_samples,\n",
    "                 hidden_size=config.Rank_1_lie_degree,\n",
    "                 input_dim=bm.shape[-1],\n",
    "                 add_time=True,\n",
    "                 include_initial=False\n",
    "                 ).to(config.device)"
   ]
  },
  {
   "cell_type": "code",
   "execution_count": 6,
   "id": "4b7c23a4",
   "metadata": {},
   "outputs": [
    {
     "name": "stdout",
     "output_type": "stream",
     "text": [
      "51\n",
      "51\n"
     ]
    }
   ],
   "source": [
    "train_reg_X_dl, test_reg_X_dl, train_pcf_X_dl, test_pcf_X_dl = prepare_dl(config, rank_1_pcf, bm, bm_test)\n",
    "train_reg_Y_dl, test_reg_Y_dl, train_pcf_Y_dl, test_pcf_Y_dl = prepare_dl(config, rank_1_pcf, fbm_h, fbm_h_test)"
   ]
  },
  {
   "cell_type": "code",
   "execution_count": 7,
   "id": "5afa0e5d",
   "metadata": {},
   "outputs": [
    {
     "data": {
      "text/plain": [
       "<All keys matched successfully>"
      ]
     },
     "execution_count": 7,
     "metadata": {},
     "output_type": "execute_result"
    }
   ],
   "source": [
    "regressor_for_X = LSTMRegressor(\n",
    "        input_dim=config.R_input_dim,\n",
    "        hidden_dim=config.R_hidden_dim,\n",
    "        output_dim=config.R_output_dim,\n",
    "        n_layers=config.R_num_layers\n",
    "    )\n",
    "regressor_for_X.to(device)\n",
    "\n",
    "regressor_for_Y = LSTMRegressor(\n",
    "        input_dim=config.R_input_dim,\n",
    "        hidden_dim=config.R_hidden_dim,\n",
    "        output_dim=config.R_output_dim,\n",
    "        n_layers=config.R_num_layers\n",
    "    )\n",
    "regressor_for_Y.to(device)\n",
    "\n",
    "regressor_for_Y.load_state_dict(regressor_for_X.state_dict())"
   ]
  },
  {
   "cell_type": "code",
   "execution_count": 8,
   "id": "7fee397c",
   "metadata": {},
   "outputs": [],
   "source": [
    "regressor_trainer = regressor_joint_trainer(regressor_for_X, regressor_for_Y, config, device)"
   ]
  },
  {
   "cell_type": "code",
   "execution_count": 9,
   "id": "17dda694",
   "metadata": {},
   "outputs": [
    {
     "name": "stderr",
     "output_type": "stream",
     "text": [
      "  0%|                                                                                                                                                                                                                  | 1/2000 [00:00<05:33,  6.00it/s]"
     ]
    },
    {
     "name": "stdout",
     "output_type": "stream",
     "text": [
      "Loss updated: 142.33755493164062  at iteration 0\n",
      "Loss updated: 142.17147827148438  at iteration 0\n",
      "Loss updated: 133.28427124023438  at iteration 1\n",
      "Loss updated: 133.87399291992188  at iteration 1\n"
     ]
    },
    {
     "name": "stderr",
     "output_type": "stream",
     "text": [
      "\r",
      "  0%|▍                                                                                                                                                                                                                 | 4/2000 [00:00<02:16, 14.61it/s]"
     ]
    },
    {
     "name": "stdout",
     "output_type": "stream",
     "text": [
      "Loss updated: 127.62334442138672  at iteration 2\n",
      "Loss updated: 127.22502136230469  at iteration 2\n",
      "Loss updated: 122.34477996826172  at iteration 3\n",
      "Loss updated: 122.56559753417969  at iteration 3\n",
      "Loss updated: 118.57646179199219  at iteration 4\n",
      "Loss updated: 118.9749755859375  at iteration 4\n",
      "Loss updated: 115.57603454589844  at iteration 5\n",
      "Loss updated: 116.17765808105469  at iteration 5\n",
      "Loss updated: 113.29983520507812  at iteration 6\n",
      "Loss updated: 113.51187133789062  at iteration 6\n"
     ]
    },
    {
     "name": "stderr",
     "output_type": "stream",
     "text": [
      "  0%|█                                                                                                                                                                                                                | 10/2000 [00:00<01:42, 19.46it/s]"
     ]
    },
    {
     "name": "stdout",
     "output_type": "stream",
     "text": [
      "Loss updated: 111.20858764648438  at iteration 7\n",
      "Loss updated: 111.66319274902344  at iteration 7\n",
      "Loss updated: 110.31678771972656  at iteration 8\n",
      "Loss updated: 110.92900085449219  at iteration 8\n",
      "Loss updated: 109.65437316894531  at iteration 9\n",
      "Loss updated: 109.97898864746094  at iteration 9\n",
      "Loss updated: 109.21884155273438  at iteration 10\n",
      "Loss updated: 109.76739501953125  at iteration 10\n",
      "Loss updated: 108.41443634033203  at iteration 11\n",
      "Loss updated: 108.8815689086914  at iteration 11\n"
     ]
    },
    {
     "name": "stderr",
     "output_type": "stream",
     "text": [
      "  1%|█▋                                                                                                                                                                                                               | 16/2000 [00:00<01:35, 20.88it/s]"
     ]
    },
    {
     "name": "stdout",
     "output_type": "stream",
     "text": [
      "Loss updated: 108.0533447265625  at iteration 12\n",
      "Loss updated: 107.81916046142578  at iteration 13\n",
      "Loss updated: 107.90325164794922  at iteration 13\n",
      "Loss updated: 107.31072998046875  at iteration 14\n",
      "Loss updated: 107.10047149658203  at iteration 15\n",
      "Loss updated: 107.67633056640625  at iteration 15\n",
      "Loss updated: 106.85271453857422  at iteration 16\n"
     ]
    },
    {
     "name": "stderr",
     "output_type": "stream",
     "text": [
      "\r",
      "  1%|█▉                                                                                                                                                                                                               | 19/2000 [00:00<01:33, 21.22it/s]"
     ]
    },
    {
     "name": "stdout",
     "output_type": "stream",
     "text": [
      "Loss updated: 106.9912109375  at iteration 16\n",
      "Loss updated: 106.552978515625  at iteration 17\n",
      "Loss updated: 106.53633880615234  at iteration 19\n",
      "Loss updated: 106.79138946533203  at iteration 19\n",
      "Loss updated: 106.07498168945312  at iteration 20\n"
     ]
    },
    {
     "name": "stderr",
     "output_type": "stream",
     "text": [
      "  1%|██▌                                                                                                                                                                                                              | 25/2000 [00:01<01:31, 21.60it/s]"
     ]
    },
    {
     "name": "stdout",
     "output_type": "stream",
     "text": [
      "Loss updated: 105.63072204589844  at iteration 21\n",
      "Loss updated: 105.54417419433594  at iteration 22\n",
      "Loss updated: 106.7108383178711  at iteration 23\n",
      "Loss updated: 105.235595703125  at iteration 24\n",
      "Loss updated: 106.38693237304688  at iteration 24\n",
      "Loss updated: 106.07235717773438  at iteration 25\n"
     ]
    },
    {
     "name": "stderr",
     "output_type": "stream",
     "text": [
      "\r",
      "  1%|██▉                                                                                                                                                                                                              | 28/2000 [00:01<01:30, 21.84it/s]"
     ]
    },
    {
     "name": "stdout",
     "output_type": "stream",
     "text": [
      "Loss updated: 106.05110168457031  at iteration 26\n",
      "Loss updated: 104.9109115600586  at iteration 27\n",
      "Loss updated: 105.94951629638672  at iteration 27\n",
      "Loss updated: 105.86367797851562  at iteration 28\n"
     ]
    },
    {
     "name": "stderr",
     "output_type": "stream",
     "text": [
      "\r",
      "  2%|███▏                                                                                                                                                                                                             | 31/2000 [00:01<01:47, 18.29it/s]"
     ]
    },
    {
     "name": "stdout",
     "output_type": "stream",
     "text": [
      "Loss updated: 104.60630798339844  at iteration 29\n",
      "Loss updated: 105.55574798583984  at iteration 29\n",
      "Loss updated: 104.17196655273438  at iteration 31\n",
      "Loss updated: 105.28916931152344  at iteration 31\n",
      "Loss updated: 104.08595275878906  at iteration 33\n",
      "Loss updated: 105.28424072265625  at iteration 33\n"
     ]
    },
    {
     "name": "stderr",
     "output_type": "stream",
     "text": [
      "  2%|███▊                                                                                                                                                                                                             | 37/2000 [00:01<01:38, 20.02it/s]"
     ]
    },
    {
     "name": "stdout",
     "output_type": "stream",
     "text": [
      "Loss updated: 104.99824523925781  at iteration 34\n",
      "Loss updated: 104.98739624023438  at iteration 35\n",
      "Loss updated: 103.92106628417969  at iteration 36\n",
      "Loss updated: 104.87843322753906  at iteration 37\n",
      "Loss updated: 104.8763198852539  at iteration 38\n"
     ]
    },
    {
     "name": "stderr",
     "output_type": "stream",
     "text": [
      "  2%|████▍                                                                                                                                                                                                            | 43/2000 [00:02<01:32, 21.06it/s]"
     ]
    },
    {
     "name": "stdout",
     "output_type": "stream",
     "text": [
      "Loss updated: 104.60484313964844  at iteration 39\n",
      "Loss updated: 104.23908996582031  at iteration 40\n",
      "Loss updated: 103.1710433959961  at iteration 42\n",
      "Loss updated: 104.2052230834961  at iteration 42\n",
      "Loss updated: 104.19815063476562  at iteration 43\n"
     ]
    },
    {
     "name": "stderr",
     "output_type": "stream",
     "text": [
      "\r",
      "  2%|████▊                                                                                                                                                                                                            | 46/2000 [00:02<01:31, 21.43it/s]"
     ]
    },
    {
     "name": "stdout",
     "output_type": "stream",
     "text": [
      "Loss updated: 103.06039428710938  at iteration 44\n",
      "Loss updated: 103.05891418457031  at iteration 45\n",
      "Loss updated: 104.0634765625  at iteration 45\n",
      "Loss updated: 102.84674072265625  at iteration 46\n",
      "Loss updated: 102.65850830078125  at iteration 47\n"
     ]
    },
    {
     "name": "stderr",
     "output_type": "stream",
     "text": [
      "  3%|█████▍                                                                                                                                                                                                           | 52/2000 [00:02<01:32, 21.04it/s]"
     ]
    },
    {
     "name": "stdout",
     "output_type": "stream",
     "text": [
      "Loss updated: 103.9385757446289  at iteration 49\n"
     ]
    },
    {
     "name": "stderr",
     "output_type": "stream",
     "text": [
      "\r",
      "  3%|█████▋                                                                                                                                                                                                           | 55/2000 [00:02<01:44, 18.58it/s]"
     ]
    },
    {
     "name": "stdout",
     "output_type": "stream",
     "text": [
      "Loss updated: 103.81798553466797  at iteration 52\n",
      "Loss updated: 103.30770874023438  at iteration 53\n"
     ]
    },
    {
     "name": "stderr",
     "output_type": "stream",
     "text": [
      "  3%|██████▌                                                                                                                                                                                                          | 63/2000 [00:03<01:36, 20.09it/s]"
     ]
    },
    {
     "name": "stdout",
     "output_type": "stream",
     "text": [
      "Loss updated: 102.60420227050781  at iteration 60\n"
     ]
    },
    {
     "name": "stderr",
     "output_type": "stream",
     "text": [
      "  3%|███████▏                                                                                                                                                                                                         | 69/2000 [00:03<01:31, 21.12it/s]"
     ]
    },
    {
     "name": "stdout",
     "output_type": "stream",
     "text": [
      "Loss updated: 102.27447509765625  at iteration 66\n"
     ]
    },
    {
     "name": "stderr",
     "output_type": "stream",
     "text": [
      "  4%|███████▊                                                                                                                                                                                                         | 75/2000 [00:03<01:29, 21.59it/s]"
     ]
    },
    {
     "name": "stdout",
     "output_type": "stream",
     "text": [
      "Loss updated: 103.27115631103516  at iteration 71\n",
      "Loss updated: 101.97210693359375  at iteration 73\n",
      "Loss updated: 103.17910766601562  at iteration 73\n"
     ]
    },
    {
     "name": "stderr",
     "output_type": "stream",
     "text": [
      "\r",
      "  4%|████████▏                                                                                                                                                                                                        | 78/2000 [00:03<01:41, 18.93it/s]"
     ]
    },
    {
     "name": "stdout",
     "output_type": "stream",
     "text": [
      "Loss updated: 101.72554016113281  at iteration 76\n",
      "Loss updated: 102.96646118164062  at iteration 76\n"
     ]
    },
    {
     "name": "stderr",
     "output_type": "stream",
     "text": [
      "  4%|█████████                                                                                                                                                                                                        | 87/2000 [00:04<01:31, 20.97it/s]"
     ]
    },
    {
     "name": "stdout",
     "output_type": "stream",
     "text": [
      "Loss updated: 102.67733001708984  at iteration 83\n"
     ]
    },
    {
     "name": "stderr",
     "output_type": "stream",
     "text": [
      "  5%|██████████▌                                                                                                                                                                                                     | 102/2000 [00:05<01:42, 18.53it/s]"
     ]
    },
    {
     "name": "stdout",
     "output_type": "stream",
     "text": [
      "Loss updated: 102.59561920166016  at iteration 99\n",
      "Loss updated: 102.49951171875  at iteration 101\n"
     ]
    },
    {
     "name": "stderr",
     "output_type": "stream",
     "text": [
      "  5%|███████████▏                                                                                                                                                                                                    | 108/2000 [00:05<01:33, 20.19it/s]"
     ]
    },
    {
     "name": "stdout",
     "output_type": "stream",
     "text": [
      "Loss updated: 102.32455444335938  at iteration 105\n",
      "Loss updated: 101.6160888671875  at iteration 107\n"
     ]
    },
    {
     "name": "stderr",
     "output_type": "stream",
     "text": [
      "  6%|███████████▊                                                                                                                                                                                                    | 114/2000 [00:05<01:29, 21.13it/s]"
     ]
    },
    {
     "name": "stdout",
     "output_type": "stream",
     "text": [
      "Loss updated: 101.34153747558594  at iteration 112\n"
     ]
    },
    {
     "name": "stderr",
     "output_type": "stream",
     "text": [
      "  7%|█████████████▋                                                                                                                                                                                                  | 132/2000 [00:06<01:30, 20.55it/s]"
     ]
    },
    {
     "name": "stdout",
     "output_type": "stream",
     "text": [
      "Loss updated: 102.21269226074219  at iteration 127\n",
      "Loss updated: 101.3069839477539  at iteration 130\n"
     ]
    },
    {
     "name": "stderr",
     "output_type": "stream",
     "text": [
      "\r",
      "  7%|██████████████                                                                                                                                                                                                  | 135/2000 [00:06<01:28, 20.97it/s]"
     ]
    },
    {
     "name": "stdout",
     "output_type": "stream",
     "text": [
      "Loss updated: 101.23221588134766  at iteration 132\n"
     ]
    },
    {
     "name": "stderr",
     "output_type": "stream",
     "text": [
      "  7%|██████████████▉                                                                                                                                                                                                 | 144/2000 [00:07<01:25, 21.61it/s]"
     ]
    },
    {
     "name": "stdout",
     "output_type": "stream",
     "text": [
      "Loss updated: 101.9874038696289  at iteration 141\n"
     ]
    },
    {
     "name": "stderr",
     "output_type": "stream",
     "text": [
      "  8%|████████████████▋                                                                                                                                                                                               | 161/2000 [00:07<01:28, 20.90it/s]"
     ]
    },
    {
     "name": "stdout",
     "output_type": "stream",
     "text": [
      "Loss updated: 101.97914123535156  at iteration 157\n",
      "Loss updated: 101.97428894042969  at iteration 158\n"
     ]
    },
    {
     "name": "stderr",
     "output_type": "stream",
     "text": [
      "  8%|█████████████████▋                                                                                                                                                                                              | 170/2000 [00:08<01:24, 21.63it/s]"
     ]
    },
    {
     "name": "stdout",
     "output_type": "stream",
     "text": [
      "Loss updated: 101.88398742675781  at iteration 165\n",
      "Loss updated: 101.16999816894531  at iteration 166\n"
     ]
    },
    {
     "name": "stderr",
     "output_type": "stream",
     "text": [
      "  9%|██████████████████▌                                                                                                                                                                                             | 179/2000 [00:08<01:30, 20.14it/s]"
     ]
    },
    {
     "name": "stdout",
     "output_type": "stream",
     "text": [
      "Loss updated: 101.69559478759766  at iteration 177\n",
      "Loss updated: 101.06904602050781  at iteration 178\n"
     ]
    },
    {
     "name": "stderr",
     "output_type": "stream",
     "text": [
      " 10%|████████████████████▊                                                                                                                                                                                           | 200/2000 [00:09<01:31, 19.65it/s]"
     ]
    },
    {
     "name": "stdout",
     "output_type": "stream",
     "text": [
      "Loss updated: 100.7999496459961  at iteration 198\n"
     ]
    },
    {
     "name": "stderr",
     "output_type": "stream",
     "text": [
      " 12%|█████████████████████████▍                                                                                                                                                                                      | 245/2000 [00:12<01:28, 19.91it/s]"
     ]
    },
    {
     "name": "stdout",
     "output_type": "stream",
     "text": [
      "Loss updated: 100.67638397216797  at iteration 242\n"
     ]
    },
    {
     "name": "stderr",
     "output_type": "stream",
     "text": [
      " 13%|██████████████████████████                                                                                                                                                                                      | 251/2000 [00:12<01:26, 20.20it/s]"
     ]
    },
    {
     "name": "stdout",
     "output_type": "stream",
     "text": [
      "Loss updated: 101.28172302246094  at iteration 249\n"
     ]
    },
    {
     "name": "stderr",
     "output_type": "stream",
     "text": [
      " 13%|██████████████████████████▋                                                                                                                                                                                     | 257/2000 [00:12<01:22, 21.09it/s]"
     ]
    },
    {
     "name": "stdout",
     "output_type": "stream",
     "text": [
      "Loss updated: 100.3356704711914  at iteration 254\n"
     ]
    },
    {
     "name": "stderr",
     "output_type": "stream",
     "text": [
      " 28%|█████████████████████████████████████████████████████████▌                                                                                                                                                      | 554/2000 [00:27<01:11, 20.25it/s]"
     ]
    },
    {
     "name": "stdout",
     "output_type": "stream",
     "text": [
      "Loss updated: 101.15760803222656  at iteration 551\n"
     ]
    },
    {
     "name": "stderr",
     "output_type": "stream",
     "text": [
      " 32%|█████████████████████████████████████████████████████████████████▋                                                                                                                                              | 632/2000 [00:30<01:03, 21.54it/s]"
     ]
    },
    {
     "name": "stdout",
     "output_type": "stream",
     "text": [
      "Loss updated: 100.23651123046875  at iteration 628\n"
     ]
    },
    {
     "name": "stderr",
     "output_type": "stream",
     "text": [
      " 33%|████████████████████████████████████████████████████████████████████▏                                                                                                                                           | 656/2000 [00:31<01:04, 20.81it/s]"
     ]
    },
    {
     "name": "stdout",
     "output_type": "stream",
     "text": [
      "Loss updated: 100.17915344238281  at iteration 654\n"
     ]
    },
    {
     "name": "stderr",
     "output_type": "stream",
     "text": [
      " 34%|██████████████████████████████████████████████████████████████████████                                                                                                                                          | 674/2000 [00:32<01:03, 20.93it/s]"
     ]
    },
    {
     "name": "stdout",
     "output_type": "stream",
     "text": [
      "Loss updated: 101.08171081542969  at iteration 671\n"
     ]
    },
    {
     "name": "stderr",
     "output_type": "stream",
     "text": [
      " 45%|█████████████████████████████████████████████████████████████████████████████████████████████▏                                                                                                                  | 896/2000 [00:43<00:47, 23.22it/s]"
     ]
    },
    {
     "name": "stdout",
     "output_type": "stream",
     "text": [
      "Loss updated: 100.17501831054688  at iteration 894\n"
     ]
    },
    {
     "name": "stderr",
     "output_type": "stream",
     "text": [
      " 49%|██████████████████████████████████████████████████████████████████████████████████████████████████████▊                                                                                                         | 989/2000 [00:47<00:43, 23.33it/s]"
     ]
    },
    {
     "name": "stdout",
     "output_type": "stream",
     "text": [
      "Loss updated: 101.02668762207031  at iteration 986\n"
     ]
    },
    {
     "name": "stderr",
     "output_type": "stream",
     "text": [
      " 57%|█████████████████████████████████████████████████████████████████████████████████████████████████████████████████████▌                                                                                         | 1136/2000 [00:54<00:41, 20.65it/s]"
     ]
    },
    {
     "name": "stdout",
     "output_type": "stream",
     "text": [
      "Loss updated: 100.13642883300781  at iteration 1133\n"
     ]
    },
    {
     "name": "stderr",
     "output_type": "stream",
     "text": [
      " 64%|█████████████████████████████████████████████████████████████████████████████████████████████████████████████████████████████████████                                                                          | 1286/2000 [01:00<00:31, 22.37it/s]"
     ]
    },
    {
     "name": "stdout",
     "output_type": "stream",
     "text": [
      "Loss updated: 100.09407043457031  at iteration 1282\n"
     ]
    },
    {
     "name": "stderr",
     "output_type": "stream",
     "text": [
      " 82%|█████████████████████████████████████████████████████████████████████████████████████████████████████████████████████████████████████████████████████████████████████████▍                                     | 1637/2000 [01:16<00:16, 21.54it/s]"
     ]
    },
    {
     "name": "stdout",
     "output_type": "stream",
     "text": [
      "Loss updated: 100.98931121826172  at iteration 1633\n"
     ]
    },
    {
     "name": "stderr",
     "output_type": "stream",
     "text": [
      " 86%|█████████████████████████████████████████████████████████████████████████████████████████████████████████████████████████████████████████████████████████████████████████████████▊                             | 1718/2000 [01:20<00:12, 22.78it/s]"
     ]
    },
    {
     "name": "stdout",
     "output_type": "stream",
     "text": [
      "Loss updated: 100.938232421875  at iteration 1714\n"
     ]
    },
    {
     "name": "stderr",
     "output_type": "stream",
     "text": [
      "100%|███████████████████████████████████████████████████████████████████████████████████████████████████████████████████████████████████████████████████████████████████████████████████████████████████████████████| 2000/2000 [01:33<00:00, 21.40it/s]\n"
     ]
    }
   ],
   "source": [
    "trained_regressor_X, trained_regressor_Y, loss = regressor_trainer.joint_training(train_reg_X_dl, test_reg_X_dl, train_reg_Y_dl, test_reg_Y_dl)"
   ]
  },
  {
   "cell_type": "code",
   "execution_count": 21,
   "id": "1fa03fe7",
   "metadata": {},
   "outputs": [],
   "source": [
    "config.Rank_2_num_samples = 10"
   ]
  },
  {
   "cell_type": "code",
   "execution_count": 23,
   "id": "00fb57c9",
   "metadata": {},
   "outputs": [],
   "source": [
    "rank_2_pcf = high_order_pcf(regressor_X = trained_regressor_X, \n",
    "                           lie_degree_1 = config.Rank_1_lie_degree, \n",
    "                           lie_degree_2 = config.Rank_2_lie_degree,  \n",
    "                           num_samples_2 = config.Rank_2_num_samples, \n",
    "                           config = config, \n",
    "                           whole_dev = True, \n",
    "                           regressor_Y = trained_regressor_Y, \n",
    "                           add_time=True, \n",
    "                           device=config.device)"
   ]
  },
  {
   "cell_type": "code",
   "execution_count": 24,
   "id": "c945aeac",
   "metadata": {},
   "outputs": [
    {
     "name": "stdout",
     "output_type": "stream",
     "text": [
      "start opitmize charateristics function\n"
     ]
    },
    {
     "name": "stderr",
     "output_type": "stream",
     "text": [
      "\r",
      "  0%|                                                                                                                                                                                                                           | 0/500 [00:00<?, ?it/s]"
     ]
    },
    {
     "name": "stdout",
     "output_type": "stream",
     "text": [
      "Loss updated: 0.01530449092388153\n",
      "Iteration 0 :  loss = 0.01530449092388153\n"
     ]
    },
    {
     "name": "stderr",
     "output_type": "stream",
     "text": [
      "  0%|▊                                                                                                                                                                                                                  | 2/500 [00:01<05:14,  1.58it/s]"
     ]
    },
    {
     "name": "stdout",
     "output_type": "stream",
     "text": [
      "Loss updated: 0.01726624369621277\n"
     ]
    },
    {
     "name": "stderr",
     "output_type": "stream",
     "text": [
      "  4%|█████████▏                                                                                                                                                                                                        | 22/500 [00:12<04:25,  1.80it/s]"
     ]
    },
    {
     "name": "stdout",
     "output_type": "stream",
     "text": [
      "Loss updated: 0.017961522564291954\n"
     ]
    },
    {
     "name": "stderr",
     "output_type": "stream",
     "text": [
      "\r",
      "  5%|█████████▋                                                                                                                                                                                                        | 23/500 [00:12<04:08,  1.92it/s]"
     ]
    },
    {
     "name": "stdout",
     "output_type": "stream",
     "text": [
      "Loss updated: 0.017995942384004593\n"
     ]
    },
    {
     "name": "stderr",
     "output_type": "stream",
     "text": [
      "  6%|███████████▊                                                                                                                                                                                                      | 28/500 [00:15<04:05,  1.92it/s]"
     ]
    },
    {
     "name": "stdout",
     "output_type": "stream",
     "text": [
      "Loss updated: 0.018177643418312073\n"
     ]
    },
    {
     "name": "stderr",
     "output_type": "stream",
     "text": [
      "\r",
      "  6%|████████████▏                                                                                                                                                                                                     | 29/500 [00:15<04:30,  1.74it/s]"
     ]
    },
    {
     "name": "stdout",
     "output_type": "stream",
     "text": [
      "Loss updated: 0.0184920784085989\n"
     ]
    },
    {
     "name": "stderr",
     "output_type": "stream",
     "text": [
      "\r",
      "  6%|████████████▌                                                                                                                                                                                                     | 30/500 [00:16<04:15,  1.84it/s]"
     ]
    },
    {
     "name": "stdout",
     "output_type": "stream",
     "text": [
      "Loss updated: 0.018941016867756844\n"
     ]
    },
    {
     "name": "stderr",
     "output_type": "stream",
     "text": [
      "  6%|█████████████▍                                                                                                                                                                                                    | 32/500 [00:17<04:35,  1.70it/s]"
     ]
    },
    {
     "name": "stdout",
     "output_type": "stream",
     "text": [
      "Loss updated: 0.019778219982981682\n"
     ]
    },
    {
     "name": "stderr",
     "output_type": "stream",
     "text": [
      "  7%|██████████████▎                                                                                                                                                                                                   | 34/500 [00:18<03:58,  1.96it/s]"
     ]
    },
    {
     "name": "stdout",
     "output_type": "stream",
     "text": [
      "Loss updated: 0.020337386056780815\n"
     ]
    },
    {
     "name": "stderr",
     "output_type": "stream",
     "text": [
      "\r",
      "  7%|██████████████▋                                                                                                                                                                                                   | 35/500 [00:18<03:47,  2.04it/s]"
     ]
    },
    {
     "name": "stdout",
     "output_type": "stream",
     "text": [
      "Loss updated: 0.020408907905220985\n"
     ]
    },
    {
     "name": "stderr",
     "output_type": "stream",
     "text": [
      "  7%|███████████████▌                                                                                                                                                                                                  | 37/500 [00:20<04:20,  1.78it/s]"
     ]
    },
    {
     "name": "stdout",
     "output_type": "stream",
     "text": [
      "Loss updated: 0.022032490000128746\n"
     ]
    },
    {
     "name": "stderr",
     "output_type": "stream",
     "text": [
      "\r",
      "  8%|███████████████▉                                                                                                                                                                                                  | 38/500 [00:20<04:02,  1.90it/s]"
     ]
    },
    {
     "name": "stdout",
     "output_type": "stream",
     "text": [
      "Loss updated: 0.02247592620551586\n"
     ]
    },
    {
     "name": "stderr",
     "output_type": "stream",
     "text": [
      " 10%|█████████████████████▊                                                                                                                                                                                            | 52/500 [00:28<04:09,  1.79it/s]"
     ]
    },
    {
     "name": "stdout",
     "output_type": "stream",
     "text": [
      "Loss updated: 0.02298695407807827\n"
     ]
    },
    {
     "name": "stderr",
     "output_type": "stream",
     "text": [
      "\r",
      " 11%|██████████████████████▎                                                                                                                                                                                           | 53/500 [00:28<03:53,  1.91it/s]"
     ]
    },
    {
     "name": "stdout",
     "output_type": "stream",
     "text": [
      "Loss updated: 0.023739613592624664\n"
     ]
    },
    {
     "name": "stderr",
     "output_type": "stream",
     "text": [
      "\r",
      " 11%|██████████████████████▋                                                                                                                                                                                           | 54/500 [00:29<03:42,  2.01it/s]"
     ]
    },
    {
     "name": "stdout",
     "output_type": "stream",
     "text": [
      "Loss updated: 0.023756632581353188\n"
     ]
    },
    {
     "name": "stderr",
     "output_type": "stream",
     "text": [
      " 12%|█████████████████████████▏                                                                                                                                                                                        | 60/500 [00:32<03:30,  2.09it/s]"
     ]
    },
    {
     "name": "stdout",
     "output_type": "stream",
     "text": [
      "Loss updated: 0.023914208635687828\n"
     ]
    },
    {
     "name": "stderr",
     "output_type": "stream",
     "text": [
      " 12%|██████████████████████████                                                                                                                                                                                        | 62/500 [00:33<04:03,  1.80it/s]"
     ]
    },
    {
     "name": "stdout",
     "output_type": "stream",
     "text": [
      "Loss updated: 0.02465166710317135\n"
     ]
    },
    {
     "name": "stderr",
     "output_type": "stream",
     "text": [
      " 13%|███████████████████████████▎                                                                                                                                                                                      | 65/500 [00:35<03:27,  2.09it/s]"
     ]
    },
    {
     "name": "stdout",
     "output_type": "stream",
     "text": [
      "Loss updated: 0.02557443454861641\n"
     ]
    },
    {
     "name": "stderr",
     "output_type": "stream",
     "text": [
      "\r",
      " 13%|███████████████████████████▋                                                                                                                                                                                      | 66/500 [00:35<04:24,  1.64it/s]"
     ]
    },
    {
     "name": "stdout",
     "output_type": "stream",
     "text": [
      "Loss updated: 0.026385022327303886\n"
     ]
    },
    {
     "name": "stderr",
     "output_type": "stream",
     "text": [
      " 14%|████████████████████████████▉                                                                                                                                                                                     | 69/500 [00:37<03:40,  1.96it/s]"
     ]
    },
    {
     "name": "stdout",
     "output_type": "stream",
     "text": [
      "Loss updated: 0.026813512668013573\n"
     ]
    },
    {
     "name": "stderr",
     "output_type": "stream",
     "text": [
      " 15%|██████████████████████████████▋                                                                                                                                                                                   | 73/500 [00:39<03:44,  1.90it/s]"
     ]
    },
    {
     "name": "stdout",
     "output_type": "stream",
     "text": [
      "Loss updated: 0.02723311260342598\n"
     ]
    },
    {
     "name": "stderr",
     "output_type": "stream",
     "text": [
      " 16%|█████████████████████████████████▏                                                                                                                                                                                | 79/500 [00:42<03:56,  1.78it/s]"
     ]
    },
    {
     "name": "stdout",
     "output_type": "stream",
     "text": [
      "Loss updated: 0.027527112513780594\n"
     ]
    },
    {
     "name": "stderr",
     "output_type": "stream",
     "text": [
      "\r",
      " 16%|█████████████████████████████████▌                                                                                                                                                                                | 80/500 [00:43<03:45,  1.87it/s]"
     ]
    },
    {
     "name": "stdout",
     "output_type": "stream",
     "text": [
      "Loss updated: 0.029330400750041008\n"
     ]
    },
    {
     "name": "stderr",
     "output_type": "stream",
     "text": [
      "\r",
      " 16%|██████████████████████████████████                                                                                                                                                                                | 81/500 [00:44<04:34,  1.53it/s]"
     ]
    },
    {
     "name": "stdout",
     "output_type": "stream",
     "text": [
      "Loss updated: 0.02953050099313259\n"
     ]
    },
    {
     "name": "stderr",
     "output_type": "stream",
     "text": [
      " 17%|████████████████████████████████████                                                                                                                                                                              | 86/500 [00:47<04:20,  1.59it/s]"
     ]
    },
    {
     "name": "stdout",
     "output_type": "stream",
     "text": [
      "Loss updated: 0.03159263730049133\n"
     ]
    },
    {
     "name": "stderr",
     "output_type": "stream",
     "text": [
      " 20%|█████████████████████████████████████████▊                                                                                                                                                                       | 100/500 [00:54<03:13,  2.07it/s]"
     ]
    },
    {
     "name": "stdout",
     "output_type": "stream",
     "text": [
      "Loss updated: 0.031877338886260986\n",
      "Iteration 100 :  loss = 0.031877338886260986\n"
     ]
    },
    {
     "name": "stderr",
     "output_type": "stream",
     "text": [
      " 20%|██████████████████████████████████████████▋                                                                                                                                                                      | 102/500 [00:55<03:43,  1.78it/s]"
     ]
    },
    {
     "name": "stdout",
     "output_type": "stream",
     "text": [
      "Loss updated: 0.03218436986207962\n"
     ]
    },
    {
     "name": "stderr",
     "output_type": "stream",
     "text": [
      "\r",
      " 21%|███████████████████████████████████████████                                                                                                                                                                      | 103/500 [00:56<03:28,  1.90it/s]"
     ]
    },
    {
     "name": "stdout",
     "output_type": "stream",
     "text": [
      "Loss updated: 0.03273819014430046\n"
     ]
    },
    {
     "name": "stderr",
     "output_type": "stream",
     "text": [
      " 21%|████████████████████████████████████████████▋                                                                                                                                                                    | 107/500 [00:58<03:41,  1.77it/s]"
     ]
    },
    {
     "name": "stdout",
     "output_type": "stream",
     "text": [
      "Loss updated: 0.03369786962866783\n"
     ]
    },
    {
     "name": "stderr",
     "output_type": "stream",
     "text": [
      " 22%|█████████████████████████████████████████████▌                                                                                                                                                                   | 109/500 [00:59<03:16,  1.99it/s]"
     ]
    },
    {
     "name": "stdout",
     "output_type": "stream",
     "text": [
      "Loss updated: 0.03435031324625015\n"
     ]
    },
    {
     "name": "stderr",
     "output_type": "stream",
     "text": [
      "\r",
      " 22%|█████████████████████████████████████████████▉                                                                                                                                                                   | 110/500 [00:59<03:09,  2.06it/s]"
     ]
    },
    {
     "name": "stdout",
     "output_type": "stream",
     "text": [
      "Loss updated: 0.034672193229198456\n"
     ]
    },
    {
     "name": "stderr",
     "output_type": "stream",
     "text": [
      "\r",
      " 22%|██████████████████████████████████████████████▍                                                                                                                                                                  | 111/500 [01:00<03:59,  1.62it/s]"
     ]
    },
    {
     "name": "stdout",
     "output_type": "stream",
     "text": [
      "Loss updated: 0.0360664501786232\n"
     ]
    },
    {
     "name": "stderr",
     "output_type": "stream",
     "text": [
      " 24%|█████████████████████████████████████████████████▋                                                                                                                                                               | 119/500 [01:04<03:17,  1.93it/s]"
     ]
    },
    {
     "name": "stdout",
     "output_type": "stream",
     "text": [
      "Loss updated: 0.036100734025239944\n"
     ]
    },
    {
     "name": "stderr",
     "output_type": "stream",
     "text": [
      " 24%|██████████████████████████████████████████████████▉                                                                                                                                                              | 122/500 [01:06<03:35,  1.76it/s]"
     ]
    },
    {
     "name": "stdout",
     "output_type": "stream",
     "text": [
      "Loss updated: 0.037047628313302994\n"
     ]
    },
    {
     "name": "stderr",
     "output_type": "stream",
     "text": [
      " 27%|████████████████████████████████████████████████████████▊                                                                                                                                                        | 136/500 [01:14<03:46,  1.61it/s]"
     ]
    },
    {
     "name": "stdout",
     "output_type": "stream",
     "text": [
      "Loss updated: 0.03711819276213646\n"
     ]
    },
    {
     "name": "stderr",
     "output_type": "stream",
     "text": [
      " 28%|█████████████████████████████████████████████████████████▋                                                                                                                                                       | 138/500 [01:15<03:12,  1.88it/s]"
     ]
    },
    {
     "name": "stdout",
     "output_type": "stream",
     "text": [
      "Loss updated: 0.03911107778549194\n"
     ]
    },
    {
     "name": "stderr",
     "output_type": "stream",
     "text": [
      "\r",
      " 28%|██████████████████████████████████████████████████████████                                                                                                                                                       | 139/500 [01:15<03:02,  1.98it/s]"
     ]
    },
    {
     "name": "stdout",
     "output_type": "stream",
     "text": [
      "Loss updated: 0.04007015749812126\n"
     ]
    },
    {
     "name": "stderr",
     "output_type": "stream",
     "text": [
      " 29%|████████████████████████████████████████████████████████████▌                                                                                                                                                    | 145/500 [01:18<02:55,  2.02it/s]"
     ]
    },
    {
     "name": "stdout",
     "output_type": "stream",
     "text": [
      "Loss updated: 0.04024649038910866\n"
     ]
    },
    {
     "name": "stderr",
     "output_type": "stream",
     "text": [
      " 30%|█████████████████████████████████████████████████████████████▊                                                                                                                                                   | 148/500 [01:20<03:07,  1.87it/s]"
     ]
    },
    {
     "name": "stdout",
     "output_type": "stream",
     "text": [
      "Loss updated: 0.040454037487506866\n"
     ]
    },
    {
     "name": "stderr",
     "output_type": "stream",
     "text": [
      " 30%|███████████████████████████████████████████████████████████████▌                                                                                                                                                 | 152/500 [01:22<03:17,  1.77it/s]"
     ]
    },
    {
     "name": "stdout",
     "output_type": "stream",
     "text": [
      "Loss updated: 0.04339195415377617\n"
     ]
    },
    {
     "name": "stderr",
     "output_type": "stream",
     "text": [
      " 35%|████████████████████████████████████████████████████████████████████████▎                                                                                                                                        | 173/500 [01:34<02:54,  1.87it/s]"
     ]
    },
    {
     "name": "stdout",
     "output_type": "stream",
     "text": [
      "Loss updated: 0.04372536763548851\n"
     ]
    },
    {
     "name": "stderr",
     "output_type": "stream",
     "text": [
      " 36%|██████████████████████████████████████████████████████████████████████████▍                                                                                                                                      | 178/500 [01:37<03:18,  1.62it/s]"
     ]
    },
    {
     "name": "stdout",
     "output_type": "stream",
     "text": [
      "Loss updated: 0.0441662073135376\n"
     ]
    },
    {
     "name": "stderr",
     "output_type": "stream",
     "text": [
      "\r",
      " 36%|██████████████████████████████████████████████████████████████████████████▊                                                                                                                                      | 179/500 [01:37<03:04,  1.74it/s]"
     ]
    },
    {
     "name": "stdout",
     "output_type": "stream",
     "text": [
      "Loss updated: 0.04448525235056877\n"
     ]
    },
    {
     "name": "stderr",
     "output_type": "stream",
     "text": [
      " 36%|████████████████████████████████████████████████████████████████████████████                                                                                                                                     | 182/500 [01:39<03:07,  1.69it/s]"
     ]
    },
    {
     "name": "stdout",
     "output_type": "stream",
     "text": [
      "Loss updated: 0.045303672552108765\n"
     ]
    },
    {
     "name": "stderr",
     "output_type": "stream",
     "text": [
      " 37%|████████████████████████████████████████████████████████████████████████████▉                                                                                                                                    | 184/500 [01:40<02:43,  1.93it/s]"
     ]
    },
    {
     "name": "stdout",
     "output_type": "stream",
     "text": [
      "Loss updated: 0.04628916457295418\n"
     ]
    },
    {
     "name": "stderr",
     "output_type": "stream",
     "text": [
      " 38%|███████████████████████████████████████████████████████████████████████████████▍                                                                                                                                 | 190/500 [01:43<02:31,  2.04it/s]"
     ]
    },
    {
     "name": "stdout",
     "output_type": "stream",
     "text": [
      "Loss updated: 0.047144580632448196\n"
     ]
    },
    {
     "name": "stderr",
     "output_type": "stream",
     "text": [
      " 40%|███████████████████████████████████████████████████████████████████████████████████▌                                                                                                                             | 200/500 [01:49<02:26,  2.04it/s]"
     ]
    },
    {
     "name": "stdout",
     "output_type": "stream",
     "text": [
      "Iteration 200 :  loss = 0.04486442357301712\n"
     ]
    },
    {
     "name": "stderr",
     "output_type": "stream",
     "text": [
      "\r",
      " 40%|████████████████████████████████████████████████████████████████████████████████████                                                                                                                             | 201/500 [01:50<03:05,  1.61it/s]"
     ]
    },
    {
     "name": "stdout",
     "output_type": "stream",
     "text": [
      "Loss updated: 0.04789295047521591\n"
     ]
    },
    {
     "name": "stderr",
     "output_type": "stream",
     "text": [
      " 42%|███████████████████████████████████████████████████████████████████████████████████████▎                                                                                                                         | 209/500 [01:54<02:27,  1.98it/s]"
     ]
    },
    {
     "name": "stdout",
     "output_type": "stream",
     "text": [
      "Loss updated: 0.0490531399846077\n"
     ]
    },
    {
     "name": "stderr",
     "output_type": "stream",
     "text": [
      " 44%|███████████████████████████████████████████████████████████████████████████████████████████                                                                                                                      | 218/500 [01:59<02:33,  1.84it/s]"
     ]
    },
    {
     "name": "stdout",
     "output_type": "stream",
     "text": [
      "Loss updated: 0.05000585317611694\n"
     ]
    },
    {
     "name": "stderr",
     "output_type": "stream",
     "text": [
      " 47%|██████████████████████████████████████████████████████████████████████████████████████████████████▋                                                                                                              | 236/500 [02:09<02:42,  1.62it/s]"
     ]
    },
    {
     "name": "stdout",
     "output_type": "stream",
     "text": [
      "Loss updated: 0.050377439707517624\n"
     ]
    },
    {
     "name": "stderr",
     "output_type": "stream",
     "text": [
      " 50%|████████████████████████████████████████████████████████████████████████████████████████████████████████▉                                                                                                        | 251/500 [02:17<02:34,  1.61it/s]"
     ]
    },
    {
     "name": "stdout",
     "output_type": "stream",
     "text": [
      "Loss updated: 0.05344628915190697\n"
     ]
    },
    {
     "name": "stderr",
     "output_type": "stream",
     "text": [
      " 57%|██████████████████████████████████████████████████████████████████████████████████████████████████████████████████████▎                                                                                          | 283/500 [02:34<01:55,  1.87it/s]"
     ]
    },
    {
     "name": "stdout",
     "output_type": "stream",
     "text": [
      "Loss updated: 0.053571563214063644\n"
     ]
    },
    {
     "name": "stderr",
     "output_type": "stream",
     "text": [
      " 59%|██████████████████████████████████████████████████████████████████████████████████████████████████████████████████████████▉                                                                                      | 294/500 [02:40<01:46,  1.94it/s]"
     ]
    },
    {
     "name": "stdout",
     "output_type": "stream",
     "text": [
      "Loss updated: 0.053582143038511276\n"
     ]
    },
    {
     "name": "stderr",
     "output_type": "stream",
     "text": [
      " 60%|█████████████████████████████████████████████████████████████████████████████████████████████████████████████████████████████▍                                                                                   | 300/500 [02:43<01:38,  2.04it/s]"
     ]
    },
    {
     "name": "stdout",
     "output_type": "stream",
     "text": [
      "Iteration 300 :  loss = 0.052031099796295166\n"
     ]
    },
    {
     "name": "stderr",
     "output_type": "stream",
     "text": [
      " 62%|████████████████████████████████████████████████████████████████████████████████████████████████████████████████████████████████▋                                                                                | 308/500 [02:48<01:42,  1.87it/s]"
     ]
    },
    {
     "name": "stdout",
     "output_type": "stream",
     "text": [
      "Loss updated: 0.05422762781381607\n"
     ]
    },
    {
     "name": "stderr",
     "output_type": "stream",
     "text": [
      " 62%|██████████████████████████████████████████████████████████████████████████████████████████████████████████████████████████████████▍                                                                              | 312/500 [02:50<01:47,  1.75it/s]"
     ]
    },
    {
     "name": "stdout",
     "output_type": "stream",
     "text": [
      "Loss updated: 0.05470171198248863\n"
     ]
    },
    {
     "name": "stderr",
     "output_type": "stream",
     "text": [
      " 65%|███████████████████████████████████████████████████████████████████████████████████████████████████████████████████████████████████████                                                                          | 323/500 [02:56<01:36,  1.83it/s]"
     ]
    },
    {
     "name": "stdout",
     "output_type": "stream",
     "text": [
      "Loss updated: 0.05595941096544266\n"
     ]
    },
    {
     "name": "stderr",
     "output_type": "stream",
     "text": [
      " 70%|█████████████████████████████████████████████████████████████████████████████████████████████████████████████████████████████████████████████████▉                                                               | 349/500 [03:10<01:16,  1.96it/s]"
     ]
    },
    {
     "name": "stdout",
     "output_type": "stream",
     "text": [
      "Loss updated: 0.05639054253697395\n"
     ]
    },
    {
     "name": "stderr",
     "output_type": "stream",
     "text": [
      " 73%|████████████████████████████████████████████████████████████████████████████████████████████████████████████████████████████████████████████████████████▉                                                        | 366/500 [03:20<01:23,  1.61it/s]"
     ]
    },
    {
     "name": "stdout",
     "output_type": "stream",
     "text": [
      "Loss updated: 0.057217467576265335\n"
     ]
    },
    {
     "name": "stderr",
     "output_type": "stream",
     "text": [
      " 77%|████████████████████████████████████████████████████████████████████████████████████████████████████████████████████████████████████████████████████████████████                                                 | 383/500 [03:29<01:02,  1.87it/s]"
     ]
    },
    {
     "name": "stdout",
     "output_type": "stream",
     "text": [
      "Loss updated: 0.05732689052820206\n"
     ]
    },
    {
     "name": "stderr",
     "output_type": "stream",
     "text": [
      " 77%|█████████████████████████████████████████████████████████████████████████████████████████████████████████████████████████████████████████████████████████████████▊                                               | 387/500 [03:31<01:04,  1.75it/s]"
     ]
    },
    {
     "name": "stdout",
     "output_type": "stream",
     "text": [
      "Loss updated: 0.06009180471301079\n"
     ]
    },
    {
     "name": "stderr",
     "output_type": "stream",
     "text": [
      " 80%|███████████████████████████████████████████████████████████████████████████████████████████████████████████████████████████████████████████████████████████████████████▏                                         | 400/500 [03:38<00:49,  2.03it/s]"
     ]
    },
    {
     "name": "stdout",
     "output_type": "stream",
     "text": [
      "Iteration 400 :  loss = 0.05851154401898384\n"
     ]
    },
    {
     "name": "stderr",
     "output_type": "stream",
     "text": [
      " 83%|█████████████████████████████████████████████████████████████████████████████████████████████████████████████████████████████████████████████████████████████████████████████                                    | 414/500 [03:46<00:43,  1.97it/s]"
     ]
    },
    {
     "name": "stdout",
     "output_type": "stream",
     "text": [
      "Loss updated: 0.06089865788817406\n"
     ]
    },
    {
     "name": "stderr",
     "output_type": "stream",
     "text": [
      " 85%|██████████████████████████████████████████████████████████████████████████████████████████████████████████████████████████████████████████████████████████████████████████████████▍                              | 427/500 [03:53<00:41,  1.75it/s]"
     ]
    },
    {
     "name": "stdout",
     "output_type": "stream",
     "text": [
      "Loss updated: 0.062290143221616745\n"
     ]
    },
    {
     "name": "stderr",
     "output_type": "stream",
     "text": [
      "100%|█████████████████████████████████████████████████████████████████████████████████████████████████████████████████████████████████████████████████████████████████████████████████████████████████████████████████| 500/500 [04:33<00:00,  1.83it/s]\n"
     ]
    }
   ],
   "source": [
    "losses = rank_2_pcf.train_M(train_pcf_X_dl, train_pcf_Y_dl, test_pcf_X_dl, test_pcf_Y_dl, 500)"
   ]
  },
  {
   "cell_type": "code",
   "execution_count": 25,
   "id": "7cff548e",
   "metadata": {},
   "outputs": [
    {
     "data": {
      "image/png": "[encoded data removed]",
      "text/plain": [
       "<Figure size 640x480 with 1 Axes>"
      ]
     },
     "metadata": {},
     "output_type": "display_data"
    }
   ],
   "source": [
    "plt.plot(losses['R1X_R2Y_loss'], label = \"R1X_R2Y_loss\")\n",
    "plt.legend()\n",
    "plt.show()"
   ]
  },
  {
   "cell_type": "code",
   "execution_count": 26,
   "id": "83cc6a3d",
   "metadata": {},
   "outputs": [
    {
     "data": {
      "image/png": "[encoded data removed]",
      "text/plain": [
       "<Figure size 640x480 with 1 Axes>"
      ]
     },
     "metadata": {},
     "output_type": "display_data"
    }
   ],
   "source": [
    "plt.plot(losses['R1X_R2X_loss'], label = \"R1X_R2X_loss\")\n",
    "plt.plot(losses['R1Y_R2Y_loss'], label = \"R1Y_R2Y_loss\")\n",
    "plt.plot(losses['R1Y_R2X_loss'], label = \"R1Y_R2X_loss\")\n",
    "plt.plot(losses['Out-of-sample-loss'], label = \"Out-of-sample-loss\")\n",
    "plt.legend()\n",
    "plt.show()"
   ]
  },
  {
   "cell_type": "code",
   "execution_count": 27,
   "id": "a26b1cdf",
   "metadata": {},
   "outputs": [
    {
     "name": "stderr",
     "output_type": "stream",
     "text": [
      "100%|█████████████████████████████████████████████████████████████████████████████████████████████████████████████████████████████████████████████████████████████████████████████████████████████████████████████████| 500/500 [00:31<00:00, 15.64it/s]\n"
     ]
    }
   ],
   "source": [
    "power, type1_error, H0_stats, H1_stats = rank_2_pcf.permutation_test(test_pcf_X_dl.dataset, \n",
    "                                                                    test_pcf_Y_dl.dataset, \n",
    "                                                                    sample_size = 200, \n",
    "                                                                    num_permutations=500)"
   ]
  },
  {
   "cell_type": "code",
   "execution_count": 28,
   "id": "e9424c61",
   "metadata": {},
   "outputs": [
    {
     "data": {
      "text/plain": [
       "0.31399999999999995"
      ]
     },
     "execution_count": 28,
     "metadata": {},
     "output_type": "execute_result"
    }
   ],
   "source": [
    "power"
   ]
  },
  {
   "cell_type": "code",
   "execution_count": null,
   "id": "ef4544d1",
   "metadata": {},
   "outputs": [],
   "source": []
  }
 ],
 "metadata": {
  "kernelspec": {
   "display_name": "levy",
   "language": "python",
   "name": "levy"
  },
  "language_info": {
   "codemirror_mode": {
    "name": "ipython",
    "version": 3
   },
   "file_extension": ".py",
   "mimetype": "text/x-python",
   "name": "python",
   "nbconvert_exporter": "python",
   "pygments_lexer": "ipython3",
   "version": "3.9.13"
  }
 },
 "nbformat": 4,
 "nbformat_minor": 5
}
