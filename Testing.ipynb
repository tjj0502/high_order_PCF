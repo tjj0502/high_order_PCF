{
 "cells": [
  {
   "cell_type": "code",
   "execution_count": 1,
   "id": "8137cece",
   "metadata": {
    "scrolled": true
   },
   "outputs": [],
   "source": [
    "import torch\n",
    "import numpy as np\n",
    "import matplotlib.pyplot as plt\n",
    "from tqdm.notebook import tqdm\n",
    "import itertools\n",
    "# import higherOrderKME\n",
    "# from higherOrderKME import sigkernel\n",
    "import Path_Char\n",
    "from Path_Char.path_characteristic_function import char_func_path\n",
    "from Path_Char.high_order_pcf import PCFKernel\n",
    "\n",
    "# Using seaborn's style\n",
    "plt.style.use('seaborn-colorblind')\n",
    "width = 345\n",
    "tex_fonts = {\n",
    "    \"text.usetex\": False,  # put False if this raises errors\n",
    "    \"font.family\": \"serif\",\n",
    "    \"axes.labelsize\": 24,\n",
    "    \"font.size\": 22,\n",
    "    \"legend.fontsize\": 24,\n",
    "    \"xtick.labelsize\": 20,\n",
    "    \"ytick.labelsize\": 20,\n",
    "    'figure.figsize': (7, 5),\n",
    "}\n",
    "plt.rcParams.update(tex_fonts)"
   ]
  },
  {
   "cell_type": "code",
   "execution_count": 2,
   "id": "4e56ce52",
   "metadata": {},
   "outputs": [],
   "source": [
    "device = 'cuda'"
   ]
  },
  {
   "cell_type": "code",
   "execution_count": 3,
   "id": "5625561d",
   "metadata": {},
   "outputs": [],
   "source": [
    "class RBFKernel():\n",
    "    \"\"\"RBF kernel k: R^d x R^d -> R\"\"\"\n",
    "\n",
    "    def __init__(self, sigma, add_time=0):\n",
    "        self.sigma = sigma\n",
    "        self.add_time = add_time\n",
    "\n",
    "    def batch_kernel(self, X, Y):\n",
    "        \"\"\"Input: \n",
    "                  - X: torch tensor of shape (batch, length_X, dim),\n",
    "                  - Y: torch tensor of shape (batch, length_Y, dim)\n",
    "           Output: \n",
    "                  - matrix k(X^i_s,Y^i_t) of shape (batch, length_X, length_Y)\n",
    "        \"\"\"\n",
    "        A, M, N = X.shape[0], X.shape[1], Y.shape[1]\n",
    "\n",
    "        Xs = torch.sum(X**2, dim=2)\n",
    "        Ys = torch.sum(Y**2, dim=2)\n",
    "        dist = -2.*torch.bmm(X, Y.permute(0, 2, 1))\n",
    "        dist += torch.reshape(Xs, (A, M, 1)) + torch.reshape(Ys, (A, 1, N))\n",
    "\n",
    "        if self.add_time != 0:\n",
    "            fact = 1./self.add_time\n",
    "            time_component = (fact*torch.arange(X.shape[1], device=X.device, dtype=X.dtype)[:, None]-fact*torch.arange(Y.shape[1], device=Y.device, dtype=Y.dtype)[None, :])**2\n",
    "            dist += time_component[None, :, :]\n",
    "\n",
    "        return torch.exp(-dist/self.sigma)\n",
    "\n",
    "    def Gram_matrix(self, X, Y):\n",
    "        \"\"\"Input: \n",
    "                  - X: torch tensor of shape (batch_X, length_X, dim),\n",
    "                  - Y: torch tensor of shape (batch_Y, length_Y, dim)\n",
    "           Output: \n",
    "                  - matrix k(X^i_s,Y^j_t) of shape (batch_X, batch_Y, length_X, length_Y)\n",
    "        \"\"\"\n",
    "        A, B, M, N = X.shape[0], Y.shape[0], X.shape[1], Y.shape[1]\n",
    "\n",
    "        Xs = torch.sum(X**2, dim=2)\n",
    "        Ys = torch.sum(Y**2, dim=2)\n",
    "        dist = -2.*torch.einsum('ipk,jqk->ijpq', X, Y)\n",
    "        dist += torch.reshape(Xs, (A, 1, M, 1)) + torch.reshape(Ys, (1, B, 1, N))\n",
    "\n",
    "        if self.add_time:\n",
    "            fact = 1./self.add_time\n",
    "            time_component = (fact*torch.arange(X.shape[1], device=X.device, dtype=X.dtype)[:, None]-fact*torch.arange(Y.shape[1], device=Y.device, dtype=Y.dtype)[None, :])**2\n",
    "            dist += time_component[None, None, :, :]\n",
    "        return torch.exp(-dist/self.sigma)"
   ]
  },
  {
   "cell_type": "code",
   "execution_count": 4,
   "id": "7f592e8c",
   "metadata": {},
   "outputs": [],
   "source": [
    "# number of path coordinates and number of time steps\n",
    "D, L = 1, 3 \n",
    "\n",
    "# experimental setup\n",
    "repeats, n_samples, n, lambda_ = 100, 500, 5*1e5, 1e-5\n",
    "\n",
    "MMD_1 = np.zeros((repeats, 2))\n",
    "MMD_2 = np.zeros((repeats, 2))\n",
    "\n",
    "# to store the sample paths from X_n and X\n",
    "X = np.zeros((repeats, n_samples, 2, L, D)) \n",
    "X_n = np.zeros((repeats, n_samples, 2, L, D))   \n",
    "\n",
    "# sample from X_n \n",
    "omega_1 = np.random.choice(a=[-1, 1], size=(repeats, n_samples, 2))\n",
    "omega_2 = np.random.choice(a=[-1, 1], size=(repeats, n_samples, 2))\n",
    "X_n[:, :, :, 1, 0] = omega_1 * 1./n\n",
    "X_n[:, :, :, 2, 0] = 0.1 * omega_1\n",
    "\n",
    "# sample from X\n",
    "omega_1 = np.random.choice(a=[-1, 1], size=(repeats, n_samples, 2))\n",
    "X[:, :, :, 2, 0] = 0.1 * omega_1"
   ]
  },
  {
   "cell_type": "code",
   "execution_count": 5,
   "id": "85dfa83f",
   "metadata": {},
   "outputs": [
    {
     "data": {
      "text/plain": [
       "char_func_path(\n",
       "  (unitary_development): development_layer(\n",
       "    (projection): projection(\n",
       "      (param_map): unitary()\n",
       "    )\n",
       "  )\n",
       ")"
      ]
     },
     "execution_count": 5,
     "metadata": {},
     "output_type": "execute_result"
    }
   ],
   "source": [
    "lie_degree_1 = 4\n",
    "num_samples_1 = 100\n",
    "input_size = 1\n",
    "add_time = False\n",
    "\n",
    "num_samples_2 = 100\n",
    "lie_degree_2 = 4\n",
    "\n",
    "pcf_level_1 = char_func_path(num_samples=num_samples_1, \n",
    "                              hidden_size=lie_degree_1, \n",
    "                              input_dim=input_size, \n",
    "                              add_time=add_time, \n",
    "                              include_initial = False)\n",
    "\n",
    "pcf_level_2 = char_func_path(num_samples=num_samples_2, \n",
    "                              hidden_size=lie_degree_2, \n",
    "                              input_dim=lie_degree_1**2, \n",
    "                              add_time=add_time, \n",
    "                              include_initial = False)\n",
    "\n",
    "pcf_level_1.to(device)\n",
    "pcf_level_2.to(device)"
   ]
  },
  {
   "cell_type": "code",
   "execution_count": 7,
   "id": "8ad9998d",
   "metadata": {},
   "outputs": [],
   "source": [
    "kernel_order1 = PCFKernel(pcf_level_1)\n",
    "kernel_order2 = PCFKernel([pcf_level_1, pcf_level_2])"
   ]
  },
  {
   "cell_type": "code",
   "execution_count": 9,
   "id": "36b0ac86",
   "metadata": {},
   "outputs": [
    {
     "data": {
      "application/vnd.jupyter.widget-view+json": {
       "model_id": "7c8141bae9394499bbd9c3d04a3e1305",
       "version_major": 2,
       "version_minor": 0
      },
      "text/plain": [
       "  0%|          | 0/100 [00:00<?, ?it/s]"
      ]
     },
     "metadata": {},
     "output_type": "display_data"
    }
   ],
   "source": [
    "for i in tqdm(range(repeats)):\n",
    "\n",
    "    x0 = torch.tensor(X[i, :, 0, :, :], dtype=torch.float64).to(device)     # X of shape (repeats,n_samples,2,L,D)\n",
    "    x0_ = torch.tensor(X[i, :, 1, :, :], dtype=torch.float64).to(device)    # independent copy of X\n",
    "    xn = torch.tensor(X_n[i, :, 0, :, :], dtype=torch.float64).to(device)\n",
    "    xn_ = torch.tensor(X_n[i, :, 1, :, :], dtype=torch.float64).to(device)  # independent copy of X_n\n",
    "\n",
    "    MMD_2[i,0] = kernel_order2.compute_mmd(x0, x0_, order=2)   \n",
    "    MMD_2[i,1] = kernel_order2.compute_mmd(xn, x0, order=2)   \n",
    "    \n",
    "    MMD_1[i,0] = kernel_order1.compute_mmd(x0, x0_, order=1)   \n",
    "    MMD_1[i,1] = kernel_order1.compute_mmd(xn, x0, order=1)   "
   ]
  },
  {
   "cell_type": "code",
   "execution_count": 10,
   "id": "f8e2ce7d",
   "metadata": {},
   "outputs": [
    {
     "data": {
      "image/png": "[encoded data removed]",
      "text/plain": [
       "<Figure size 1500x500 with 2 Axes>"
      ]
     },
     "metadata": {},
     "output_type": "display_data"
    }
   ],
   "source": [
    "fig, ax = plt.subplots(1,2,figsize=(15,5))\n",
    "\n",
    "ax[0].hist(MMD_1[:,0], bins=25, label='H_0',edgecolor='#E6E6E6')\n",
    "ax[0].hist(MMD_1[:,1], bins=25, label='H_A',edgecolor='#E6E6E6')\n",
    "\n",
    "ax[0].legend(loc='upper right', ncol=2, fontsize=22)\n",
    "ax[0].set_xlabel('D_1(X, Y)^2', labelpad=10)\n",
    "ax[0].set_ylabel('Count', labelpad=10)\n",
    "\n",
    "ax[1].hist(MMD_2[:,0], bins=25, label='H_0', edgecolor='#E6E6E6')\n",
    "ax[1].hist(MMD_2[:,1], bins=25, label='H_A', edgecolor='#E6E6E6')\n",
    "\n",
    "ax[1].legend(loc='upper right', ncol=2, fontsize=22)\n",
    "ax[1].set_xlabel('D_2(X, Y)^2', labelpad=10)\n",
    "ax[1].set_ylabel('Count', labelpad=10)\n",
    "\n",
    "plt.tight_layout(pad=3.0)\n",
    "# plt.savefig('MMD_binary_tex.pdf',bbox_inches='tight')\n",
    "plt.show()"
   ]
  }
 ],
 "metadata": {
  "kernelspec": {
   "display_name": "levy",
   "language": "python",
   "name": "levy"
  },
  "language_info": {
   "codemirror_mode": {
    "name": "ipython",
    "version": 3
   },
   "file_extension": ".py",
   "mimetype": "text/x-python",
   "name": "python",
   "nbconvert_exporter": "python",
   "pygments_lexer": "ipython3",
   "version": "3.9.13"
  }
 },
 "nbformat": 4,
 "nbformat_minor": 5
}
