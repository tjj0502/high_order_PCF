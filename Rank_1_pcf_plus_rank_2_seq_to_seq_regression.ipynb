{
 "cells": [
  {
   "cell_type": "code",
   "execution_count": 17,
   "id": "233c394f",
   "metadata": {},
   "outputs": [],
   "source": [
    "import torch\n",
    "import numpy as np\n",
    "import matplotlib.pyplot as plt\n",
    "from tqdm.notebook import tqdm\n",
    "# import higherOrderKME\n",
    "# from higherOrderKME import sigkernel\n",
    "import Path_Char\n",
    "from Path_Char.path_characteristic_function import char_func_path\n",
    "from Path_Char.model import LSTMRegressor, UnitaryLSTMGenerator, UnitaryLSTMRegressor\n",
    "from Path_Char.utils import AddTime\n",
    "from torch.utils.data import DataLoader\n",
    "import ml_collections\n",
    "from torch.distributions import Bernoulli\n",
    "import seaborn as sns\n",
    "import os\n",
    "import itertools\n",
    "# import signatory\n",
    "import torch.nn as nn\n",
    "from fbm import FBM\n",
    "os.environ[\"CUDA_VISIBLE_DEVICES\"] = \"2\"\n",
    "sns.set()\n",
    "torch.manual_seed(0)\n",
    "device = 'cuda'"
   ]
  },
  {
   "cell_type": "code",
   "execution_count": 18,
   "id": "1cdd4e8a",
   "metadata": {},
   "outputs": [],
   "source": [
    "def FBM_data(num_samples, dim, length, h):\n",
    "    fbm_paths = []\n",
    "    for i in range(num_samples*dim):\n",
    "        f = FBM(n=length, hurst=h, method='daviesharte')\n",
    "        fbm_paths.append(f.fbm())\n",
    "    data = torch.FloatTensor(np.array(fbm_paths)).reshape(\n",
    "        num_samples, dim, length+1).permute(0, 2, 1)\n",
    "    return data"
   ]
  },
  {
   "cell_type": "code",
   "execution_count": 19,
   "id": "baac383e",
   "metadata": {},
   "outputs": [],
   "source": [
    "# Construct fbm path with different Hurst parameter\n",
    "\n",
    "samples = 10000\n",
    "steps = 50\n",
    "\n",
    "bm = FBM_data(samples, dim=3, length=steps, h=0.5)\n",
    "fbm_h = FBM_data(samples, dim=3, length=steps, h=0.475)\n",
    "\n",
    "bm_test = FBM_data(samples, dim=3, length=steps, h=0.5)\n",
    "fbm_h_test = FBM_data(samples, dim=3, length=steps, h=0.475)\n",
    "\n",
    "fbm_h = fbm_h.to(device)\n",
    "bm = bm.to(device)\n",
    "fbm_h_test = fbm_h_test.to(device)\n",
    "bm_test = bm_test.to(device)"
   ]
  },
  {
   "cell_type": "code",
   "execution_count": 20,
   "id": "41fddf25",
   "metadata": {},
   "outputs": [],
   "source": [
    "# Construct rank 1 pcf discriminator\n",
    "input_dim = fbm_h.shape[-1]\n",
    "num_samples_1 = 8\n",
    "lie_degree_1 = 8\n",
    "pcf_level_1 = char_func_path(num_samples=num_samples_1,\n",
    "                             hidden_size=lie_degree_1,\n",
    "                             input_dim= input_dim,\n",
    "                             lie_group = 'unitary',\n",
    "                             add_time=True,\n",
    "                             include_initial=False,\n",
    "                             return_sequence=False).to(device)"
   ]
  },
  {
   "cell_type": "code",
   "execution_count": 21,
   "id": "74e88d8a",
   "metadata": {},
   "outputs": [],
   "source": [
    "batch_size = 1024\n",
    "# Build the dataset\n",
    "X_train_dl = DataLoader(bm, batch_size, shuffle=True)\n",
    "Y_train_dl = DataLoader(fbm_h, batch_size, shuffle=True)\n",
    "\n",
    "X_test_dl = DataLoader(bm_test, batch_size, shuffle=True)\n",
    "Y_test_dl = DataLoader(fbm_h_test, batch_size, shuffle=True)"
   ]
  },
  {
   "cell_type": "code",
   "execution_count": 22,
   "id": "f27da93d",
   "metadata": {},
   "outputs": [],
   "source": [
    "from torch.optim.lr_scheduler import LinearLR\n",
    "def train_M(pcf_level_2, X_dl, Y_dl, iterations):\n",
    "#     iterations = 5000\n",
    "    best_loss = 0.\n",
    "    losses = []\n",
    "    char_2_optimizer = torch.optim.Adam(pcf_level_2.parameters(), betas=(0, 0.9), lr=0.02)\n",
    "#     scheduler = LinearLR(char_2_optimizer, start_factor=1, end_factor=0.1, total_iters=iterations)\n",
    "    print('start opitmize charateristics function')\n",
    "    pcf_level_2.train()\n",
    "    for i in tqdm(range(iterations)):\n",
    "\n",
    "        X = next(iter(X_dl))\n",
    "        Y = next(iter(Y_dl))\n",
    "        char_2_optimizer.zero_grad()\n",
    "        char_loss = - pcf_level_2.distance_measure(X, Y, Lambda=0)\n",
    "        losses.append(char_loss)\n",
    "        if -char_loss > best_loss:\n",
    "            print(\"Loss updated: {}\".format(-char_loss))\n",
    "            best_loss = -char_loss\n",
    "        if i % 100 == 0:\n",
    "            print(\"Iteration {} :\".format(i), \" loss = {}\".format(-char_loss))\n",
    "        char_loss.backward()\n",
    "#         for param in pcf_level_2.parameters():\n",
    "#             print(\"grad:\", torch.norm(param.grad))\n",
    "#             print(\"param:\", torch.norm(param))\n",
    "        char_2_optimizer.step()\n",
    "#         scheduler.step()\n",
    "    return pcf_level_2, losses\n",
    "\n",
    "\n",
    "def evaluate(pcf_level_2, X_dl, Y_dl):\n",
    "    pcf_level_2.eval()\n",
    "    repeats = 100\n",
    "    MMD_1 = np.zeros((repeats))\n",
    "    MMD_2 = np.zeros((repeats))\n",
    "    with torch.no_grad():\n",
    "        for i in tqdm(range(repeats)):\n",
    "            exp_dev_X = next(iter(X_dl))\n",
    "            exp_dev_X_ = next(iter(X_dl))\n",
    "            exp_dev_Y = next(iter(Y_dl))\n",
    "            \n",
    "\n",
    "            MMD_1[i] = pcf_level_2.distance_measure(exp_dev_X, exp_dev_X_, Lambda=0)\n",
    "            MMD_2[i] = pcf_level_2.distance_measure(exp_dev_X, exp_dev_Y, Lambda=0)\n",
    "            \n",
    "    fig, ax = plt.subplots(1,1,figsize=(15,5))\n",
    "\n",
    "    ax.hist(MMD_1, bins=25, label='H_0',edgecolor='#E6E6E6')\n",
    "    ax.hist(MMD_2, bins=25, label='H_A',edgecolor='#E6E6E6')\n",
    "\n",
    "    ax.legend(loc='upper right', ncol=2, fontsize=22)\n",
    "    ax.set_xlabel('D_1(X, Y)^2', labelpad=10)\n",
    "    ax.set_ylabel('Count', labelpad=10)\n",
    "\n",
    "    plt.tight_layout(pad=3.0)\n",
    "    # plt.savefig('MMD_binary_tex.pdf',bbox_inches='tight')\n",
    "    plt.show()\n",
    "    return MMD_1, MMD_2\n",
    "\n",
    "\n",
    "def permutation_test(pcf, X, Y, sample_size, num_permutations=500):\n",
    "        with torch.no_grad():\n",
    "            pcf.eval()\n",
    "\n",
    "#             X = self.subsample(X, sample_size).to(self.device)\n",
    "#             Y = self.subsample(Y, sample_size).to(self.device)\n",
    "\n",
    "            # print(t1)\n",
    "            n, m = X.shape[0], Y.shape[0]\n",
    "            combined = torch.cat([X, Y])\n",
    "            H0_stats = np.zeros((num_permutations))\n",
    "            H1_stats = np.zeros((num_permutations))\n",
    "\n",
    "            for i in tqdm(range(num_permutations)):\n",
    "                X_sample = subsample(X, sample_size).to(device)\n",
    "                Y_sample = subsample(Y, sample_size).to(device)\n",
    "                \n",
    "                n, m = X_sample.shape[0], Y_sample.shape[0]\n",
    "                combined = torch.cat([X_sample, Y_sample])\n",
    "                \n",
    "                \n",
    "                idx = torch.randperm(n + m)\n",
    "                H0_stats[i] = pcf.distance_measure(combined[idx[:n]], combined[idx[n:]],  Lambda=0)\n",
    "                H1_stats[i] = pcf.distance_measure(X_sample, Y_sample,  Lambda=0)\n",
    "            Q_a = np.quantile(np.array(H0_stats), q=0.95)\n",
    "            Q_b = np.quantile(np.array(H1_stats), q=0.05)\n",
    "\n",
    "            # print(statistics)\n",
    "            # print(np.array(statistics))\n",
    "            power = 1 - (Q_a > np.array(H1_stats)).sum() / num_permutations\n",
    "            type1_error = (Q_b < np.array(H0_stats)).sum() / num_permutations\n",
    "            \n",
    "            print_hist(H0_stats, H1_stats)\n",
    "        return power, type1_error\n",
    "\n",
    "def subsample(data, sample_size):\n",
    "    idx = torch.randint(low=0, high=data.shape[0], size=[sample_size])\n",
    "    return data[idx]\n",
    "\n",
    "def print_hist(hist_1, hist_2):\n",
    "    fig, ax = plt.subplots(1,1,figsize=(15,5))\n",
    "\n",
    "    ax.hist(hist_1, bins=25, label='H_0',edgecolor='#E6E6E6')\n",
    "    ax.hist(hist_2, bins=25, label='H_A',edgecolor='#E6E6E6')\n",
    "\n",
    "    ax.legend(loc='upper right', ncol=2, fontsize=22)\n",
    "    ax.set_xlabel('D_1(X, Y)^2', labelpad=10)\n",
    "    ax.set_ylabel('Count', labelpad=10)\n",
    "\n",
    "    plt.tight_layout(pad=3.0)\n",
    "    # plt.savefig('MMD_binary_tex.pdf',bbox_inches='tight')\n",
    "    plt.show()"
   ]
  },
  {
   "cell_type": "code",
   "execution_count": 23,
   "id": "897968d3",
   "metadata": {
    "scrolled": true
   },
   "outputs": [
    {
     "name": "stdout",
     "output_type": "stream",
     "text": [
      "start opitmize charateristics function\n"
     ]
    },
    {
     "data": {
      "application/vnd.jupyter.widget-view+json": {
       "model_id": "331e97cdd85f496e847b97e5226e0d9d",
       "version_major": 2,
       "version_minor": 0
      },
      "text/plain": [
       "  0%|          | 0/2000 [00:00<?, ?it/s]"
      ]
     },
     "metadata": {},
     "output_type": "display_data"
    },
    {
     "name": "stdout",
     "output_type": "stream",
     "text": [
      "Loss updated: 0.015219569206237793\n",
      "Iteration 0 :  loss = 0.015219569206237793\n",
      "Loss updated: 0.015780653804540634\n",
      "Loss updated: 0.016765683889389038\n",
      "Loss updated: 0.017557144165039062\n",
      "Loss updated: 0.0175652876496315\n",
      "Loss updated: 0.018440641462802887\n",
      "Loss updated: 0.019455021247267723\n",
      "Loss updated: 0.01978195458650589\n",
      "Loss updated: 0.01995454728603363\n",
      "Loss updated: 0.02142326533794403\n",
      "Iteration 100 :  loss = 0.01945130154490471\n",
      "Loss updated: 0.022764764726161957\n",
      "Loss updated: 0.02284570038318634\n",
      "Loss updated: 0.02307734452188015\n",
      "Loss updated: 0.023283634334802628\n",
      "Loss updated: 0.023318244144320488\n",
      "Loss updated: 0.02339818701148033\n",
      "Loss updated: 0.023534324020147324\n",
      "Iteration 200 :  loss = 0.02056768164038658\n",
      "Loss updated: 0.02459692396223545\n",
      "Loss updated: 0.025181129574775696\n",
      "Loss updated: 0.025192655622959137\n",
      "Loss updated: 0.02554839849472046\n",
      "Loss updated: 0.02595357410609722\n",
      "Loss updated: 0.026309367269277573\n",
      "Iteration 300 :  loss = 0.023260802030563354\n",
      "Loss updated: 0.026445984840393066\n",
      "Loss updated: 0.02755635604262352\n",
      "Iteration 400 :  loss = 0.023545902222394943\n",
      "Iteration 500 :  loss = 0.02514057233929634\n",
      "Loss updated: 0.029285836964845657\n",
      "Iteration 600 :  loss = 0.0276481993496418\n",
      "Loss updated: 0.029842449352145195\n",
      "Iteration 700 :  loss = 0.02665230631828308\n",
      "Iteration 800 :  loss = 0.026278456673026085\n",
      "Loss updated: 0.030251286923885345\n",
      "Iteration 900 :  loss = 0.027955904603004456\n",
      "Loss updated: 0.030682969838380814\n",
      "Iteration 1000 :  loss = 0.026260236278176308\n",
      "Loss updated: 0.03163817152380943\n",
      "Loss updated: 0.03204610198736191\n",
      "Iteration 1100 :  loss = 0.02640073373913765\n",
      "Loss updated: 0.032567039132118225\n",
      "Iteration 1200 :  loss = 0.02762647345662117\n",
      "Iteration 1300 :  loss = 0.02745656669139862\n",
      "Iteration 1400 :  loss = 0.028224870562553406\n",
      "Iteration 1500 :  loss = 0.028426099568605423\n",
      "Iteration 1600 :  loss = 0.028053946793079376\n",
      "Loss updated: 0.03273823484778404\n",
      "Loss updated: 0.03280485421419144\n",
      "Loss updated: 0.033416956663131714\n",
      "Iteration 1700 :  loss = 0.028729353100061417\n",
      "Iteration 1800 :  loss = 0.028547562658786774\n",
      "Loss updated: 0.03348685801029205\n",
      "Loss updated: 0.033833298832178116\n",
      "Iteration 1900 :  loss = 0.029935944825410843\n"
     ]
    }
   ],
   "source": [
    "torch.manual_seed(42)\n",
    "# Train the discriminator\n",
    "trained_pcf_level_1, losses = train_M(pcf_level_1, X_train_dl, Y_train_dl, 2000)"
   ]
  },
  {
   "cell_type": "code",
   "execution_count": 24,
   "id": "d28de10f",
   "metadata": {},
   "outputs": [
    {
     "data": {
      "text/plain": [
       "[<matplotlib.lines.Line2D at 0x7fae53ce8fa0>]"
      ]
     },
     "execution_count": 24,
     "metadata": {},
     "output_type": "execute_result"
    },
    {
     "data": {
      "image/png": "[encoded data removed]",
      "text/plain": [
       "<Figure size 640x480 with 1 Axes>"
      ]
     },
     "metadata": {},
     "output_type": "display_data"
    }
   ],
   "source": [
    "# Loss plot\n",
    "plt.plot(torch.stack(losses).detach().cpu())"
   ]
  },
  {
   "cell_type": "code",
   "execution_count": 25,
   "id": "b7b2729a",
   "metadata": {},
   "outputs": [
    {
     "data": {
      "text/plain": [
       "torch.Size([4, 8, 8, 8])"
      ]
     },
     "execution_count": 25,
     "metadata": {},
     "output_type": "execute_result"
    }
   ],
   "source": [
    "pcf_level_1.unitary_development.projection.A.shape"
   ]
  },
  {
   "cell_type": "code",
   "execution_count": 26,
   "id": "49db89f8",
   "metadata": {
    "scrolled": false
   },
   "outputs": [
    {
     "data": {
      "application/vnd.jupyter.widget-view+json": {
       "model_id": "c122060e730d412b913a7f5bc66ddbab",
       "version_major": 2,
       "version_minor": 0
      },
      "text/plain": [
       "  0%|          | 0/100 [00:00<?, ?it/s]"
      ]
     },
     "metadata": {},
     "output_type": "display_data"
    },
    {
     "data": {
      "image/png": "[encoded data removed]",
      "text/plain": [
       "<Figure size 1500x500 with 1 Axes>"
      ]
     },
     "metadata": {},
     "output_type": "display_data"
    }
   ],
   "source": [
    "# Test the discriminative power\n",
    "MMD_1, MMD_2 = evaluate(pcf_level_1, X_test_dl, Y_test_dl)"
   ]
  },
  {
   "cell_type": "code",
   "execution_count": 27,
   "id": "df578617",
   "metadata": {},
   "outputs": [],
   "source": [
    "Q_a = np.quantile(np.array(MMD_1), q=0.95)\n",
    "Q_b = np.quantile(np.array(MMD_2), q=0.05)\n",
    "\n",
    "# print(statistics)\n",
    "# print(np.array(statistics))\n",
    "power = 1 - (Q_a > np.array(MMD_2)).sum() / 100\n",
    "type1_error = (Q_b < np.array(MMD_1)).sum() / 100"
   ]
  },
  {
   "cell_type": "code",
   "execution_count": 28,
   "id": "26101877",
   "metadata": {},
   "outputs": [
    {
     "data": {
      "text/plain": [
       "1.0"
      ]
     },
     "execution_count": 28,
     "metadata": {},
     "output_type": "execute_result"
    }
   ],
   "source": [
    "power"
   ]
  },
  {
   "cell_type": "code",
   "execution_count": 31,
   "id": "b4bba652",
   "metadata": {
    "scrolled": false
   },
   "outputs": [
    {
     "data": {
      "application/vnd.jupyter.widget-view+json": {
       "model_id": "bac4dbb352344b258913a0bd3a03fb5c",
       "version_major": 2,
       "version_minor": 0
      },
      "text/plain": [
       "  0%|          | 0/500 [00:00<?, ?it/s]"
      ]
     },
     "metadata": {},
     "output_type": "display_data"
    },
    {
     "data": {
      "image/png": "[encoded data removed]",
      "text/plain": [
       "<Figure size 1500x500 with 1 Axes>"
      ]
     },
     "metadata": {},
     "output_type": "display_data"
    }
   ],
   "source": [
    "power, type1_error = permutation_test(pcf_level_1, bm_test, fbm_h_test, 200)"
   ]
  },
  {
   "cell_type": "code",
   "execution_count": 32,
   "id": "a135334c",
   "metadata": {},
   "outputs": [
    {
     "data": {
      "text/plain": [
       "0.17600000000000005"
      ]
     },
     "execution_count": 32,
     "metadata": {},
     "output_type": "execute_result"
    }
   ],
   "source": [
    "power"
   ]
  },
  {
   "cell_type": "code",
   "execution_count": null,
   "id": "596a56d8",
   "metadata": {},
   "outputs": [],
   "source": []
  },
  {
   "cell_type": "markdown",
   "id": "3bb2915d",
   "metadata": {},
   "source": [
    "### Rank 2 PCF"
   ]
  },
  {
   "cell_type": "code",
   "execution_count": 6,
   "id": "2ef7de20",
   "metadata": {},
   "outputs": [],
   "source": [
    "# Regression model parameters\n",
    "config = {'G_input_dim': 4,\n",
    "          'G_hidden_dim': 128,\n",
    "          'G_num_layers': 5,\n",
    "          'G_output_dim': 5}\n",
    "config = ml_collections.ConfigDict(config)"
   ]
  },
  {
   "cell_type": "code",
   "execution_count": 7,
   "id": "1ada5aa0",
   "metadata": {},
   "outputs": [
    {
     "data": {
      "text/plain": [
       "char_func_path(\n",
       "  (unitary_development): development_layer(\n",
       "    (projection): projection(\n",
       "      (param_map): unitary()\n",
       "    )\n",
       "  )\n",
       ")"
      ]
     },
     "execution_count": 7,
     "metadata": {},
     "output_type": "execute_result"
    }
   ],
   "source": [
    "lie_degree_1 = 5\n",
    "num_samples_1 = 1\n",
    "input_size = 3\n",
    "add_time = True\n",
    "\n",
    "pcf_level_1 = char_func_path(num_samples=num_samples_1, \n",
    "                              hidden_size=lie_degree_1, \n",
    "                              input_dim=input_size, \n",
    "                              add_time=add_time, \n",
    "                              include_initial = False,\n",
    "                              return_sequence=False)\n",
    "pcf_level_1.to(device)"
   ]
  },
  {
   "cell_type": "code",
   "execution_count": 8,
   "id": "6b1f8618",
   "metadata": {},
   "outputs": [
    {
     "data": {
      "text/plain": [
       "torch.Size([4, 1, 5, 5])"
      ]
     },
     "execution_count": 8,
     "metadata": {},
     "output_type": "execute_result"
    }
   ],
   "source": [
    "pcf_level_1.unitary_development.projection.A.shape"
   ]
  },
  {
   "cell_type": "code",
   "execution_count": 8,
   "id": "df14e281",
   "metadata": {},
   "outputs": [],
   "source": [
    "# Prepare dataset for regression\n",
    "batch_size = 512\n",
    "with torch.no_grad():\n",
    "    dev_X = pcf_level_1.unitary_development(AddTime(bm).to(device)).repeat([1, steps+1, 1, 1])\n",
    "    dev_Y = pcf_level_1.unitary_development(AddTime(fbm_h).to(device)).repeat([1, steps+1, 1, 1])\n",
    "    \n",
    "# train_X_dl = DataLoader(AddTime(bm), batch_size, shuffle=True)\n",
    "# train_X_dev_dl = DataLoader(dev_X, batch_size, shuffle=True)\n",
    "\n",
    "# train_Y_dl = DataLoader(AddTime(fbm_h), batch_size, shuffle=True)\n",
    "# train_Y_dev_dl = DataLoader(dev_Y, batch_size, shuffle=True)"
   ]
  },
  {
   "cell_type": "code",
   "execution_count": 9,
   "id": "14d5b913",
   "metadata": {},
   "outputs": [],
   "source": [
    "joint_train_X_dl = DataLoader(AddTime(torch.cat([bm, fbm_h])), batch_size, shuffle=True)\n",
    "joint_train_X_dev_dl = DataLoader(torch.cat([dev_X, dev_Y]), batch_size, shuffle=True)"
   ]
  },
  {
   "cell_type": "code",
   "execution_count": 10,
   "id": "2ffaef8e",
   "metadata": {},
   "outputs": [],
   "source": [
    "test_X_dl = DataLoader(AddTime(bm_test), batch_size, shuffle=True)\n",
    "test_Y_dl = DataLoader(AddTime(fbm_h_test), batch_size, shuffle=True)"
   ]
  },
  {
   "cell_type": "code",
   "execution_count": 11,
   "id": "19efb9a3",
   "metadata": {
    "scrolled": false
   },
   "outputs": [
    {
     "data": {
      "text/plain": [
       "LSTMRegressor(\n",
       "  (rnn): LSTM(4, 128, num_layers=5, batch_first=True)\n",
       "  (linear): Linear(in_features=128, out_features=50, bias=False)\n",
       "  (activation): Tanh()\n",
       ")"
      ]
     },
     "execution_count": 11,
     "metadata": {},
     "output_type": "execute_result"
    }
   ],
   "source": [
    "regressor_for_X = LSTMRegressor(\n",
    "        input_dim=config.G_input_dim,\n",
    "        hidden_dim=config.G_hidden_dim,\n",
    "        output_dim=config.G_output_dim,\n",
    "        n_layers=config.G_num_layers\n",
    "    )\n",
    "regressor_for_X.to(device)\n",
    "\n",
    "train_X_dl = DataLoader(AddTime(bm), batch_size, shuffle=True)\n",
    "train_X_dev_dl = DataLoader(dev_X, batch_size, shuffle=True)\n",
    "\n",
    "regressor_for_Y = LSTMRegressor(\n",
    "        input_dim=config.G_input_dim,\n",
    "        hidden_dim=config.G_hidden_dim,\n",
    "        output_dim=config.G_output_dim,\n",
    "        n_layers=config.G_num_layers\n",
    "    )\n",
    "regressor_for_Y.to(device)\n",
    "\n",
    "train_Y_dl = DataLoader(AddTime(fbm_h), batch_size, shuffle=True)\n",
    "train_Y_dev_dl = DataLoader(dev_Y, batch_size, shuffle=True)"
   ]
  },
  {
   "cell_type": "code",
   "execution_count": 12,
   "id": "ce1083b6",
   "metadata": {},
   "outputs": [],
   "source": [
    "def train_regressor(regressor, iterations, X_dl, Y_dl):\n",
    "    best_loss = 10000.\n",
    "    loss = []\n",
    "    regressor_optimizer = torch.optim.Adam(regressor.parameters(), betas=(0, 0.9), lr=0.001)\n",
    "    regressor.train()\n",
    "    for i in tqdm(range(iterations)):\n",
    "        regressor_optimizer.zero_grad()\n",
    "        batch_X = next(iter(X_dl))\n",
    "        batch_X_dev = next(iter(Y_dl))\n",
    "#         print(batch_X.shape, batch_X_dev.shape)\n",
    "        reg_dev = regressor(batch_X, device)\n",
    "#         print(reg_dev.shape, batch_X_dev.shape)\n",
    "        \n",
    "        regressor_loss = torch.norm(reg_dev - batch_X_dev, dim = (2,3)).sum(1).mean()\n",
    "        loss.append(regressor_loss)\n",
    "        if regressor_loss < best_loss:\n",
    "            print(\"Loss updated: {}\".format(regressor_loss), \" at iteration {}\".format(i))\n",
    "#             with torch.no_grad():\n",
    "#                 print(torch.norm(reg_dev - batch_X_dev, dim = [2,3]).mean(0))\n",
    "            best_loss = regressor_loss\n",
    "            trained_regressor = regressor\n",
    "\n",
    "        regressor_loss.backward()\n",
    "        regressor_optimizer.step()\n",
    "    \n",
    "    return trained_regressor, loss"
   ]
  },
  {
   "cell_type": "code",
   "execution_count": 13,
   "id": "4b7758d0",
   "metadata": {
    "scrolled": true
   },
   "outputs": [
    {
     "data": {
      "application/vnd.jupyter.widget-view+json": {
       "model_id": "edea48eb5a634f6aa5bbadcbe3dc5b7f",
       "version_major": 2,
       "version_minor": 0
      },
      "text/plain": [
       "  0%|          | 0/2000 [00:00<?, ?it/s]"
      ]
     },
     "metadata": {},
     "output_type": "display_data"
    },
    {
     "name": "stdout",
     "output_type": "stream",
     "text": [
      "Loss updated: 121.75407409667969  at iteration 0\n",
      "Loss updated: 116.63626098632812  at iteration 1\n",
      "Loss updated: 115.13357543945312  at iteration 2\n",
      "Loss updated: 114.22623443603516  at iteration 3\n",
      "Loss updated: 114.15397644042969  at iteration 4\n",
      "Loss updated: 113.9321060180664  at iteration 6\n",
      "Loss updated: 113.4575424194336  at iteration 7\n",
      "Loss updated: 113.22064208984375  at iteration 9\n",
      "Loss updated: 112.75040435791016  at iteration 10\n",
      "Loss updated: 112.7451400756836  at iteration 13\n",
      "Loss updated: 112.56062316894531  at iteration 16\n",
      "Loss updated: 112.45891571044922  at iteration 24\n",
      "Loss updated: 112.38392639160156  at iteration 34\n",
      "Loss updated: 112.29911804199219  at iteration 51\n",
      "Loss updated: 112.24385833740234  at iteration 54\n",
      "Loss updated: 112.1541976928711  at iteration 55\n",
      "Loss updated: 112.0571060180664  at iteration 118\n",
      "Loss updated: 111.98886108398438  at iteration 131\n",
      "Loss updated: 111.94779205322266  at iteration 287\n",
      "Loss updated: 111.90414428710938  at iteration 542\n",
      "Loss updated: 111.90061950683594  at iteration 574\n",
      "Loss updated: 111.88380432128906  at iteration 986\n",
      "Loss updated: 111.85980224609375  at iteration 1344\n",
      "Loss updated: 111.84925842285156  at iteration 1797\n",
      "Loss updated: 111.713623046875  at iteration 1890\n"
     ]
    },
    {
     "data": {
      "application/vnd.jupyter.widget-view+json": {
       "model_id": "f29e07194add4c81abba957a0a4535ee",
       "version_major": 2,
       "version_minor": 0
      },
      "text/plain": [
       "  0%|          | 0/2000 [00:00<?, ?it/s]"
      ]
     },
     "metadata": {},
     "output_type": "display_data"
    },
    {
     "name": "stdout",
     "output_type": "stream",
     "text": [
      "Loss updated: 120.58778381347656  at iteration 0\n",
      "Loss updated: 116.16133117675781  at iteration 1\n",
      "Loss updated: 114.7709732055664  at iteration 2\n",
      "Loss updated: 114.14734649658203  at iteration 3\n",
      "Loss updated: 114.00375366210938  at iteration 4\n",
      "Loss updated: 113.68501281738281  at iteration 5\n",
      "Loss updated: 113.28486633300781  at iteration 7\n",
      "Loss updated: 112.80236053466797  at iteration 10\n",
      "Loss updated: 112.75978088378906  at iteration 11\n",
      "Loss updated: 112.65592193603516  at iteration 18\n",
      "Loss updated: 112.60746765136719  at iteration 20\n",
      "Loss updated: 112.58494567871094  at iteration 21\n",
      "Loss updated: 112.5383071899414  at iteration 26\n",
      "Loss updated: 112.42298889160156  at iteration 29\n",
      "Loss updated: 112.42137145996094  at iteration 50\n",
      "Loss updated: 112.38948822021484  at iteration 51\n",
      "Loss updated: 112.37030029296875  at iteration 53\n",
      "Loss updated: 112.27806091308594  at iteration 67\n",
      "Loss updated: 112.18170928955078  at iteration 78\n",
      "Loss updated: 112.17959594726562  at iteration 107\n",
      "Loss updated: 112.11790466308594  at iteration 109\n",
      "Loss updated: 112.10514831542969  at iteration 117\n",
      "Loss updated: 112.09943389892578  at iteration 124\n",
      "Loss updated: 112.09552001953125  at iteration 138\n",
      "Loss updated: 112.05879211425781  at iteration 193\n",
      "Loss updated: 111.91156005859375  at iteration 223\n",
      "Loss updated: 111.90504455566406  at iteration 458\n",
      "Loss updated: 111.85208892822266  at iteration 606\n",
      "Loss updated: 111.71800231933594  at iteration 888\n"
     ]
    }
   ],
   "source": [
    "trained_regressor_X, loss_X = train_regressor(regressor_for_X, 2000, train_X_dl, train_X_dev_dl)\n",
    "trained_regressor_Y, loss_Y = train_regressor(regressor_for_Y, 2000, train_X_dl, train_X_dev_dl)"
   ]
  },
  {
   "cell_type": "code",
   "execution_count": 22,
   "id": "8bb2a228",
   "metadata": {},
   "outputs": [],
   "source": [
    "class expected_dev():\n",
    "\n",
    "    def __init__(self, regressor_X, regressor_Y, lie_degree_1, lie_degree_2, num_samples_2, add_time=True, device='cuda'):\n",
    "        super(expected_dev, self).__init__()\n",
    "        \"\"\" Generator base class. All generators should be children of this class. \"\"\"\n",
    "        self.device = device\n",
    "        self.regressor_X = regressor_X\n",
    "        self.regressor_Y = regressor_Y\n",
    "        self.regressor_X.to(device)\n",
    "        self.regressor_Y.to(device)\n",
    "\n",
    "        self.lie_degree_1 = lie_degree_1\n",
    "        self.add_time = add_time\n",
    "        self.num_samples_2 = num_samples_2\n",
    "        self.lie_degree_2 = lie_degree_2\n",
    "        self.pcf_level_2 = char_func_path(num_samples=self.num_samples_2,\n",
    "                                          hidden_size=self.lie_degree_2,\n",
    "                                          input_dim=2 * self.lie_degree_1 ** 2,\n",
    "                                          add_time=add_time,\n",
    "                                          include_initial=False,\n",
    "                                          return_sequence=False)\n",
    "        self.pcf_level_2.to(device)\n",
    "\n",
    "\n",
    "\n",
    "    def train_M(self, X_dl, Y_dl, iterations):\n",
    "        best_loss = 0.\n",
    "\n",
    "        char_2_optimizer = torch.optim.Adam(self.pcf_level_2.parameters(), betas=(0, 0.9), lr=0.002)\n",
    "        losses = []\n",
    "        print('start opitmize charateristics function')\n",
    "        self.regressor_X.eval()\n",
    "        self.regressor_Y.eval()\n",
    "        self.pcf_level_2.train()\n",
    "        for i in tqdm(range(iterations)):\n",
    "\n",
    "            X = next(iter(X_dl))\n",
    "            Y = next(iter(Y_dl))\n",
    "            with torch.no_grad():\n",
    "                exp_dev_X = self.regressor_X(X, self.device).reshape([-1, X.shape[1], self.lie_degree_1 ** 2])\n",
    "                exp_dev_Y = self.regressor_Y(Y, self.device).reshape([-1, Y.shape[1], self.lie_degree_1 ** 2])\n",
    "\n",
    "                exp_dev_X = torch.cat([exp_dev_X.real, exp_dev_X.imag], -1)\n",
    "                exp_dev_Y = torch.cat([exp_dev_Y.real, exp_dev_Y.imag], -1)\n",
    "\n",
    "            char_2_optimizer.zero_grad()\n",
    "            char_loss = - self.pcf_level_2.distance_measure(exp_dev_X, exp_dev_Y, Lambda=0)\n",
    "            losses.append(char_loss.item())\n",
    "            if -char_loss > best_loss:\n",
    "                print(\"Loss updated: {}\".format(-char_loss))\n",
    "                best_loss = -char_loss\n",
    "            if i % 100 == 0:\n",
    "                print(\"Iteration {} :\".format(i), \" loss = {}\".format(-char_loss))\n",
    "            char_loss.backward()\n",
    "            char_2_optimizer.step()\n",
    "        \n",
    "        return losses\n",
    "\n",
    "    def evaluate(self, X_dl, Y_dl):\n",
    "        self.pcf_level_2.eval()\n",
    "        self.regressor_X.eval()\n",
    "        self.regressor_Y.eval()\n",
    "        repeats = 100\n",
    "        MMD_1 = np.zeros((repeats))\n",
    "        MMD_2 = np.zeros((repeats))\n",
    "        with torch.no_grad():\n",
    "            for i in tqdm(range(repeats)):\n",
    "                X = next(iter(X_dl))\n",
    "                Y = next(iter(Y_dl))\n",
    "                X_ = next(iter(X_dl))\n",
    "                exp_dev_X = self.regressor_X(X, self.device).reshape([-1, X.shape[1], self.lie_degree_1 ** 2])\n",
    "                exp_dev_X_ = self.regressor_X(X_, self.device).reshape([-1, X.shape[1], self.lie_degree_1 ** 2])\n",
    "                exp_dev_Y = self.regressor_Y(Y, self.device).reshape([-1, Y.shape[1], self.lie_degree_1 ** 2])\n",
    "\n",
    "                exp_dev_X = torch.cat([exp_dev_X.real, exp_dev_X.imag], -1)\n",
    "                exp_dev_Y = torch.cat([exp_dev_Y.real, exp_dev_Y.imag], -1)\n",
    "                exp_dev_X_ = torch.cat([exp_dev_X_.real, exp_dev_X_.imag], -1)\n",
    "\n",
    "                MMD_1[i] = self.pcf_level_2.distance_measure(exp_dev_X, exp_dev_X_, Lambda=0)\n",
    "                MMD_2[i] = self.pcf_level_2.distance_measure(exp_dev_X, exp_dev_Y, Lambda=0)\n",
    "        return MMD_1, MMD_2"
   ]
  },
  {
   "cell_type": "code",
   "execution_count": 23,
   "id": "aba341c3",
   "metadata": {},
   "outputs": [],
   "source": [
    "expected_devx = expected_dev(regressor_X = regressor_for_X, regressor_Y = regressor_for_Y, \n",
    "                             lie_degree_1 = 5, lie_degree_2 = 5, num_samples_2 = 10)"
   ]
  },
  {
   "cell_type": "code",
   "execution_count": 24,
   "id": "9d380cfa",
   "metadata": {
    "scrolled": true
   },
   "outputs": [
    {
     "name": "stdout",
     "output_type": "stream",
     "text": [
      "start opitmize charateristics function\n"
     ]
    },
    {
     "data": {
      "application/vnd.jupyter.widget-view+json": {
       "model_id": "8e01a26e866148a89f9698308d66444c",
       "version_major": 2,
       "version_minor": 0
      },
      "text/plain": [
       "  0%|          | 0/200 [00:00<?, ?it/s]"
      ]
     },
     "metadata": {},
     "output_type": "display_data"
    },
    {
     "name": "stdout",
     "output_type": "stream",
     "text": [
      "Loss updated: 0.0022376698907464743\n",
      "Iteration 0 :  loss = 0.0022376698907464743\n",
      "Loss updated: 0.0022956300526857376\n",
      "Loss updated: 0.0023547231685370207\n",
      "Loss updated: 0.002421872690320015\n",
      "Loss updated: 0.0024815481156110764\n",
      "Loss updated: 0.0025462894700467587\n",
      "Loss updated: 0.0026164271403104067\n",
      "Loss updated: 0.002679932164028287\n",
      "Loss updated: 0.0027530088555067778\n",
      "Loss updated: 0.0028204445261508226\n",
      "Loss updated: 0.002896134974434972\n",
      "Loss updated: 0.00297248805873096\n",
      "Loss updated: 0.00304789817892015\n",
      "Loss updated: 0.0031207501888275146\n",
      "Loss updated: 0.003200536360964179\n",
      "Loss updated: 0.003282291581854224\n",
      "Loss updated: 0.0033600598108023405\n",
      "Loss updated: 0.0034419891890138388\n",
      "Loss updated: 0.0035292550455778837\n",
      "Loss updated: 0.0036134866531938314\n",
      "Loss updated: 0.0036987054627388716\n",
      "Loss updated: 0.0037901257164776325\n",
      "Loss updated: 0.0038749754894524813\n",
      "Loss updated: 0.0039698234759271145\n",
      "Loss updated: 0.004063458647578955\n",
      "Loss updated: 0.004151548258960247\n",
      "Loss updated: 0.00425456278026104\n",
      "Loss updated: 0.0043458491563797\n",
      "Loss updated: 0.00444401940330863\n",
      "Loss updated: 0.004542530048638582\n",
      "Loss updated: 0.004644173663109541\n",
      "Loss updated: 0.0047416528686881065\n",
      "Loss updated: 0.004838451277464628\n",
      "Loss updated: 0.004945933353155851\n",
      "Loss updated: 0.005052620079368353\n",
      "Loss updated: 0.005159039981663227\n",
      "Loss updated: 0.005268433131277561\n",
      "Loss updated: 0.005371532868593931\n",
      "Loss updated: 0.005479453597217798\n",
      "Loss updated: 0.005598583724349737\n",
      "Loss updated: 0.005709139164537191\n",
      "Loss updated: 0.0058197216130793095\n",
      "Loss updated: 0.005930740386247635\n",
      "Loss updated: 0.0060499850660562515\n",
      "Loss updated: 0.006172829773277044\n",
      "Loss updated: 0.006283921655267477\n",
      "Loss updated: 0.006398259196430445\n",
      "Loss updated: 0.006516592111438513\n",
      "Loss updated: 0.006638279650360346\n",
      "Loss updated: 0.0067702471278607845\n",
      "Loss updated: 0.006886772811412811\n",
      "Loss updated: 0.007007728796452284\n",
      "Loss updated: 0.0071251182816922665\n",
      "Loss updated: 0.00726897781714797\n",
      "Loss updated: 0.0073953657411038876\n",
      "Loss updated: 0.007519009988754988\n",
      "Loss updated: 0.0076523697935044765\n",
      "Loss updated: 0.007785411085933447\n",
      "Loss updated: 0.007921310141682625\n",
      "Loss updated: 0.008043433539569378\n",
      "Loss updated: 0.008175327442586422\n",
      "Loss updated: 0.008310982957482338\n",
      "Loss updated: 0.008448941633105278\n",
      "Loss updated: 0.008584973402321339\n",
      "Loss updated: 0.00871884822845459\n",
      "Loss updated: 0.008869336917996407\n",
      "Loss updated: 0.009014645591378212\n",
      "Loss updated: 0.009151707403361797\n",
      "Loss updated: 0.009283051826059818\n",
      "Loss updated: 0.009434772655367851\n",
      "Loss updated: 0.00957567524164915\n",
      "Loss updated: 0.009721583686769009\n",
      "Loss updated: 0.00987327378243208\n",
      "Loss updated: 0.010021981783211231\n",
      "Loss updated: 0.01017091702669859\n",
      "Loss updated: 0.010312451981008053\n",
      "Loss updated: 0.010474445298314095\n",
      "Loss updated: 0.010630003176629543\n",
      "Loss updated: 0.010778535157442093\n",
      "Loss updated: 0.010920262895524502\n",
      "Loss updated: 0.011094904504716396\n",
      "Loss updated: 0.011258628219366074\n",
      "Loss updated: 0.011397610418498516\n",
      "Loss updated: 0.011548588052392006\n",
      "Loss updated: 0.011711918748915195\n",
      "Loss updated: 0.011877885088324547\n",
      "Loss updated: 0.012049472890794277\n",
      "Loss updated: 0.012201584875583649\n",
      "Loss updated: 0.012384622357785702\n",
      "Loss updated: 0.012540611438453197\n",
      "Loss updated: 0.012697882018983364\n",
      "Loss updated: 0.012874475680291653\n",
      "Loss updated: 0.013039245270192623\n",
      "Loss updated: 0.01320705097168684\n",
      "Loss updated: 0.013377824798226357\n",
      "Loss updated: 0.013539102859795094\n",
      "Loss updated: 0.013723328709602356\n",
      "Loss updated: 0.013905420899391174\n",
      "Loss updated: 0.014072196558117867\n",
      "Loss updated: 0.014248508028686047\n",
      "Loss updated: 0.014423051849007607\n",
      "Iteration 100 :  loss = 0.014423051849007607\n",
      "Loss updated: 0.014595719054341316\n",
      "Loss updated: 0.014775022864341736\n",
      "Loss updated: 0.014979916624724865\n",
      "Loss updated: 0.015138432383537292\n",
      "Loss updated: 0.015323660336434841\n",
      "Loss updated: 0.015512797050178051\n",
      "Loss updated: 0.01569163240492344\n",
      "Loss updated: 0.015885736793279648\n",
      "Loss updated: 0.016061073169112206\n",
      "Loss updated: 0.016266776248812675\n",
      "Loss updated: 0.01644797995686531\n",
      "Loss updated: 0.016643548384308815\n",
      "Loss updated: 0.016811514273285866\n",
      "Loss updated: 0.017005139961838722\n",
      "Loss updated: 0.017218714579939842\n",
      "Loss updated: 0.017400061711668968\n",
      "Loss updated: 0.01759403944015503\n",
      "Loss updated: 0.017784684896469116\n",
      "Loss updated: 0.01798357255756855\n",
      "Loss updated: 0.018182357773184776\n",
      "Loss updated: 0.018365494906902313\n",
      "Loss updated: 0.018577197566628456\n",
      "Loss updated: 0.018796810880303383\n",
      "Loss updated: 0.018980493769049644\n",
      "Loss updated: 0.019211307168006897\n",
      "Loss updated: 0.019407689571380615\n",
      "Loss updated: 0.019600847736001015\n",
      "Loss updated: 0.019816692918539047\n",
      "Loss updated: 0.020017540082335472\n",
      "Loss updated: 0.02019718661904335\n",
      "Loss updated: 0.02042696252465248\n",
      "Loss updated: 0.020630354061722755\n",
      "Loss updated: 0.020847579464316368\n",
      "Loss updated: 0.02105417661368847\n",
      "Loss updated: 0.021301282569766045\n",
      "Loss updated: 0.02149711549282074\n",
      "Loss updated: 0.02171940915286541\n",
      "Loss updated: 0.021935073658823967\n",
      "Loss updated: 0.02216617576777935\n",
      "Loss updated: 0.022368188947439194\n",
      "Loss updated: 0.022584563121199608\n",
      "Loss updated: 0.022816646844148636\n",
      "Loss updated: 0.023033853620290756\n",
      "Loss updated: 0.023244036361575127\n",
      "Loss updated: 0.02346155419945717\n",
      "Loss updated: 0.023749560117721558\n",
      "Loss updated: 0.023924455046653748\n",
      "Loss updated: 0.024164287373423576\n",
      "Loss updated: 0.024375202134251595\n",
      "Loss updated: 0.024629011750221252\n",
      "Loss updated: 0.024870865046977997\n",
      "Loss updated: 0.02506832219660282\n",
      "Loss updated: 0.02530662529170513\n",
      "Loss updated: 0.025533372536301613\n",
      "Loss updated: 0.025758713483810425\n",
      "Loss updated: 0.026007995009422302\n",
      "Loss updated: 0.02622758410871029\n",
      "Loss updated: 0.026500744745135307\n",
      "Loss updated: 0.02674924209713936\n",
      "Loss updated: 0.026938876137137413\n",
      "Loss updated: 0.027188409119844437\n",
      "Loss updated: 0.027437925338745117\n",
      "Loss updated: 0.02769659273326397\n",
      "Loss updated: 0.02791476808488369\n",
      "Loss updated: 0.028178533539175987\n",
      "Loss updated: 0.02841383032500744\n",
      "Loss updated: 0.02867032028734684\n",
      "Loss updated: 0.028929254040122032\n",
      "Loss updated: 0.029191499575972557\n",
      "Loss updated: 0.02944490686058998\n",
      "Loss updated: 0.02969059906899929\n",
      "Loss updated: 0.02991499938070774\n",
      "Loss updated: 0.030188193544745445\n",
      "Loss updated: 0.030436957255005836\n",
      "Loss updated: 0.030708545818924904\n",
      "Loss updated: 0.030945910140872\n",
      "Loss updated: 0.031211888417601585\n",
      "Loss updated: 0.03142888471484184\n",
      "Loss updated: 0.0317179374396801\n",
      "Loss updated: 0.03198336437344551\n",
      "Loss updated: 0.03220900893211365\n",
      "Loss updated: 0.032482046633958817\n",
      "Loss updated: 0.03275606036186218\n",
      "Loss updated: 0.033045824617147446\n",
      "Loss updated: 0.03328661248087883\n",
      "Loss updated: 0.033586010336875916\n",
      "Loss updated: 0.03383246809244156\n",
      "Loss updated: 0.034078121185302734\n",
      "Loss updated: 0.03438299149274826\n",
      "Loss updated: 0.03461836650967598\n",
      "Loss updated: 0.034939806908369064\n",
      "Loss updated: 0.035196416079998016\n",
      "Loss updated: 0.03549668937921524\n",
      "Loss updated: 0.03578827530145645\n",
      "Loss updated: 0.036023955792188644\n",
      "Loss updated: 0.03629123046994209\n",
      "Loss updated: 0.036505747586488724\n",
      "Loss updated: 0.036873526871204376\n",
      "Loss updated: 0.037135809659957886\n"
     ]
    }
   ],
   "source": [
    "losses = expected_devx.train_M(train_X_dl, train_X_dl, 200)"
   ]
  },
  {
   "cell_type": "code",
   "execution_count": 25,
   "id": "eaaa967c",
   "metadata": {},
   "outputs": [
    {
     "data": {
      "text/plain": [
       "[<matplotlib.lines.Line2D at 0x7f14f1db1730>]"
      ]
     },
     "execution_count": 25,
     "metadata": {},
     "output_type": "execute_result"
    },
    {
     "data": {
      "image/png": "[encoded data removed]",
      "text/plain": [
       "<Figure size 640x480 with 1 Axes>"
      ]
     },
     "metadata": {},
     "output_type": "display_data"
    }
   ],
   "source": [
    "plt.plot(losses)"
   ]
  },
  {
   "cell_type": "code",
   "execution_count": 26,
   "id": "d23c6402",
   "metadata": {},
   "outputs": [
    {
     "ename": "NameError",
     "evalue": "name 'test_X_dl' is not defined",
     "output_type": "error",
     "traceback": [
      "\u001b[0;31m---------------------------------------------------------------------------\u001b[0m",
      "\u001b[0;31mNameError\u001b[0m                                 Traceback (most recent call last)",
      "\u001b[0;32m/tmp/ipykernel_1334851/3138050965.py\u001b[0m in \u001b[0;36m<module>\u001b[0;34m\u001b[0m\n\u001b[0;32m----> 1\u001b[0;31m \u001b[0mMMD_1\u001b[0m\u001b[0;34m,\u001b[0m \u001b[0mMMD_2\u001b[0m \u001b[0;34m=\u001b[0m \u001b[0mexpected_devx\u001b[0m\u001b[0;34m.\u001b[0m\u001b[0mevaluate\u001b[0m\u001b[0;34m(\u001b[0m\u001b[0mtest_X_dl\u001b[0m\u001b[0;34m,\u001b[0m \u001b[0mtest_Y_dl\u001b[0m\u001b[0;34m)\u001b[0m\u001b[0;34m\u001b[0m\u001b[0;34m\u001b[0m\u001b[0m\n\u001b[0m",
      "\u001b[0;31mNameError\u001b[0m: name 'test_X_dl' is not defined"
     ]
    }
   ],
   "source": [
    "MMD_1, MMD_2 = expected_devx.evaluate(test_X_dl, test_Y_dl)"
   ]
  },
  {
   "cell_type": "code",
   "execution_count": null,
   "id": "7d546172",
   "metadata": {},
   "outputs": [],
   "source": [
    "fig, ax = plt.subplots(1,1,figsize=(15,5))\n",
    "\n",
    "ax.hist(MMD_1, bins=25, label='H_0',edgecolor='#E6E6E6')\n",
    "ax.hist(MMD_2, bins=25, label='H_A',edgecolor='#E6E6E6')\n",
    "\n",
    "ax.legend(loc='upper right', ncol=2, fontsize=22)\n",
    "ax.set_xlabel('D_1(X, Y)^2', labelpad=10)\n",
    "ax.set_ylabel('Count', labelpad=10)\n",
    "\n",
    "plt.tight_layout(pad=3.0)\n",
    "# plt.savefig('MMD_binary_tex.pdf',bbox_inches='tight')\n",
    "plt.show()"
   ]
  },
  {
   "cell_type": "code",
   "execution_count": 29,
   "id": "e1cd06c8",
   "metadata": {},
   "outputs": [
    {
     "data": {
      "text/plain": [
       "(100,)"
      ]
     },
     "execution_count": 29,
     "metadata": {},
     "output_type": "execute_result"
    }
   ],
   "source": [
    "MMD_2.shape"
   ]
  },
  {
   "cell_type": "code",
   "execution_count": 30,
   "id": "9eb3226a",
   "metadata": {},
   "outputs": [
    {
     "data": {
      "text/plain": [
       "(100,)"
      ]
     },
     "execution_count": 30,
     "metadata": {},
     "output_type": "execute_result"
    }
   ],
   "source": [
    "MMD_1.shape"
   ]
  },
  {
   "cell_type": "code",
   "execution_count": null,
   "id": "90110f2a",
   "metadata": {},
   "outputs": [],
   "source": []
  }
 ],
 "metadata": {
  "kernelspec": {
   "display_name": "levy",
   "language": "python",
   "name": "levy"
  },
  "language_info": {
   "codemirror_mode": {
    "name": "ipython",
    "version": 3
   },
   "file_extension": ".py",
   "mimetype": "text/x-python",
   "name": "python",
   "nbconvert_exporter": "python",
   "pygments_lexer": "ipython3",
   "version": "3.9.13"
  }
 },
 "nbformat": 4,
 "nbformat_minor": 5
}
