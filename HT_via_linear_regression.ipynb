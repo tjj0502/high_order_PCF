{
 "cells": [
  {
   "cell_type": "code",
   "execution_count": 1,
   "id": "8137cece",
   "metadata": {
    "scrolled": true
   },
   "outputs": [
    {
     "data": {
      "text/plain": [
       "<torch._C.Generator at 0x7f1368443e10>"
      ]
     },
     "execution_count": 1,
     "metadata": {},
     "output_type": "execute_result"
    }
   ],
   "source": [
    "import torch\n",
    "import numpy as np\n",
    "import matplotlib.pyplot as plt\n",
    "from tqdm.notebook import tqdm\n",
    "import itertools\n",
    "# import higherOrderKME\n",
    "# from higherOrderKME import sigkernel\n",
    "import Path_Char\n",
    "from Path_Char.path_characteristic_function import char_func_path\n",
    "from Path_Char.high_order_pcf import PCFKernel\n",
    "from torch.utils.data import DataLoader\n",
    "\n",
    "# Using seaborn's style\n",
    "plt.style.use('seaborn-colorblind')\n",
    "width = 345\n",
    "tex_fonts = {\n",
    "    \"text.usetex\": False,  # put False if this raises errors\n",
    "    \"font.family\": \"serif\",\n",
    "    \"axes.labelsize\": 24,\n",
    "    \"font.size\": 22,\n",
    "    \"legend.fontsize\": 24,\n",
    "    \"xtick.labelsize\": 20,\n",
    "    \"ytick.labelsize\": 20,\n",
    "    'figure.figsize': (7, 5),\n",
    "}\n",
    "plt.rcParams.update(tex_fonts)\n",
    "torch.manual_seed(0)"
   ]
  },
  {
   "cell_type": "code",
   "execution_count": 2,
   "id": "4e56ce52",
   "metadata": {},
   "outputs": [],
   "source": [
    "device = 'cuda'"
   ]
  },
  {
   "cell_type": "code",
   "execution_count": 22,
   "id": "7f592e8c",
   "metadata": {},
   "outputs": [],
   "source": [
    "# number of path coordinates and number of time steps\n",
    "D, L = 1, 3 \n",
    "\n",
    "# experimental setup\n",
    "repeats, n_samples, n, lambda_ = 1000, 500, 5*1e5, 1e-5\n",
    "\n",
    "MMD_1 = np.zeros((repeats, 2))\n",
    "MMD_2 = np.zeros((repeats, 2))\n",
    "\n",
    "# to store the sample paths from X_n and X\n",
    "X = np.zeros((repeats, n_samples, 2, L, D)) \n",
    "X_n = np.zeros((repeats, n_samples, 2, L, D))   \n",
    "\n",
    "# sample from X_n \n",
    "omega_1 = np.random.choice(a=[-1, 1], size=(repeats, n_samples, 2))\n",
    "omega_2 = np.random.choice(a=[-1, 1], size=(repeats, n_samples, 2))\n",
    "X_n[:, :, :, 1, 0] = omega_1 * 1./n\n",
    "X_n[:, :, :, 2, 0] = 0.1 * omega_1\n",
    "\n",
    "# sample from X\n",
    "omega_1 = np.random.choice(a=[-1, 1], size=(repeats, n_samples, 2))\n",
    "X[:, :, :, 2, 0] = 0.1 * omega_1"
   ]
  },
  {
   "cell_type": "code",
   "execution_count": 5,
   "id": "85dfa83f",
   "metadata": {},
   "outputs": [
    {
     "data": {
      "text/plain": [
       "char_func_path(\n",
       "  (unitary_development): development_layer(\n",
       "    (projection): projection(\n",
       "      (param_map): unitary()\n",
       "    )\n",
       "  )\n",
       ")"
      ]
     },
     "execution_count": 5,
     "metadata": {},
     "output_type": "execute_result"
    }
   ],
   "source": [
    "lie_degree_1 = 4\n",
    "num_samples_1 = 20\n",
    "input_size = 1\n",
    "add_time = False\n",
    "\n",
    "pcf_level_1 = char_func_path(num_samples=num_samples_1, \n",
    "                              hidden_size=lie_degree_1, \n",
    "                              input_dim=input_size, \n",
    "                              add_time=add_time, \n",
    "                              include_initial = False)\n",
    "pcf_level_1.to(device)\n",
    "\n",
    "num_samples_2 = 100\n",
    "lie_degree_2 = 4\n",
    "pcf_level_2 = char_func_path(num_samples=num_samples_2, \n",
    "                              hidden_size=lie_degree_2, \n",
    "                              input_dim=lie_degree_1**2, \n",
    "                              add_time=add_time, \n",
    "                              include_initial = False)\n",
    "pcf_level_2.to(device)"
   ]
  },
  {
   "cell_type": "code",
   "execution_count": 7,
   "id": "8ad9998d",
   "metadata": {},
   "outputs": [],
   "source": [
    "kernel_order1 = PCFKernel(pcf_level_1)\n",
    "kernel_order2 = PCFKernel([pcf_level_1, pcf_level_2])"
   ]
  },
  {
   "cell_type": "code",
   "execution_count": 9,
   "id": "36b0ac86",
   "metadata": {},
   "outputs": [
    {
     "data": {
      "application/vnd.jupyter.widget-view+json": {
       "model_id": "7c8141bae9394499bbd9c3d04a3e1305",
       "version_major": 2,
       "version_minor": 0
      },
      "text/plain": [
       "  0%|          | 0/100 [00:00<?, ?it/s]"
      ]
     },
     "metadata": {},
     "output_type": "display_data"
    }
   ],
   "source": [
    "for i in tqdm(range(repeats)):\n",
    "\n",
    "    x0 = torch.tensor(X[i, :, 0, :, :], dtype=torch.float64).to(device)     # X of shape (repeats,n_samples,2,L,D)\n",
    "    x0_ = torch.tensor(X[i, :, 1, :, :], dtype=torch.float64).to(device)    # independent copy of X\n",
    "    xn = torch.tensor(X_n[i, :, 0, :, :], dtype=torch.float64).to(device)\n",
    "    xn_ = torch.tensor(X_n[i, :, 1, :, :], dtype=torch.float64).to(device)  # independent copy of X_n\n",
    "\n",
    "    MMD_2[i,0] = kernel_order2.compute_mmd(x0, x0_, order=2)   \n",
    "    MMD_2[i,1] = kernel_order2.compute_mmd(xn, x0, order=2)   \n",
    "    \n",
    "    MMD_1[i,0] = kernel_order1.compute_mmd(x0, x0_, order=1)   \n",
    "    MMD_1[i,1] = kernel_order1.compute_mmd(xn, x0, order=1)   "
   ]
  },
  {
   "cell_type": "code",
   "execution_count": 10,
   "id": "f8e2ce7d",
   "metadata": {},
   "outputs": [
    {
     "data": {
      "image/png": "[encoded data removed]",
      "text/plain": [
       "<Figure size 1500x500 with 2 Axes>"
      ]
     },
     "metadata": {},
     "output_type": "display_data"
    }
   ],
   "source": [
    "fig, ax = plt.subplots(1,2,figsize=(15,5))\n",
    "\n",
    "ax[0].hist(MMD_1[:,0], bins=25, label='H_0',edgecolor='#E6E6E6')\n",
    "ax[0].hist(MMD_1[:,1], bins=25, label='H_A',edgecolor='#E6E6E6')\n",
    "\n",
    "ax[0].legend(loc='upper right', ncol=2, fontsize=22)\n",
    "ax[0].set_xlabel('D_1(X, Y)^2', labelpad=10)\n",
    "ax[0].set_ylabel('Count', labelpad=10)\n",
    "\n",
    "ax[1].hist(MMD_2[:,0], bins=25, label='H_0', edgecolor='#E6E6E6')\n",
    "ax[1].hist(MMD_2[:,1], bins=25, label='H_A', edgecolor='#E6E6E6')\n",
    "\n",
    "ax[1].legend(loc='upper right', ncol=2, fontsize=22)\n",
    "ax[1].set_xlabel('D_2(X, Y)^2', labelpad=10)\n",
    "ax[1].set_ylabel('Count', labelpad=10)\n",
    "\n",
    "plt.tight_layout(pad=3.0)\n",
    "# plt.savefig('MMD_binary_tex.pdf',bbox_inches='tight')\n",
    "plt.show()"
   ]
  },
  {
   "cell_type": "code",
   "execution_count": null,
   "id": "f077715d",
   "metadata": {},
   "outputs": [],
   "source": []
  },
  {
   "cell_type": "code",
   "execution_count": null,
   "id": "0ba9ef74",
   "metadata": {},
   "outputs": [],
   "source": []
  },
  {
   "cell_type": "code",
   "execution_count": 30,
   "id": "6412786e",
   "metadata": {},
   "outputs": [],
   "source": [
    "def HS_norm(X: torch.tensor, Y: torch.Tensor):\n",
    "    \"\"\"_summary_\n",
    "\n",
    "    Args:\n",
    "        X (torch.Tensor): (C,m,m) complexed valued\n",
    "    \"\"\"\n",
    "    if len(X.shape) == 4:\n",
    "\n",
    "        m = X.shape[-1]\n",
    "        X = X.reshape(-1, m, m)\n",
    "\n",
    "    else:\n",
    "        pass\n",
    "    D = torch.bmm(X, torch.conj(Y).permute(0, 2, 1))\n",
    "    return ((torch.einsum('bii->b', D)).mean().real)"
   ]
  },
  {
   "cell_type": "code",
   "execution_count": 115,
   "id": "902adab9",
   "metadata": {},
   "outputs": [],
   "source": [
    "torch.manual_seed(0)\n",
    "# 0,0,0.1\n",
    "x001 = torch.tensor(X[0, 2:3, 0, :, :], dtype=torch.float64).to(device)\n",
    "\n",
    "# 0,0,-0,1\n",
    "x00_1 = torch.tensor(X[0, :1, 0, :, :], dtype=torch.float64).to(device)\n",
    "\n",
    "dv_x001 = pcf_level_1.unitary_development(x001)\n",
    "dv_x00_1 = pcf_level_1.unitary_development(x00_1)"
   ]
  },
  {
   "cell_type": "code",
   "execution_count": 116,
   "id": "36fcbbd0",
   "metadata": {},
   "outputs": [
    {
     "data": {
      "text/plain": [
       "array([[[0. ],\n",
       "        [0. ],\n",
       "        [0.1]]])"
      ]
     },
     "execution_count": 116,
     "metadata": {},
     "output_type": "execute_result"
    }
   ],
   "source": [
    "X[0, 2:3, 0, :, :]"
   ]
  },
  {
   "cell_type": "code",
   "execution_count": 117,
   "id": "fc1cec07",
   "metadata": {},
   "outputs": [
    {
     "data": {
      "text/plain": [
       "array([[[ 0. ],\n",
       "        [ 0. ],\n",
       "        [-0.1]]])"
      ]
     },
     "execution_count": 117,
     "metadata": {},
     "output_type": "execute_result"
    }
   ],
   "source": [
    "X[0, :1, 0, :, :]"
   ]
  },
  {
   "cell_type": "code",
   "execution_count": 141,
   "id": "f7c2431b",
   "metadata": {},
   "outputs": [
    {
     "data": {
      "text/plain": [
       "(100, 500, 2, 3, 1)"
      ]
     },
     "execution_count": 141,
     "metadata": {},
     "output_type": "execute_result"
    }
   ],
   "source": [
    "X.shape"
   ]
  },
  {
   "cell_type": "code",
   "execution_count": 129,
   "id": "3ad9bf40",
   "metadata": {},
   "outputs": [],
   "source": [
    "torch.manual_seed(0)\n",
    "# 0,1/n, 0.1\n",
    "xn001 = torch.tensor(X_n[0, 1:2, 0, :, :], dtype=torch.float64).to(device)\n",
    "\n",
    "# 0,-1/n, -0.1\n",
    "xn00_1 = torch.tensor(X_n[0, 2:3, 0, :, :], dtype=torch.float64).to(device)\n",
    "\n",
    "dv_xn001 = pcf_level_1.unitary_development(xn001)\n",
    "dv_xn00_1 = pcf_level_1.unitary_development(xn00_1)"
   ]
  },
  {
   "cell_type": "code",
   "execution_count": 130,
   "id": "8a23e554",
   "metadata": {},
   "outputs": [
    {
     "data": {
      "text/plain": [
       "tensor([[[0.0000e+00],\n",
       "         [2.0000e-06],\n",
       "         [1.0000e-01]]], device='cuda:0', dtype=torch.float64)"
      ]
     },
     "execution_count": 130,
     "metadata": {},
     "output_type": "execute_result"
    }
   ],
   "source": [
    "xn001"
   ]
  },
  {
   "cell_type": "code",
   "execution_count": 131,
   "id": "5a9380d4",
   "metadata": {},
   "outputs": [
    {
     "data": {
      "text/plain": [
       "tensor([[[ 0.0000e+00],\n",
       "         [-2.0000e-06],\n",
       "         [-1.0000e-01]]], device='cuda:0', dtype=torch.float64)"
      ]
     },
     "execution_count": 131,
     "metadata": {},
     "output_type": "execute_result"
    }
   ],
   "source": [
    "xn00_1"
   ]
  },
  {
   "cell_type": "code",
   "execution_count": 101,
   "id": "6f10c55d",
   "metadata": {},
   "outputs": [
    {
     "data": {
      "text/plain": [
       "tensor([[[[ 5.9605e-08-1.6184e-01j,  2.9695e-02+3.9046e-02j,\n",
       "            9.8898e-02+8.7134e-02j,  7.5324e-02+1.0056e-01j],\n",
       "          [-2.9695e-02+3.9046e-02j,  0.0000e+00-6.1022e-02j,\n",
       "           -3.1189e-02-1.1996e-01j,  2.3694e-02-5.3792e-02j],\n",
       "          [-9.8898e-02+8.7134e-02j,  3.1189e-02-1.1996e-01j,\n",
       "            0.0000e+00+9.8305e-02j,  1.5616e-01-1.2707e-01j],\n",
       "          [-7.5324e-02+1.0056e-01j, -2.3694e-02-5.3792e-02j,\n",
       "           -1.5616e-01-1.2707e-01j,  0.0000e+00-2.9618e-01j]],\n",
       "\n",
       "         [[ 0.0000e+00-1.7823e-01j,  1.9169e-02-3.6098e-02j,\n",
       "           -1.4491e-02-1.1527e-01j, -2.8017e-02-1.9584e-02j],\n",
       "          [-1.9169e-02-3.6098e-02j,  5.9605e-08+4.2943e-02j,\n",
       "           -8.7971e-02-1.3185e-01j,  1.1486e-01+2.0562e-01j],\n",
       "          [ 1.4491e-02-1.1527e-01j,  8.7971e-02-1.3185e-01j,\n",
       "            0.0000e+00+1.7394e-01j,  5.7361e-02-8.5639e-02j],\n",
       "          [ 2.8017e-02-1.9584e-02j, -1.1486e-01+2.0562e-01j,\n",
       "           -5.7361e-02-8.5639e-02j,  0.0000e+00-3.5238e-02j]],\n",
       "\n",
       "         [[ 0.0000e+00-2.3855e-01j, -1.8537e-02+1.1151e-01j,\n",
       "           -7.7453e-03+9.9399e-02j,  5.8285e-03-4.2996e-02j],\n",
       "          [ 1.8537e-02+1.1151e-01j,  0.0000e+00+1.1134e-01j,\n",
       "            1.4518e-01-2.2167e-01j,  9.7741e-02-1.2058e-01j],\n",
       "          [ 7.7453e-03+9.9399e-02j, -1.4518e-01-2.2167e-01j,\n",
       "           -5.9605e-08-2.1830e-01j, -1.1629e-02+1.3326e-01j],\n",
       "          [-5.8285e-03-4.2996e-02j, -9.7741e-02-1.2058e-01j,\n",
       "            1.1629e-02+1.3326e-01j,  0.0000e+00+2.5993e-01j]],\n",
       "\n",
       "         [[ 0.0000e+00-8.2474e-02j,  1.0837e-01+9.3328e-02j,\n",
       "            1.1408e-02-1.5311e-01j,  4.6051e-02+7.3726e-02j],\n",
       "          [-1.0837e-01+9.3328e-02j,  0.0000e+00+2.6099e-02j,\n",
       "           -8.8447e-02+5.7198e-02j, -3.3370e-02-6.3757e-02j],\n",
       "          [-1.1408e-02-1.5311e-01j,  8.8447e-02+5.7198e-02j,\n",
       "            0.0000e+00+2.2324e-01j, -3.5034e-03-1.0202e-01j],\n",
       "          [-4.6051e-02+7.3726e-02j,  3.3370e-02-6.3757e-02j,\n",
       "            3.5034e-03-1.0202e-01j,  0.0000e+00-1.1914e-01j]],\n",
       "\n",
       "         [[-5.9605e-08+4.4340e-03j, -1.0611e-01-1.0549e-01j,\n",
       "           -2.7887e-02-5.6880e-02j,  7.4684e-02+1.7376e-01j],\n",
       "          [ 1.0611e-01-1.0549e-01j,  0.0000e+00+3.4941e-02j,\n",
       "            1.1870e-01+1.5660e-01j,  9.5997e-02+1.3891e-01j],\n",
       "          [ 2.7887e-02-5.6880e-02j, -1.1870e-01+1.5660e-01j,\n",
       "            0.0000e+00+1.5714e-02j, -5.1328e-02-1.8697e-02j],\n",
       "          [-7.4684e-02+1.7376e-01j, -9.5997e-02+1.3891e-01j,\n",
       "            5.1328e-02-1.8697e-02j,  0.0000e+00+6.2228e-02j]],\n",
       "\n",
       "         [[ 0.0000e+00+1.1209e-01j, -3.3044e-02+9.7022e-02j,\n",
       "           -1.2585e-03+2.9697e-03j,  1.5866e-01-7.2175e-02j],\n",
       "          [ 3.3044e-02+9.7022e-02j,  0.0000e+00+7.2725e-03j,\n",
       "           -1.0838e-01+1.2444e-01j, -8.7449e-02+8.1360e-02j],\n",
       "          [ 1.2585e-03+2.9697e-03j,  1.0838e-01+1.2444e-01j,\n",
       "            0.0000e+00+3.2319e-01j, -1.0237e-01-5.6114e-03j],\n",
       "          [-1.5866e-01-7.2175e-02j,  8.7449e-02+8.1360e-02j,\n",
       "            1.0237e-01-5.6114e-03j,  0.0000e+00-2.2300e-01j]],\n",
       "\n",
       "         [[ 0.0000e+00+1.2313e-01j, -4.8857e-02-1.0819e-01j,\n",
       "           -6.8500e-02+3.2267e-02j,  9.3943e-03+1.3029e-01j],\n",
       "          [ 4.8857e-02-1.0819e-01j,  0.0000e+00+2.5057e-02j,\n",
       "            5.3506e-02-2.7348e-02j, -2.0711e-02+5.0815e-02j],\n",
       "          [ 6.8500e-02+3.2267e-02j, -5.3506e-02-2.7348e-02j,\n",
       "            0.0000e+00-5.5296e-02j, -9.6328e-02-2.8811e-02j],\n",
       "          [-9.3943e-03+1.3029e-01j,  2.0711e-02+5.0815e-02j,\n",
       "            9.6328e-02-2.8811e-02j,  0.0000e+00-5.5672e-02j]],\n",
       "\n",
       "         [[ 0.0000e+00+1.0558e-01j,  9.6692e-02-3.4774e-02j,\n",
       "           -2.5806e-02+1.5290e-01j, -1.0982e-01-3.3755e-02j],\n",
       "          [-9.6692e-02-3.4774e-02j, -5.9605e-08+4.7326e-01j,\n",
       "            2.1814e-01+2.2613e-01j, -1.0025e-01+2.1418e-01j],\n",
       "          [ 2.5806e-02+1.5290e-01j, -2.1814e-01+2.2613e-01j,\n",
       "           -5.9605e-08-1.7281e-01j,  1.2985e-01-4.3685e-02j],\n",
       "          [ 1.0982e-01-3.3755e-02j,  1.0025e-01+2.1418e-01j,\n",
       "           -1.2985e-01-4.3685e-02j,  0.0000e+00-7.7167e-02j]],\n",
       "\n",
       "         [[ 0.0000e+00+1.2801e-01j, -1.4401e-01-1.6062e-01j,\n",
       "           -1.8128e-02-1.2024e-01j, -1.6756e-01+6.9433e-02j],\n",
       "          [ 1.4401e-01-1.6062e-01j,  5.9605e-08+1.8017e-01j,\n",
       "           -1.0207e-01-1.3855e-01j,  9.1098e-02-3.5007e-02j],\n",
       "          [ 1.8128e-02-1.2024e-01j,  1.0207e-01-1.3855e-01j,\n",
       "            0.0000e+00+3.5900e-01j,  1.1714e-01+4.0995e-02j],\n",
       "          [ 1.6756e-01+6.9433e-02j, -9.1098e-02-3.5007e-02j,\n",
       "           -1.1714e-01+4.0995e-02j,  0.0000e+00+4.6461e-02j]],\n",
       "\n",
       "         [[ 5.9605e-08-7.7789e-02j,  7.0236e-02+3.5344e-02j,\n",
       "           -4.3466e-02+5.9214e-02j,  1.7320e-01-6.1877e-02j],\n",
       "          [-7.0236e-02+3.5344e-02j,  0.0000e+00-7.0763e-02j,\n",
       "            1.5921e-02-1.5756e-01j,  1.2233e-01-1.1564e-02j],\n",
       "          [ 4.3466e-02+5.9214e-02j, -1.5921e-02-1.5756e-01j,\n",
       "            0.0000e+00+1.5670e-01j, -6.4179e-02-1.2408e-01j],\n",
       "          [-1.7320e-01-6.1877e-02j, -1.2233e-01-1.1564e-02j,\n",
       "            6.4179e-02-1.2408e-01j,  0.0000e+00+1.1302e-01j]],\n",
       "\n",
       "         [[ 0.0000e+00+9.6223e-02j, -2.1006e-02-5.8079e-02j,\n",
       "           -7.7307e-02-6.0417e-02j, -2.9568e-01+9.5310e-02j],\n",
       "          [ 2.1006e-02-5.8079e-02j,  0.0000e+00+4.7012e-04j,\n",
       "           -8.8395e-02+5.8826e-02j, -1.6882e-01-1.0295e-01j],\n",
       "          [ 7.7307e-02-6.0417e-02j,  8.8395e-02+5.8826e-02j,\n",
       "            0.0000e+00-5.6449e-02j,  6.9566e-02-3.5517e-02j],\n",
       "          [ 2.9568e-01+9.5310e-02j,  1.6882e-01-1.0295e-01j,\n",
       "           -6.9566e-02-3.5517e-02j,  0.0000e+00+4.9980e-02j]],\n",
       "\n",
       "         [[ 5.9605e-08+3.2377e-01j, -1.0942e-01-5.6607e-02j,\n",
       "            7.8233e-02+3.8612e-02j,  3.6957e-02-8.5049e-02j],\n",
       "          [ 1.0942e-01-5.6607e-02j, -5.9605e-08-5.7870e-03j,\n",
       "           -7.0575e-02+3.0315e-01j,  1.2291e-01-1.6823e-01j],\n",
       "          [-7.8233e-02+3.8612e-02j,  7.0575e-02+3.0315e-01j,\n",
       "            0.0000e+00-1.3307e-01j, -3.8251e-02+9.9077e-02j],\n",
       "          [-3.6957e-02-8.5049e-02j, -1.2291e-01-1.6823e-01j,\n",
       "            3.8251e-02+9.9077e-02j,  0.0000e+00+1.0055e-01j]],\n",
       "\n",
       "         [[-5.9605e-08-1.9160e-01j,  2.0698e-01-1.0046e-02j,\n",
       "           -1.5002e-02+5.8559e-02j, -7.5667e-02-6.3275e-02j],\n",
       "          [-2.0698e-01-1.0046e-02j,  0.0000e+00+7.2829e-02j,\n",
       "           -1.2547e-02-1.1377e-01j,  2.2643e-01-1.7677e-02j],\n",
       "          [ 1.5002e-02+5.8559e-02j,  1.2547e-02-1.1377e-01j,\n",
       "            0.0000e+00-2.3906e-01j, -3.3048e-02+5.5176e-02j],\n",
       "          [ 7.5667e-02-6.3275e-02j, -2.2643e-01-1.7677e-02j,\n",
       "            3.3048e-02+5.5176e-02j,  0.0000e+00+3.8973e-02j]],\n",
       "\n",
       "         [[ 5.9605e-08+1.0163e-02j, -1.8966e-01-1.3011e-01j,\n",
       "           -1.0408e-01-1.4021e-01j,  6.7565e-02+4.5454e-02j],\n",
       "          [ 1.8966e-01-1.3011e-01j, -1.1921e-07+6.3263e-02j,\n",
       "            8.3331e-02+1.3092e-01j,  9.5796e-02-1.2137e-01j],\n",
       "          [ 1.0408e-01-1.4021e-01j, -8.3331e-02+1.3092e-01j,\n",
       "           -5.9605e-08-1.2210e-01j,  2.7700e-02-1.4963e-01j],\n",
       "          [-6.7565e-02+4.5454e-02j, -9.5796e-02-1.2137e-01j,\n",
       "           -2.7700e-02-1.4963e-01j,  0.0000e+00-1.3083e-01j]],\n",
       "\n",
       "         [[ 0.0000e+00-3.3938e-01j, -2.0792e-01-1.7547e-01j,\n",
       "           -2.3590e-02-1.4651e-01j, -1.1278e-01+6.6047e-02j],\n",
       "          [ 2.0792e-01-1.7547e-01j,  0.0000e+00-3.8174e-03j,\n",
       "           -6.7240e-02+1.0707e-01j, -1.0646e-01-7.1520e-02j],\n",
       "          [ 2.3590e-02-1.4651e-01j,  6.7240e-02+1.0707e-01j,\n",
       "            0.0000e+00+4.9108e-02j, -4.4124e-02-6.7262e-03j],\n",
       "          [ 1.1278e-01+6.6047e-02j,  1.0646e-01-7.1520e-02j,\n",
       "            4.4124e-02-6.7262e-03j,  0.0000e+00-7.2896e-03j]],\n",
       "\n",
       "         [[ 0.0000e+00-6.5488e-02j,  4.3516e-02+3.3962e-02j,\n",
       "           -1.9986e-02+1.5576e-01j, -4.1640e-02-1.5622e-01j],\n",
       "          [-4.3516e-02+3.3962e-02j,  0.0000e+00-5.7085e-02j,\n",
       "           -1.3321e-02+1.7694e-01j,  4.6317e-02+5.5332e-03j],\n",
       "          [ 1.9986e-02+1.5576e-01j,  1.3321e-02+1.7694e-01j,\n",
       "            0.0000e+00+1.6374e-01j,  2.4935e-02+1.1818e-01j],\n",
       "          [ 4.1640e-02-1.5622e-01j, -4.6317e-02+5.5332e-03j,\n",
       "           -2.4935e-02+1.1818e-01j,  0.0000e+00+1.9536e-01j]],\n",
       "\n",
       "         [[ 0.0000e+00-5.8619e-02j, -1.0154e-01+3.1063e-03j,\n",
       "            1.1407e-01+4.2345e-02j,  6.3298e-03+1.2316e-01j],\n",
       "          [ 1.0154e-01+3.1063e-03j,  0.0000e+00+7.9785e-02j,\n",
       "           -2.0525e-01+1.2260e-01j, -1.1312e-01-6.8086e-03j],\n",
       "          [-1.1407e-01+4.2345e-02j,  2.0525e-01+1.2260e-01j,\n",
       "            0.0000e+00+6.5827e-02j,  6.1284e-02-5.4324e-03j],\n",
       "          [-6.3298e-03+1.2316e-01j,  1.1312e-01-6.8086e-03j,\n",
       "           -6.1284e-02-5.4324e-03j,  0.0000e+00-1.4953e-01j]],\n",
       "\n",
       "         [[ 5.9605e-08+1.6507e-02j,  6.2258e-02+7.4107e-02j,\n",
       "            1.5635e-01-6.8014e-02j,  1.4850e-01+1.9331e-01j],\n",
       "          [-6.2258e-02+7.4107e-02j,  0.0000e+00-1.7547e-01j,\n",
       "            3.4944e-02+4.9161e-02j, -7.3455e-02+1.1014e-01j],\n",
       "          [-1.5635e-01-6.8014e-02j, -3.4944e-02+4.9161e-02j,\n",
       "            5.9605e-08-1.4494e-01j,  4.6402e-02-1.7807e-01j],\n",
       "          [-1.4850e-01+1.9331e-01j,  7.3455e-02+1.1014e-01j,\n",
       "           -4.6402e-02-1.7807e-01j,  0.0000e+00+3.4890e-02j]],\n",
       "\n",
       "         [[ 5.9605e-08+1.7387e-02j, -1.2821e-01+4.1377e-02j,\n",
       "            1.1429e-02-1.3375e-01j, -1.8702e-01-2.1805e-01j],\n",
       "          [ 1.2821e-01+4.1377e-02j,  5.9605e-08+1.6325e-01j,\n",
       "            2.2913e-03+2.4710e-01j,  7.3103e-02-1.7012e-01j],\n",
       "          [-1.1429e-02-1.3375e-01j, -2.2913e-03+2.4710e-01j,\n",
       "           -5.9605e-08+5.4167e-02j, -7.3132e-02-7.3359e-02j],\n",
       "          [ 1.8702e-01-2.1805e-01j, -7.3103e-02-1.7012e-01j,\n",
       "            7.3132e-02-7.3359e-02j,  0.0000e+00-1.6188e-02j]],\n",
       "\n",
       "         [[ 0.0000e+00-1.0833e-01j, -1.0734e-01-8.2584e-02j,\n",
       "            1.1636e-01+1.8196e-01j, -1.0968e-01-1.3109e-02j],\n",
       "          [ 1.0734e-01-8.2584e-02j, -5.9605e-08+1.8035e-02j,\n",
       "            2.9952e-01+1.4561e-01j,  2.4231e-02+1.2010e-01j],\n",
       "          [-1.1636e-01+1.8196e-01j, -2.9952e-01+1.4561e-01j,\n",
       "            0.0000e+00+4.4284e-02j,  8.8520e-02+1.1792e-01j],\n",
       "          [ 1.0968e-01-1.3109e-02j, -2.4231e-02+1.2010e-01j,\n",
       "           -8.8520e-02+1.1792e-01j,  0.0000e+00+5.4409e-02j]]]],\n",
       "       device='cuda:0', grad_fn=<SubBackward0>)"
      ]
     },
     "execution_count": 101,
     "metadata": {},
     "output_type": "execute_result"
    }
   ],
   "source": [
    "dv_xn001 - dv_xn00_1"
   ]
  },
  {
   "cell_type": "code",
   "execution_count": 147,
   "id": "304920df",
   "metadata": {},
   "outputs": [],
   "source": [
    "def experiment(pcf_1, pcf_2, X, X_n):\n",
    "    repeats = X.shape[0]\n",
    "    batch_X = X.shape[1]\n",
    "    T = X.shape[-2]\n",
    "    num_samples_1 = pcf_level_1.num_samples\n",
    "    \n",
    "    MMD_1 = np.zeros((repeats, 2))\n",
    "    MMD_2 = np.zeros((repeats, 2))\n",
    "    for i in tqdm(range(repeats)):\n",
    "        \n",
    "        expected_dev_x0 = torch.zeros([500, num_samples_1, 3, 4,4]).to(device).to(torch.cfloat) \n",
    "        expected_dev_x0_ = torch.zeros([500, num_samples_1, 3, 4,4]).to(device).to(torch.cfloat) \n",
    "        expected_dev_xn = torch.zeros([500, num_samples_1, 3, 4,4]).to(device).to(torch.cfloat) \n",
    "        \n",
    "        x0 = torch.tensor(X[i, :, 0, :, :], dtype=torch.float64).to(device)     # X of shape (repeats,n_samples,2,L,D)\n",
    "        x0_ = torch.tensor(X[i, :, 1, :, :], dtype=torch.float64).to(device)    # independent copy of X\n",
    "        xn = torch.tensor(X_n[i, :, 0, :, :], dtype=torch.float64).to(device)\n",
    "        \n",
    "        expected_dev_x0[:, :, 0, :, :] = 0.5*dv_x001.repeat(expected_dev_x0.shape[0],1,1,1) + 0.5*dv_x00_1.repeat(expected_dev_x0.shape[0],1,1,1)\n",
    "        expected_dev_x0_[:, :, 0, :, :] = 0.5*dv_x001.repeat(expected_dev_x0.shape[0],1,1,1) + 0.5*dv_x00_1.repeat(expected_dev_x0.shape[0],1,1,1)\n",
    "        expected_dev_xn[:, :, 0, :, :] = 0.5*dv_xn001.repeat(expected_dev_x0.shape[0],1,1,1) + 0.5*dv_xn00_1.repeat(expected_dev_x0.shape[0],1,1,1)\n",
    "    #     expected_dev_xn_[:, :, 0, :, :] = 0.5*dv_xn001.repeat(expected_dev_x0.shape[0],1,1,1) + 0.5*dv_xn00_1.repeat(expected_dev_x0.shape[0],1,1,1)\n",
    "\n",
    "        # t=1\n",
    "        expected_dev_x0[:, :, 1, :, :] = 0.5*dv_x001.repeat(expected_dev_x0.shape[0],1,1,1) + 0.5*dv_x00_1.repeat(expected_dev_x0.shape[0],1,1,1)\n",
    "        expected_dev_x0_[:, :, 1, :, :] = 0.5*dv_x001.repeat(expected_dev_x0.shape[0],1,1,1) + 0.5*dv_x00_1.repeat(expected_dev_x0.shape[0],1,1,1)\n",
    "\n",
    "        n = torch.all(xn == xn001, dim=1).flatten().sum()\n",
    "    #     n_ = torch.all(xn_ == xn001, dim=1).flatten().sum()\n",
    "        expected_dev_xn[torch.all(xn == xn001, dim=1).flatten(), :, 1, :, :] = dv_xn001.repeat(n,1,1,1)\n",
    "    #     expected_dev_xn_[torch.all(xn_ == xn001, dim=1).flatten(), :, 1, :, :] = dv_xn001.repeat(n_,1,1,1)\n",
    "        expected_dev_xn[~torch.all(xn == xn001, dim=1).flatten(), :, 1, :, :] = dv_xn00_1.repeat(batch_X-n,1,1,1)\n",
    "    #     expected_dev_xn_[~torch.all(xn_ == xn001, dim=1).flatten(), :, 1, :, :] = dv_xn00_1.repeat(500-n_,1,1,1)\n",
    "\n",
    "        # t=2\n",
    "        n = torch.all(xn == xn001, dim=1).flatten().sum()\n",
    "    #     n_ = torch.all(xn_ == xn001, dim=1).flatten().sum()\n",
    "        expected_dev_xn[torch.all(xn == xn001, dim=1).flatten(), :, 2, :, :] = dv_xn001.repeat(n,1,1,1)\n",
    "    #     expected_dev_xn_[torch.all(xn_ == xn001, dim=1).flatten(), :, 2, :, :] = dv_xn001.repeat(n_,1,1,1)\n",
    "        expected_dev_xn[~torch.all(xn == xn001, dim=1).flatten(), :, 2, :, :] = dv_xn00_1.repeat(batch_X-n,1,1,1)\n",
    "    #     expected_dev_xn_[~torch.all(xn_ == xn001, dim=1).flatten(), :, 2, :, :] = dv_xn00_1.repeat(500-n_,1,1,1)\n",
    "\n",
    "        n = torch.all(x0 == x001, dim=1).flatten().sum()\n",
    "        n_ = torch.all(x0_ == x001, dim=1).flatten().sum()\n",
    "        expected_dev_x0[torch.all(x0 == x001, dim=1).flatten(), :, 2, :, :] = dv_x001.repeat(n,1,1,1)\n",
    "        expected_dev_x0_[torch.all(x0_ == x001, dim=1).flatten(), :, 2, :, :] = dv_x001.repeat(n_,1,1,1)\n",
    "        expected_dev_x0[~torch.all(x0 == x001, dim=1).flatten(), :, 2, :, :] = dv_x00_1.repeat(batch_X-n,1,1,1)\n",
    "        expected_dev_x0_[~torch.all(x0_ == x001, dim=1).flatten(), :, 2, :, :] = dv_x00_1.repeat(batch_X-n_,1,1,1)\n",
    "\n",
    "\n",
    "        expected_dev_x0 = expected_dev_x0.reshape([batch_X*num_samples_1, T, 16])\n",
    "        expected_dev_x0_ = expected_dev_x0_.reshape([batch_X*num_samples_1, T, 16])\n",
    "        expected_dev_xn = expected_dev_xn.reshape([batch_X*num_samples_1, T, 16])\n",
    "        \n",
    "        MMD_2[i,0] = HS_norm(order_2_expected_dev_x0_-order_2_expected_dev_x0,\n",
    "                        order_2_expected_dev_x0_-order_2_expected_dev_x0)\n",
    "        MMD_2[i,1] = HS_norm(order_2_expected_dev_xn-order_2_expected_dev_x0,\n",
    "                        order_2_expected_dev_xn-order_2_expected_dev_x0)\n",
    "    return MMD_1, MMD_2"
   ]
  },
  {
   "cell_type": "code",
   "execution_count": 146,
   "id": "ce1b80a4",
   "metadata": {},
   "outputs": [
    {
     "data": {
      "application/vnd.jupyter.widget-view+json": {
       "model_id": "acae19f91fe64ddbbab434f28cfd1f72",
       "version_major": 2,
       "version_minor": 0
      },
      "text/plain": [
       "  0%|          | 0/100 [00:00<?, ?it/s]"
      ]
     },
     "metadata": {},
     "output_type": "display_data"
    }
   ],
   "source": [
    "list_X = []\n",
    "list_Y = []\n",
    "for i in tqdm(range(repeats)):\n",
    "\n",
    "    expected_dev_x0 = torch.zeros([500, num_samples_1, 3, 4,4]).to(device).to(torch.cfloat) \n",
    "    expected_dev_x0_ = torch.zeros([500, num_samples_1, 3, 4,4]).to(device).to(torch.cfloat) \n",
    "    expected_dev_xn = torch.zeros([500, num_samples_1, 3, 4,4]).to(device).to(torch.cfloat) \n",
    "#     expected_dev_xn_ = torch.zeros([500, 100, 3, 4,4]).to(device).to(torch.cfloat) \n",
    "    \n",
    "    \n",
    "    \n",
    "    x0 = torch.tensor(X[i, :, 0, :, :], dtype=torch.float64).to(device)     # X of shape (repeats,n_samples,2,L,D)\n",
    "    x0_ = torch.tensor(X[i, :, 1, :, :], dtype=torch.float64).to(device)    # independent copy of X\n",
    "    xn = torch.tensor(X_n[i, :, 0, :, :], dtype=torch.float64).to(device)\n",
    "#     xn_ = torch.tensor(X_n[i, :, 1, :, :], dtype=torch.float64).to(device)  # independent copy of X_n\n",
    "    \n",
    "    # t=0\n",
    "    expected_dev_x0[:, :, 0, :, :] = 0.5*dv_x001.repeat(expected_dev_x0.shape[0],1,1,1) + 0.5*dv_x00_1.repeat(expected_dev_x0.shape[0],1,1,1)\n",
    "    expected_dev_x0_[:, :, 0, :, :] = 0.5*dv_x001.repeat(expected_dev_x0.shape[0],1,1,1) + 0.5*dv_x00_1.repeat(expected_dev_x0.shape[0],1,1,1)\n",
    "    expected_dev_xn[:, :, 0, :, :] = 0.5*dv_xn001.repeat(expected_dev_x0.shape[0],1,1,1) + 0.5*dv_xn00_1.repeat(expected_dev_x0.shape[0],1,1,1)\n",
    "#     expected_dev_xn_[:, :, 0, :, :] = 0.5*dv_xn001.repeat(expected_dev_x0.shape[0],1,1,1) + 0.5*dv_xn00_1.repeat(expected_dev_x0.shape[0],1,1,1)\n",
    "    \n",
    "    # t=1\n",
    "    expected_dev_x0[:, :, 1, :, :] = 0.5*dv_x001.repeat(expected_dev_x0.shape[0],1,1,1) + 0.5*dv_x00_1.repeat(expected_dev_x0.shape[0],1,1,1)\n",
    "    expected_dev_x0_[:, :, 1, :, :] = 0.5*dv_x001.repeat(expected_dev_x0.shape[0],1,1,1) + 0.5*dv_x00_1.repeat(expected_dev_x0.shape[0],1,1,1)\n",
    "    \n",
    "    n = torch.all(xn == xn001, dim=1).flatten().sum()\n",
    "#     n_ = torch.all(xn_ == xn001, dim=1).flatten().sum()\n",
    "    expected_dev_xn[torch.all(xn == xn001, dim=1).flatten(), :, 1, :, :] = dv_xn001.repeat(n,1,1,1)\n",
    "#     expected_dev_xn_[torch.all(xn_ == xn001, dim=1).flatten(), :, 1, :, :] = dv_xn001.repeat(n_,1,1,1)\n",
    "    expected_dev_xn[~torch.all(xn == xn001, dim=1).flatten(), :, 1, :, :] = dv_xn00_1.repeat(500-n,1,1,1)\n",
    "#     expected_dev_xn_[~torch.all(xn_ == xn001, dim=1).flatten(), :, 1, :, :] = dv_xn00_1.repeat(500-n_,1,1,1)\n",
    "    \n",
    "    # t=2\n",
    "    n = torch.all(xn == xn001, dim=1).flatten().sum()\n",
    "#     n_ = torch.all(xn_ == xn001, dim=1).flatten().sum()\n",
    "    expected_dev_xn[torch.all(xn == xn001, dim=1).flatten(), :, 2, :, :] = dv_xn001.repeat(n,1,1,1)\n",
    "#     expected_dev_xn_[torch.all(xn_ == xn001, dim=1).flatten(), :, 2, :, :] = dv_xn001.repeat(n_,1,1,1)\n",
    "    expected_dev_xn[~torch.all(xn == xn001, dim=1).flatten(), :, 2, :, :] = dv_xn00_1.repeat(500-n,1,1,1)\n",
    "#     expected_dev_xn_[~torch.all(xn_ == xn001, dim=1).flatten(), :, 2, :, :] = dv_xn00_1.repeat(500-n_,1,1,1)\n",
    "    \n",
    "    n = torch.all(x0 == x001, dim=1).flatten().sum()\n",
    "    n_ = torch.all(x0_ == x001, dim=1).flatten().sum()\n",
    "    expected_dev_x0[torch.all(x0 == x001, dim=1).flatten(), :, 2, :, :] = dv_x001.repeat(n,1,1,1)\n",
    "    expected_dev_x0_[torch.all(x0_ == x001, dim=1).flatten(), :, 2, :, :] = dv_x001.repeat(n_,1,1,1)\n",
    "    expected_dev_x0[~torch.all(x0 == x001, dim=1).flatten(), :, 2, :, :] = dv_x00_1.repeat(500-n,1,1,1)\n",
    "    expected_dev_x0_[~torch.all(x0_ == x001, dim=1).flatten(), :, 2, :, :] = dv_x00_1.repeat(500-n_,1,1,1)\n",
    "    \n",
    "    \n",
    "    expected_dev_x0 = expected_dev_x0.reshape([500*num_samples_1, 3, 16])\n",
    "    expected_dev_x0_ = expected_dev_x0_.reshape([500*num_samples_1, 3, 16])\n",
    "    expected_dev_xn = expected_dev_xn.reshape([500*num_samples_1, 3, 16])\n",
    "    \n",
    "#     list_X.append(expected_dev_x0)\n",
    "#     list_Y.append(expected_dev_xn)\n",
    "#     expected_dev_xn_ = expected_dev_xn_.reshape([500* 100, 3, 16])\n",
    "#     order_2_expected_dev_x0 = pcf_level_2.unitary_development(expected_dev_x0).mean(0)\n",
    "#     order_2_expected_dev_x0_ = pcf_level_2.unitary_development(expected_dev_x0_).mean(0)\n",
    "#     order_2_expected_dev_xn = pcf_level_2.unitary_development(expected_dev_xn).mean(0)  \n",
    "\n",
    "    order_2_expected_dev_x0 = pcf_level_2.unitary_development(expected_dev_x0).reshape([500, -1, 4, 4]).mean(0)\n",
    "    order_2_expected_dev_x0_ = pcf_level_2.unitary_development(expected_dev_x0_).reshape([500, -1, 4, 4]).mean(0)\n",
    "    order_2_expected_dev_xn = pcf_level_2.unitary_development(expected_dev_xn).reshape([500, -1, 4, 4]).mean(0)\n",
    "#     order_2_expected_dev_xn_ = pcf_level_2.unitary_development(expected_dev_xn_).reshape([500, -1, 4, 4]).mean(0)\n",
    "    \n",
    "    MMD_2[i,0] = HS_norm(order_2_expected_dev_x0_-order_2_expected_dev_x0,\n",
    "                        order_2_expected_dev_x0_-order_2_expected_dev_x0)\n",
    "    MMD_2[i,1] = HS_norm(order_2_expected_dev_xn-order_2_expected_dev_x0,\n",
    "                        order_2_expected_dev_xn-order_2_expected_dev_x0)\n",
    "    \n",
    "#     MMD_2[i,0] = kernel_order2.compute_mmd(x0, x0_, order=2)   \n",
    "#     MMD_2[i,1] = kernel_order2.compute_mmd(xn, x0, order=2)   \n",
    "    \n",
    "#     MMD_1[i,0] = kernel_order1.compute_mmd(x0, x0_, order=1)   \n",
    "#     MMD_1[i,1] = kernel_order1.compute_mmd(xn, x0, order=1)   "
   ]
  },
  {
   "cell_type": "code",
   "execution_count": 134,
   "id": "e33850c0",
   "metadata": {},
   "outputs": [
    {
     "data": {
      "application/vnd.jupyter.widget-view+json": {
       "model_id": "a8c24d11279d411f87324e22bde99368",
       "version_major": 2,
       "version_minor": 0
      },
      "text/plain": [
       "  0%|          | 0/100 [00:00<?, ?it/s]"
      ]
     },
     "metadata": {},
     "output_type": "display_data"
    }
   ],
   "source": [
    "list_X = []\n",
    "list_Y = []\n",
    "for i in tqdm(range(repeats)):\n",
    "\n",
    "    expected_dev_x0 = torch.zeros([500, num_samples_1, 3, 4,4]).to(device).to(torch.cfloat) \n",
    "    expected_dev_x0_ = torch.zeros([500, num_samples_1, 3, 4,4]).to(device).to(torch.cfloat) \n",
    "    expected_dev_xn = torch.zeros([500, num_samples_1, 3, 4,4]).to(device).to(torch.cfloat) \n",
    "#     expected_dev_xn_ = torch.zeros([500, 100, 3, 4,4]).to(device).to(torch.cfloat) \n",
    "    \n",
    "    \n",
    "    \n",
    "    x0 = torch.tensor(X[i, :, 0, :, :], dtype=torch.float64).to(device)     # X of shape (repeats,n_samples,2,L,D)\n",
    "    x0_ = torch.tensor(X[i, :, 1, :, :], dtype=torch.float64).to(device)    # independent copy of X\n",
    "    xn = torch.tensor(X_n[i, :, 0, :, :], dtype=torch.float64).to(device)\n",
    "#     xn_ = torch.tensor(X_n[i, :, 1, :, :], dtype=torch.float64).to(device)  # independent copy of X_n\n",
    "    \n",
    "    # t=0\n",
    "    expected_dev_x0[:, :, 0, :, :] = 0.5*dv_x001.repeat(expected_dev_x0.shape[0],1,1,1) + 0.5*dv_x00_1.repeat(expected_dev_x0.shape[0],1,1,1)\n",
    "    expected_dev_x0_[:, :, 0, :, :] = 0.5*dv_x001.repeat(expected_dev_x0.shape[0],1,1,1) + 0.5*dv_x00_1.repeat(expected_dev_x0.shape[0],1,1,1)\n",
    "    expected_dev_xn[:, :, 0, :, :] = 0.5*dv_xn001.repeat(expected_dev_x0.shape[0],1,1,1) + 0.5*dv_xn00_1.repeat(expected_dev_x0.shape[0],1,1,1)\n",
    "#     expected_dev_xn_[:, :, 0, :, :] = 0.5*dv_xn001.repeat(expected_dev_x0.shape[0],1,1,1) + 0.5*dv_xn00_1.repeat(expected_dev_x0.shape[0],1,1,1)\n",
    "    \n",
    "    # t=1\n",
    "    expected_dev_x0[:, :, 1, :, :] = 0.5*dv_x001.repeat(expected_dev_x0.shape[0],1,1,1) + 0.5*dv_x00_1.repeat(expected_dev_x0.shape[0],1,1,1)\n",
    "    expected_dev_x0_[:, :, 1, :, :] = 0.5*dv_x001.repeat(expected_dev_x0.shape[0],1,1,1) + 0.5*dv_x00_1.repeat(expected_dev_x0.shape[0],1,1,1)\n",
    "    \n",
    "    n = torch.all(xn == xn001, dim=1).flatten().sum()\n",
    "#     n_ = torch.all(xn_ == xn001, dim=1).flatten().sum()\n",
    "    expected_dev_xn[torch.all(xn == xn001, dim=1).flatten(), :, 1, :, :] = dv_xn001.repeat(n,1,1,1)\n",
    "#     expected_dev_xn_[torch.all(xn_ == xn001, dim=1).flatten(), :, 1, :, :] = dv_xn001.repeat(n_,1,1,1)\n",
    "    expected_dev_xn[~torch.all(xn == xn001, dim=1).flatten(), :, 1, :, :] = dv_xn00_1.repeat(500-n,1,1,1)\n",
    "#     expected_dev_xn_[~torch.all(xn_ == xn001, dim=1).flatten(), :, 1, :, :] = dv_xn00_1.repeat(500-n_,1,1,1)\n",
    "    \n",
    "    # t=2\n",
    "    n = torch.all(xn == xn001, dim=1).flatten().sum()\n",
    "#     n_ = torch.all(xn_ == xn001, dim=1).flatten().sum()\n",
    "    expected_dev_xn[torch.all(xn == xn001, dim=1).flatten(), :, 2, :, :] = dv_xn001.repeat(n,1,1,1)\n",
    "#     expected_dev_xn_[torch.all(xn_ == xn001, dim=1).flatten(), :, 2, :, :] = dv_xn001.repeat(n_,1,1,1)\n",
    "    expected_dev_xn[~torch.all(xn == xn001, dim=1).flatten(), :, 2, :, :] = dv_xn00_1.repeat(500-n,1,1,1)\n",
    "#     expected_dev_xn_[~torch.all(xn_ == xn001, dim=1).flatten(), :, 2, :, :] = dv_xn00_1.repeat(500-n_,1,1,1)\n",
    "    \n",
    "    n = torch.all(x0 == x001, dim=1).flatten().sum()\n",
    "    n_ = torch.all(x0_ == x001, dim=1).flatten().sum()\n",
    "    expected_dev_x0[torch.all(x0 == x001, dim=1).flatten(), :, 2, :, :] = dv_x001.repeat(n,1,1,1)\n",
    "    expected_dev_x0_[torch.all(x0_ == x001, dim=1).flatten(), :, 2, :, :] = dv_x001.repeat(n_,1,1,1)\n",
    "    expected_dev_x0[~torch.all(x0 == x001, dim=1).flatten(), :, 2, :, :] = dv_x00_1.repeat(500-n,1,1,1)\n",
    "    expected_dev_x0_[~torch.all(x0_ == x001, dim=1).flatten(), :, 2, :, :] = dv_x00_1.repeat(500-n_,1,1,1)\n",
    "    \n",
    "    \n",
    "    expected_dev_x0 = expected_dev_x0.reshape([500*num_samples_1, 3, 16])\n",
    "    expected_dev_x0_ = expected_dev_x0_.reshape([500*num_samples_1, 3, 16])\n",
    "    expected_dev_xn = expected_dev_xn.reshape([500*num_samples_1, 3, 16])\n",
    "    \n",
    "    list_X.append(expected_dev_x0)\n",
    "    list_Y.append(expected_dev_xn)"
   ]
  },
  {
   "cell_type": "code",
   "execution_count": null,
   "id": "f2715252",
   "metadata": {},
   "outputs": [],
   "source": []
  },
  {
   "cell_type": "code",
   "execution_count": 135,
   "id": "7cf40a90",
   "metadata": {},
   "outputs": [],
   "source": [
    "train_X = torch.stack(list_X, dim=0).reshape([-1, L, lie_degree_1**2]).detach()\n",
    "train_Y = torch.stack(list_Y, dim=0).reshape([-1, L, lie_degree_1**2]).detach()"
   ]
  },
  {
   "cell_type": "code",
   "execution_count": 136,
   "id": "b21148a7",
   "metadata": {},
   "outputs": [
    {
     "data": {
      "text/plain": [
       "torch.Size([1000000, 3, 16])"
      ]
     },
     "execution_count": 136,
     "metadata": {},
     "output_type": "execute_result"
    }
   ],
   "source": [
    "train_X.shape"
   ]
  },
  {
   "cell_type": "code",
   "execution_count": 137,
   "id": "378a5f1d",
   "metadata": {},
   "outputs": [
    {
     "data": {
      "text/plain": [
       "torch.Size([1000000, 3, 16])"
      ]
     },
     "execution_count": 137,
     "metadata": {},
     "output_type": "execute_result"
    }
   ],
   "source": [
    "train_Y.shape"
   ]
  },
  {
   "cell_type": "code",
   "execution_count": 138,
   "id": "4d248aeb",
   "metadata": {},
   "outputs": [],
   "source": [
    "train_X_dl = DataLoader(train_X, 128, shuffle=True)\n",
    "train_Y_dl = DataLoader(train_Y, 128, shuffle=True)"
   ]
  },
  {
   "cell_type": "code",
   "execution_count": 139,
   "id": "34f99144",
   "metadata": {},
   "outputs": [
    {
     "data": {
      "text/plain": [
       "char_func_path(\n",
       "  (unitary_development): development_layer(\n",
       "    (projection): projection(\n",
       "      (param_map): unitary()\n",
       "    )\n",
       "  )\n",
       ")"
      ]
     },
     "execution_count": 139,
     "metadata": {},
     "output_type": "execute_result"
    }
   ],
   "source": [
    "num_samples_2 = 100\n",
    "lie_degree_2 = 4\n",
    "pcf_level_2 = char_func_path(num_samples=num_samples_2, \n",
    "                              hidden_size=lie_degree_2, \n",
    "                              input_dim=lie_degree_1**2, \n",
    "                              add_time=add_time, \n",
    "                              include_initial = False)\n",
    "pcf_level_2.to(device)"
   ]
  },
  {
   "cell_type": "code",
   "execution_count": 140,
   "id": "604aef09",
   "metadata": {},
   "outputs": [
    {
     "name": "stdout",
     "output_type": "stream",
     "text": [
      "start opitmize charateristics function\n"
     ]
    },
    {
     "data": {
      "application/vnd.jupyter.widget-view+json": {
       "model_id": "13d0d8b904004e5a992877d2a5735f83",
       "version_major": 2,
       "version_minor": 0
      },
      "text/plain": [
       "  0%|          | 0/2000 [00:00<?, ?it/s]"
      ]
     },
     "metadata": {},
     "output_type": "display_data"
    },
    {
     "name": "stdout",
     "output_type": "stream",
     "text": [
      "Iteration 0 :  loss = 0.00661480613052845\n",
      "Iteration 100 :  loss = 0.011783771216869354\n",
      "Iteration 200 :  loss = 0.015527398325502872\n",
      "Iteration 300 :  loss = 0.02325384132564068\n",
      "Iteration 400 :  loss = 0.02231466770172119\n",
      "Iteration 500 :  loss = 0.04267304763197899\n",
      "Iteration 600 :  loss = 0.07478199154138565\n",
      "Iteration 700 :  loss = 0.12759241461753845\n",
      "Iteration 800 :  loss = 0.09829965233802795\n",
      "Iteration 900 :  loss = 0.6369236707687378\n",
      "Iteration 1000 :  loss = 5.412981033325195\n",
      "Iteration 1100 :  loss = 2.4633352756500244\n",
      "Iteration 1200 :  loss = 19.657896041870117\n",
      "Iteration 1300 :  loss = 15.51220417022705\n",
      "Iteration 1400 :  loss = 73.56920623779297\n",
      "Iteration 1500 :  loss = 182.34120178222656\n",
      "Iteration 1600 :  loss = 408.7055358886719\n",
      "Iteration 1700 :  loss = 4849.90185546875\n",
      "Iteration 1800 :  loss = 11289.404296875\n",
      "Iteration 1900 :  loss = 8672.4033203125\n"
     ]
    }
   ],
   "source": [
    "iterations = 2000\n",
    "\n",
    "char_optimizer = torch.optim.Adam(\n",
    "        pcf_level_2.parameters(), betas=(0, 0.9), lr=0.002)\n",
    "\n",
    "print('start opitmize charateristics function')\n",
    "pcf_level_2.train()\n",
    "for i in tqdm(range(iterations)):\n",
    "    X_ = next(iter(train_X_dl))\n",
    "    Y_ = next(iter(train_Y_dl))\n",
    "    char_optimizer.zero_grad()\n",
    "    char_loss = - pcf_level_2.distance_measure(\n",
    "            X_, Y_, Lambda=0)\n",
    "    if i%100 == 0:\n",
    "        print(\"Iteration {} :\".format(i), \" loss = {}\".format(-char_loss))\n",
    "    char_loss.backward()\n",
    "    char_optimizer.step()"
   ]
  },
  {
   "cell_type": "code",
   "execution_count": 144,
   "id": "f6297bd9",
   "metadata": {},
   "outputs": [
    {
     "data": {
      "text/plain": [
       "char_func_path(\n",
       "  (unitary_development): development_layer(\n",
       "    (projection): projection(\n",
       "      (param_map): unitary()\n",
       "    )\n",
       "  )\n",
       ")"
      ]
     },
     "execution_count": 144,
     "metadata": {},
     "output_type": "execute_result"
    }
   ],
   "source": [
    "pcf_level_2.eval()\n"
   ]
  },
  {
   "cell_type": "code",
   "execution_count": 145,
   "id": "6204269c",
   "metadata": {},
   "outputs": [
    {
     "data": {
      "application/vnd.jupyter.widget-view+json": {
       "model_id": "aee105b7f2874def8c8b2c2125db68bf",
       "version_major": 2,
       "version_minor": 0
      },
      "text/plain": [
       "  0%|          | 0/100 [00:00<?, ?it/s]"
      ]
     },
     "metadata": {},
     "output_type": "display_data"
    },
    {
     "ename": "UnboundLocalError",
     "evalue": "local variable 'expected_dev_x0' referenced before assignment",
     "output_type": "error",
     "traceback": [
      "\u001b[0;31m---------------------------------------------------------------------------\u001b[0m",
      "\u001b[0;31mUnboundLocalError\u001b[0m                         Traceback (most recent call last)",
      "\u001b[0;32m/tmp/ipykernel_4021907/591687965.py\u001b[0m in \u001b[0;36m<module>\u001b[0;34m\u001b[0m\n\u001b[0;32m----> 1\u001b[0;31m \u001b[0mmmd_1\u001b[0m\u001b[0;34m,\u001b[0m \u001b[0mmmd_2\u001b[0m \u001b[0;34m=\u001b[0m \u001b[0mexperiment\u001b[0m\u001b[0;34m(\u001b[0m\u001b[0mpcf_level_1\u001b[0m\u001b[0;34m,\u001b[0m \u001b[0mpcf_level_2\u001b[0m\u001b[0;34m,\u001b[0m \u001b[0mX\u001b[0m\u001b[0;34m,\u001b[0m \u001b[0mX_n\u001b[0m\u001b[0;34m)\u001b[0m\u001b[0;34m\u001b[0m\u001b[0;34m\u001b[0m\u001b[0m\n\u001b[0m",
      "\u001b[0;32m/tmp/ipykernel_4021907/70468491.py\u001b[0m in \u001b[0;36mexperiment\u001b[0;34m(pcf_1, pcf_2, X, X_n)\u001b[0m\n\u001b[1;32m     12\u001b[0m         \u001b[0mxn\u001b[0m \u001b[0;34m=\u001b[0m \u001b[0mtorch\u001b[0m\u001b[0;34m.\u001b[0m\u001b[0mtensor\u001b[0m\u001b[0;34m(\u001b[0m\u001b[0mX_n\u001b[0m\u001b[0;34m[\u001b[0m\u001b[0mi\u001b[0m\u001b[0;34m,\u001b[0m \u001b[0;34m:\u001b[0m\u001b[0;34m,\u001b[0m \u001b[0;36m0\u001b[0m\u001b[0;34m,\u001b[0m \u001b[0;34m:\u001b[0m\u001b[0;34m,\u001b[0m \u001b[0;34m:\u001b[0m\u001b[0;34m]\u001b[0m\u001b[0;34m,\u001b[0m \u001b[0mdtype\u001b[0m\u001b[0;34m=\u001b[0m\u001b[0mtorch\u001b[0m\u001b[0;34m.\u001b[0m\u001b[0mfloat64\u001b[0m\u001b[0;34m)\u001b[0m\u001b[0;34m.\u001b[0m\u001b[0mto\u001b[0m\u001b[0;34m(\u001b[0m\u001b[0mdevice\u001b[0m\u001b[0;34m)\u001b[0m\u001b[0;34m\u001b[0m\u001b[0;34m\u001b[0m\u001b[0m\n\u001b[1;32m     13\u001b[0m \u001b[0;34m\u001b[0m\u001b[0m\n\u001b[0;32m---> 14\u001b[0;31m         \u001b[0mexpected_dev_x0\u001b[0m\u001b[0;34m[\u001b[0m\u001b[0;34m:\u001b[0m\u001b[0;34m,\u001b[0m \u001b[0;34m:\u001b[0m\u001b[0;34m,\u001b[0m \u001b[0;36m0\u001b[0m\u001b[0;34m,\u001b[0m \u001b[0;34m:\u001b[0m\u001b[0;34m,\u001b[0m \u001b[0;34m:\u001b[0m\u001b[0;34m]\u001b[0m \u001b[0;34m=\u001b[0m \u001b[0;36m0.5\u001b[0m\u001b[0;34m*\u001b[0m\u001b[0mdv_x001\u001b[0m\u001b[0;34m.\u001b[0m\u001b[0mrepeat\u001b[0m\u001b[0;34m(\u001b[0m\u001b[0mexpected_dev_x0\u001b[0m\u001b[0;34m.\u001b[0m\u001b[0mshape\u001b[0m\u001b[0;34m[\u001b[0m\u001b[0;36m0\u001b[0m\u001b[0;34m]\u001b[0m\u001b[0;34m,\u001b[0m\u001b[0;36m1\u001b[0m\u001b[0;34m,\u001b[0m\u001b[0;36m1\u001b[0m\u001b[0;34m,\u001b[0m\u001b[0;36m1\u001b[0m\u001b[0;34m)\u001b[0m \u001b[0;34m+\u001b[0m \u001b[0;36m0.5\u001b[0m\u001b[0;34m*\u001b[0m\u001b[0mdv_x00_1\u001b[0m\u001b[0;34m.\u001b[0m\u001b[0mrepeat\u001b[0m\u001b[0;34m(\u001b[0m\u001b[0mexpected_dev_x0\u001b[0m\u001b[0;34m.\u001b[0m\u001b[0mshape\u001b[0m\u001b[0;34m[\u001b[0m\u001b[0;36m0\u001b[0m\u001b[0;34m]\u001b[0m\u001b[0;34m,\u001b[0m\u001b[0;36m1\u001b[0m\u001b[0;34m,\u001b[0m\u001b[0;36m1\u001b[0m\u001b[0;34m,\u001b[0m\u001b[0;36m1\u001b[0m\u001b[0;34m)\u001b[0m\u001b[0;34m\u001b[0m\u001b[0;34m\u001b[0m\u001b[0m\n\u001b[0m\u001b[1;32m     15\u001b[0m         \u001b[0mexpected_dev_x0_\u001b[0m\u001b[0;34m[\u001b[0m\u001b[0;34m:\u001b[0m\u001b[0;34m,\u001b[0m \u001b[0;34m:\u001b[0m\u001b[0;34m,\u001b[0m \u001b[0;36m0\u001b[0m\u001b[0;34m,\u001b[0m \u001b[0;34m:\u001b[0m\u001b[0;34m,\u001b[0m \u001b[0;34m:\u001b[0m\u001b[0;34m]\u001b[0m \u001b[0;34m=\u001b[0m \u001b[0;36m0.5\u001b[0m\u001b[0;34m*\u001b[0m\u001b[0mdv_x001\u001b[0m\u001b[0;34m.\u001b[0m\u001b[0mrepeat\u001b[0m\u001b[0;34m(\u001b[0m\u001b[0mexpected_dev_x0\u001b[0m\u001b[0;34m.\u001b[0m\u001b[0mshape\u001b[0m\u001b[0;34m[\u001b[0m\u001b[0;36m0\u001b[0m\u001b[0;34m]\u001b[0m\u001b[0;34m,\u001b[0m\u001b[0;36m1\u001b[0m\u001b[0;34m,\u001b[0m\u001b[0;36m1\u001b[0m\u001b[0;34m,\u001b[0m\u001b[0;36m1\u001b[0m\u001b[0;34m)\u001b[0m \u001b[0;34m+\u001b[0m \u001b[0;36m0.5\u001b[0m\u001b[0;34m*\u001b[0m\u001b[0mdv_x00_1\u001b[0m\u001b[0;34m.\u001b[0m\u001b[0mrepeat\u001b[0m\u001b[0;34m(\u001b[0m\u001b[0mexpected_dev_x0\u001b[0m\u001b[0;34m.\u001b[0m\u001b[0mshape\u001b[0m\u001b[0;34m[\u001b[0m\u001b[0;36m0\u001b[0m\u001b[0;34m]\u001b[0m\u001b[0;34m,\u001b[0m\u001b[0;36m1\u001b[0m\u001b[0;34m,\u001b[0m\u001b[0;36m1\u001b[0m\u001b[0;34m,\u001b[0m\u001b[0;36m1\u001b[0m\u001b[0;34m)\u001b[0m\u001b[0;34m\u001b[0m\u001b[0;34m\u001b[0m\u001b[0m\n\u001b[1;32m     16\u001b[0m         \u001b[0mexpected_dev_xn\u001b[0m\u001b[0;34m[\u001b[0m\u001b[0;34m:\u001b[0m\u001b[0;34m,\u001b[0m \u001b[0;34m:\u001b[0m\u001b[0;34m,\u001b[0m \u001b[0;36m0\u001b[0m\u001b[0;34m,\u001b[0m \u001b[0;34m:\u001b[0m\u001b[0;34m,\u001b[0m \u001b[0;34m:\u001b[0m\u001b[0;34m]\u001b[0m \u001b[0;34m=\u001b[0m \u001b[0;36m0.5\u001b[0m\u001b[0;34m*\u001b[0m\u001b[0mdv_xn001\u001b[0m\u001b[0;34m.\u001b[0m\u001b[0mrepeat\u001b[0m\u001b[0;34m(\u001b[0m\u001b[0mexpected_dev_x0\u001b[0m\u001b[0;34m.\u001b[0m\u001b[0mshape\u001b[0m\u001b[0;34m[\u001b[0m\u001b[0;36m0\u001b[0m\u001b[0;34m]\u001b[0m\u001b[0;34m,\u001b[0m\u001b[0;36m1\u001b[0m\u001b[0;34m,\u001b[0m\u001b[0;36m1\u001b[0m\u001b[0;34m,\u001b[0m\u001b[0;36m1\u001b[0m\u001b[0;34m)\u001b[0m \u001b[0;34m+\u001b[0m \u001b[0;36m0.5\u001b[0m\u001b[0;34m*\u001b[0m\u001b[0mdv_xn00_1\u001b[0m\u001b[0;34m.\u001b[0m\u001b[0mrepeat\u001b[0m\u001b[0;34m(\u001b[0m\u001b[0mexpected_dev_x0\u001b[0m\u001b[0;34m.\u001b[0m\u001b[0mshape\u001b[0m\u001b[0;34m[\u001b[0m\u001b[0;36m0\u001b[0m\u001b[0;34m]\u001b[0m\u001b[0;34m,\u001b[0m\u001b[0;36m1\u001b[0m\u001b[0;34m,\u001b[0m\u001b[0;36m1\u001b[0m\u001b[0;34m,\u001b[0m\u001b[0;36m1\u001b[0m\u001b[0;34m)\u001b[0m\u001b[0;34m\u001b[0m\u001b[0;34m\u001b[0m\u001b[0m\n",
      "\u001b[0;31mUnboundLocalError\u001b[0m: local variable 'expected_dev_x0' referenced before assignment"
     ]
    }
   ],
   "source": [
    "mmd_1, mmd_2 = experiment(pcf_level_1, pcf_level_2, X, X_n)"
   ]
  },
  {
   "cell_type": "code",
   "execution_count": 62,
   "id": "2d0cadaa",
   "metadata": {},
   "outputs": [
    {
     "data": {
      "text/plain": [
       "Parameter containing:\n",
       "tensor([[[[ 0.0000-4.0942j,  4.0675-2.4209j,  2.2239-2.9950j,  1.6082+3.1210j],\n",
       "          [-4.0675-2.4209j,  0.0000-3.5846j, -2.6609-2.4204j,  3.0518+0.4502j],\n",
       "          [-2.2239-2.9950j,  2.6609-2.4204j,  0.0000+3.4272j,  1.2160-2.5994j],\n",
       "          [-1.6082+3.1210j, -3.0518+0.4502j, -1.2160-2.5994j,  0.0000+1.5061j]],\n",
       "\n",
       "         [[ 0.0000-2.3592j, -3.0334+1.5895j, -2.5600+1.2748j,  2.1429+1.6917j],\n",
       "          [ 3.0334+1.5895j,  0.0000-1.3187j,  2.1572-1.3839j,  1.4953-1.1439j],\n",
       "          [ 2.5600+1.2748j, -2.1572-1.3839j,  0.0000+4.1528j,  3.3017+0.6009j],\n",
       "          [-2.1429+1.6917j, -1.4953-1.1439j, -3.3017+0.6009j,  0.0000+3.1110j]],\n",
       "\n",
       "         [[ 0.0000-4.5160j,  3.6817-1.0481j,  2.2471-1.8504j,  0.3522+3.0033j],\n",
       "          [-3.6817-1.0481j,  0.0000-1.6870j, -1.4195-3.3210j,  2.3130+0.6184j],\n",
       "          [-2.2471-1.8504j,  1.4195-3.3210j,  0.0000-4.4149j,  1.8531+2.1850j],\n",
       "          [-0.3522+3.0033j, -2.3130+0.6184j, -1.8531+2.1850j,  0.0000-2.0220j]],\n",
       "\n",
       "         ...,\n",
       "\n",
       "         [[ 0.0000+3.9405j, -3.3605+2.7186j,  0.1834-2.7125j, -2.9392-3.0996j],\n",
       "          [ 3.3605+2.7186j,  0.0000+3.3321j, -0.0405-3.0394j, -2.3204-2.6122j],\n",
       "          [-0.1834-2.7125j,  0.0405-3.0394j,  0.0000+2.1887j, -0.3280+3.1507j],\n",
       "          [ 2.9392-3.0996j,  2.3204-2.6122j,  0.3280+3.1507j,  0.0000+0.7257j]],\n",
       "\n",
       "         [[ 0.0000-3.7125j, -0.3978-2.6809j, -2.8132-1.6120j, -2.9816-1.0638j],\n",
       "          [ 0.3978-2.6809j,  0.0000-3.3579j, -3.1396-1.2321j, -2.4030-1.3611j],\n",
       "          [ 2.8132-1.6120j,  3.1396-1.2321j,  0.0000-2.7881j, -0.6393-4.2359j],\n",
       "          [ 2.9816-1.0638j,  2.4030-1.3611j,  0.6393-4.2359j,  0.0000-4.2069j]],\n",
       "\n",
       "         [[ 0.0000-3.7397j,  2.0180-2.4616j, -3.4076+0.9614j, -1.3600+2.8963j],\n",
       "          [-2.0180-2.4616j,  0.0000-3.2021j, -1.6534+1.9282j,  2.9205+3.2734j],\n",
       "          [ 3.4076+0.9614j,  1.6534+1.9282j,  0.0000-2.5320j, -1.1264-1.3713j],\n",
       "          [ 1.3600+2.8963j, -2.9205+3.2734j,  1.1264-1.3713j,  0.0000-0.4701j]]],\n",
       "\n",
       "\n",
       "        [[[ 0.0000-3.8157j,  3.7844-1.7389j, -0.1497-3.2559j,  0.5828+2.0329j],\n",
       "          [-3.7844-1.7389j,  0.0000-3.4639j, -2.0145-2.5105j,  3.5865-0.6809j],\n",
       "          [ 0.1497-3.2559j,  2.0145-2.5105j,  0.0000+3.9030j,  0.5815-3.3501j],\n",
       "          [-0.5828+2.0329j, -3.5865-0.6809j, -0.5815-3.3501j,  0.0000+2.9044j]],\n",
       "\n",
       "         [[ 0.0000-1.6697j, -3.3718+2.2678j, -3.1992+1.3462j,  2.6793+1.0135j],\n",
       "          [ 3.3718+2.2678j,  0.0000-1.1519j,  3.0864-0.4640j,  1.9763-2.6439j],\n",
       "          [ 3.1992+1.3462j, -3.0864-0.4640j,  0.0000+4.6887j,  3.3975+0.1404j],\n",
       "          [-2.6793+1.0135j, -1.9763-2.6439j, -3.3975+0.1404j,  0.0000+2.8234j]],\n",
       "\n",
       "         [[ 0.0000-4.6671j,  2.8773-1.4885j,  3.0486-1.5817j, -0.1230+3.6090j],\n",
       "          [-2.8773-1.4885j,  0.0000-2.6937j, -1.6193-3.2867j,  3.6911+0.5129j],\n",
       "          [-3.0486-1.5817j,  1.6193-3.2867j,  0.0000-3.9594j,  1.7066+2.9095j],\n",
       "          [ 0.1230+3.6090j, -3.6911+0.5129j, -1.7066+2.9095j,  0.0000-3.8667j]],\n",
       "\n",
       "         ...,\n",
       "\n",
       "         [[ 0.0000+4.2904j, -3.4851+2.1565j, -1.4915-3.8491j, -2.4705-3.0857j],\n",
       "          [ 3.4851+2.1565j,  0.0000+2.8362j, -0.8156-2.4479j, -1.7384-2.8634j],\n",
       "          [ 1.4915-3.8491j,  0.8156-2.4479j,  0.0000+3.0194j, -0.4257+3.6543j],\n",
       "          [ 2.4705-3.0857j,  1.7384-2.8634j,  0.4257+3.6543j,  0.0000+0.1509j]],\n",
       "\n",
       "         [[ 0.0000-4.0598j, -0.2380-3.7809j, -3.5038-1.8719j, -2.9843-2.1520j],\n",
       "          [ 0.2380-3.7809j,  0.0000-4.4238j, -3.0195-1.3266j, -2.4604-2.7298j],\n",
       "          [ 3.5038-1.8719j,  3.0195-1.3266j,  0.0000-4.0339j,  0.7550-3.7074j],\n",
       "          [ 2.9843-2.1520j,  2.4604-2.7298j, -0.7550-3.7074j,  0.0000-3.8787j]],\n",
       "\n",
       "         [[ 0.0000-3.1480j,  3.5223-1.6339j, -3.5185-0.9491j, -1.1352+4.1994j],\n",
       "          [-3.5223-1.6339j,  0.0000-3.3266j, -2.3280+3.0350j,  2.1990+2.0729j],\n",
       "          [ 3.5185-0.9491j,  2.3280+3.0350j,  0.0000-3.1384j, -1.1065-2.2693j],\n",
       "          [ 1.1352+4.1994j, -2.1990+2.0729j,  1.1065-2.2693j,  0.0000-0.1294j]]],\n",
       "\n",
       "\n",
       "        [[[ 0.0000+1.9649j, -2.4411+1.8495j, -0.9756+3.4465j, -1.9009-2.3358j],\n",
       "          [ 2.4411+1.8495j,  0.0000+2.5500j,  2.2007+2.1721j, -3.2765+0.6309j],\n",
       "          [ 0.9756+3.4465j, -2.2007+2.1721j,  0.0000-3.4300j, -1.0224+3.0460j],\n",
       "          [ 1.9009-2.3358j,  3.2765+0.6309j,  1.0224+3.0460j,  0.0000-3.5011j]],\n",
       "\n",
       "         [[ 0.0000+0.5948j,  3.2876-1.7390j,  2.6604-2.1180j, -3.6077-2.4804j],\n",
       "          [-3.2876-1.7390j,  0.0000+1.3506j, -3.5896+0.5696j, -2.7888+3.0696j],\n",
       "          [-2.6604-2.1180j,  3.5896+0.5696j,  0.0000-3.8215j, -3.3390-0.9797j],\n",
       "          [ 3.6077-2.4804j,  2.7888+3.0696j,  3.3390-0.9797j,  0.0000-3.9557j]],\n",
       "\n",
       "         [[ 0.0000+3.4369j, -3.3423+2.3088j, -2.0270+2.9167j,  0.0898-2.9316j],\n",
       "          [ 3.3423+2.3088j,  0.0000+1.9890j,  1.1130+2.7256j, -2.8719-1.2487j],\n",
       "          [ 2.0270+2.9167j, -1.1130+2.7256j,  0.0000+3.4344j, -1.9110-3.0761j],\n",
       "          [-0.0898-2.9316j,  2.8719-1.2487j,  1.9110-3.0761j,  0.0000+1.6386j]],\n",
       "\n",
       "         ...,\n",
       "\n",
       "         [[ 0.0000-3.0126j,  2.2743-1.7356j,  0.6723+2.7925j,  1.0603+3.1886j],\n",
       "          [-2.2743-1.7356j,  0.0000-3.8402j,  1.1966+3.2378j,  2.3084+3.0859j],\n",
       "          [-0.6723+2.7925j, -1.1966+3.2378j,  0.0000-3.9787j,  0.3958-2.4372j],\n",
       "          [-1.0603+3.1886j, -2.3084+3.0859j, -0.3958-2.4372j,  0.0000+0.1469j]],\n",
       "\n",
       "         [[ 0.0000+3.6124j, -0.4462+2.9697j,  2.6421+1.5210j,  3.3687+2.0925j],\n",
       "          [ 0.4462+2.9697j,  0.0000+3.4447j,  2.7241+1.4913j,  3.4406+2.2553j],\n",
       "          [-2.6421+1.5210j, -2.7241+1.4913j,  0.0000+3.2728j, -0.1520+3.7999j],\n",
       "          [-3.3687+2.0925j, -3.4406+2.2553j,  0.1520+3.7999j,  0.0000+3.6789j]],\n",
       "\n",
       "         [[ 0.0000+2.6402j, -3.0618+2.6531j,  2.9276-0.7367j,  0.6368-3.2899j],\n",
       "          [ 3.0618+2.6531j,  0.0000+3.3004j,  1.1778-1.5182j, -0.4002-2.1297j],\n",
       "          [-2.9276-0.7367j, -1.1778-1.5182j,  0.0000+2.2172j,  2.3227+1.4473j],\n",
       "          [-0.6368-3.2899j,  0.4002-2.1297j, -2.3227+1.4473j,  0.0000+1.4667j]]],\n",
       "\n",
       "\n",
       "        ...,\n",
       "\n",
       "\n",
       "        [[[ 0.0000-3.6475j,  2.6155-0.9490j,  0.7163-3.0061j,  2.0153+3.1985j],\n",
       "          [-2.6155-0.9490j,  0.0000-4.0734j, -2.4384-2.9937j,  3.0908+0.0332j],\n",
       "          [-0.7163-3.0061j,  2.4384-2.9937j,  0.0000+2.7044j,  0.8092-2.6193j],\n",
       "          [-2.0153+3.1985j, -3.0908+0.0332j, -0.8092-2.6193j,  0.0000+3.5459j]],\n",
       "\n",
       "         [[ 0.0000-1.8179j, -2.4992+1.1868j, -3.1669+1.8979j,  2.9650+2.0144j],\n",
       "          [ 2.4992+1.1868j,  0.0000-2.9029j,  2.5685-0.5738j,  1.7675-3.1664j],\n",
       "          [ 3.1669+1.8979j, -2.5685-0.5738j,  0.0000+3.5148j,  3.5908+0.1115j],\n",
       "          [-2.9650+2.0144j, -1.7675-3.1664j, -3.5908+0.1115j,  0.0000+3.9397j]],\n",
       "\n",
       "         [[ 0.0000-2.9117j,  3.2409-2.0824j,  2.9987-2.6931j,  0.2222+3.8710j],\n",
       "          [-3.2409-2.0824j,  0.0000-2.3724j, -1.2225-3.2847j,  3.0756+1.5902j],\n",
       "          [-2.9987-2.6931j,  1.2225-3.2847j,  0.0000-3.3192j,  1.4708+1.8856j],\n",
       "          [-0.2222+3.8710j, -3.0756+1.5902j, -1.4708+1.8856j,  0.0000-1.7328j]],\n",
       "\n",
       "         ...,\n",
       "\n",
       "         [[ 0.0000+3.3363j, -2.8571+1.7403j, -0.6534-3.8076j, -1.9451-2.9367j],\n",
       "          [ 2.8571+1.7403j,  0.0000+3.3704j, -0.5626-3.1380j, -3.0552-2.5369j],\n",
       "          [ 0.6534-3.8076j,  0.5626-3.1380j,  0.0000+4.4710j, -0.5030+3.3494j],\n",
       "          [ 1.9451-2.9367j,  3.0552-2.5369j,  0.5030+3.3494j,  0.0000-0.8319j]],\n",
       "\n",
       "         [[ 0.0000-3.1935j, -0.4021-4.4453j, -2.8932-2.1471j, -3.4052-2.0693j],\n",
       "          [ 0.4021-4.4453j,  0.0000-2.5956j, -3.6837-1.6713j, -2.7180-2.8590j],\n",
       "          [ 2.8932-2.1471j,  3.6837-1.6713j,  0.0000-3.5798j,  0.3673-3.2152j],\n",
       "          [ 3.4052-2.0693j,  2.7180-2.8590j, -0.3673-3.2152j,  0.0000-4.1665j]],\n",
       "\n",
       "         [[ 0.0000-3.6367j,  2.6246-1.9484j, -2.9633-0.2057j, -0.5094+2.8086j],\n",
       "          [-2.6246-1.9484j,  0.0000-2.9782j, -1.9309+2.7307j,  1.8224+2.1312j],\n",
       "          [ 2.9633-0.2057j,  1.9309+2.7307j,  0.0000-4.2559j, -0.6536-1.2753j],\n",
       "          [ 0.5094+2.8086j, -1.8224+2.1312j,  0.6536-1.2753j,  0.0000-1.4428j]]],\n",
       "\n",
       "\n",
       "        [[[ 0.0000+2.1134j, -2.7842+1.8839j, -1.2940+3.0265j, -1.7033-2.5764j],\n",
       "          [ 2.7842+1.8839j,  0.0000+2.8324j,  2.0630+2.6565j, -3.6621-0.0374j],\n",
       "          [ 1.2940+3.0265j, -2.0630+2.6565j,  0.0000-2.2875j, -1.0220+2.8322j],\n",
       "          [ 1.7033-2.5764j,  3.6621-0.0374j,  1.0220+2.8322j,  0.0000-4.1046j]],\n",
       "\n",
       "         [[ 0.0000+0.6321j,  1.8644-1.7239j,  1.7313-2.4268j, -2.6262-1.6782j],\n",
       "          [-1.8644-1.7239j,  0.0000+1.1412j, -3.3156-0.5862j, -2.1191+1.9322j],\n",
       "          [-1.7313-2.4268j,  3.3156-0.5862j,  0.0000-2.5943j, -3.4154+0.2548j],\n",
       "          [ 2.6262-1.6782j,  2.1191+1.9322j,  3.4154+0.2548j,  0.0000-3.7365j]],\n",
       "\n",
       "         [[ 0.0000+3.9358j, -2.8990+0.9724j, -2.8859+2.4172j,  0.4778-2.6840j],\n",
       "          [ 2.8990+0.9724j,  0.0000+2.2314j,  0.9881+3.7058j, -2.5548-1.4232j],\n",
       "          [ 2.8859+2.4172j, -0.9881+3.7058j,  0.0000+1.5831j, -2.0215-2.6848j],\n",
       "          [-0.4778-2.6840j,  2.5548-1.4232j,  2.0215-2.6848j,  0.0000+2.8447j]],\n",
       "\n",
       "         ...,\n",
       "\n",
       "         [[ 0.0000-3.0568j,  1.8177-2.0335j, -0.2120+2.2028j,  1.5053+2.7150j],\n",
       "          [-1.8177-2.0335j,  0.0000-3.5235j,  0.4562+2.4015j,  2.1846+2.5965j],\n",
       "          [ 0.2120+2.2028j, -0.4562+2.4015j,  0.0000-3.5202j, -0.2687-3.0508j],\n",
       "          [-1.5053+2.7150j, -2.1846+2.5965j,  0.2687-3.0508j,  0.0000-2.4464j]],\n",
       "\n",
       "         [[ 0.0000+3.2869j,  0.5865+3.2724j,  3.9167+1.6613j,  3.2117+2.0608j],\n",
       "          [-0.5865+3.2724j,  0.0000+4.4435j,  4.3501+1.8014j,  3.3263+1.8470j],\n",
       "          [-3.9167+1.6613j, -4.3501+1.8014j,  0.0000+3.1701j,  0.1718+3.6820j],\n",
       "          [-3.2117+2.0608j, -3.3263+1.8470j, -0.1718+3.6820j,  0.0000+3.8248j]],\n",
       "\n",
       "         [[ 0.0000+3.9152j, -2.6439+1.8066j,  3.6432-0.4586j,  0.4190-3.2220j],\n",
       "          [ 2.6439+1.8066j,  0.0000+2.2962j,  2.0914-2.8078j, -0.7869-3.3028j],\n",
       "          [-3.6432-0.4586j, -2.0914-2.8078j,  0.0000+3.0777j,  1.7210+2.7269j],\n",
       "          [-0.4190-3.2220j,  0.7869-3.3028j, -1.7210+2.7269j,  0.0000+1.8303j]]],\n",
       "\n",
       "\n",
       "        [[[ 0.0000-3.1523j,  2.6248-1.6891j,  1.8491-3.3351j,  2.0855+2.4357j],\n",
       "          [-2.6248-1.6891j,  0.0000-3.9676j, -2.6481-2.3022j,  3.3505+0.2852j],\n",
       "          [-1.8491-3.3351j,  2.6481-2.3022j,  0.0000+4.1858j,  1.4754-3.2377j],\n",
       "          [-2.0855+2.4357j, -3.3505+0.2852j, -1.4754-3.2377j,  0.0000+4.4890j]],\n",
       "\n",
       "         [[ 0.0000-1.5148j, -2.1159+0.9837j, -2.0615+2.0756j,  2.8121+1.8617j],\n",
       "          [ 2.1159+0.9837j,  0.0000-2.5177j,  2.8899-0.6129j,  1.1072-2.3715j],\n",
       "          [ 2.0615+2.0756j, -2.8899-0.6129j,  0.0000+3.4862j,  3.3885-0.4375j],\n",
       "          [-2.8121+1.8617j, -1.1072-2.3715j, -3.3885-0.4375j,  0.0000+3.5975j]],\n",
       "\n",
       "         [[ 0.0000-1.9412j,  3.0063-1.2340j,  2.4603-2.4025j, -0.1675+3.6402j],\n",
       "          [-3.0063-1.2340j,  0.0000-2.3651j, -1.8880-2.6189j,  3.0944+1.3558j],\n",
       "          [-2.4603-2.4025j,  1.8880-2.6189j,  0.0000-4.6935j,  2.0003+3.8999j],\n",
       "          [ 0.1675+3.6402j, -3.0944+1.3558j, -2.0003+3.8999j,  0.0000-4.0909j]],\n",
       "\n",
       "         ...,\n",
       "\n",
       "         [[ 0.0000+3.4492j, -2.5728+1.8600j,  0.4284-3.4949j, -1.7262-2.9197j],\n",
       "          [ 2.5728+1.8600j,  0.0000+3.7114j, -0.8672-2.2463j, -2.1896-2.5181j],\n",
       "          [-0.4284-3.4949j,  0.8672-2.2463j,  0.0000+2.7803j, -0.3813+3.0153j],\n",
       "          [ 1.7262-2.9197j,  2.1896-2.5181j,  0.3813+3.0153j,  0.0000+0.9944j]],\n",
       "\n",
       "         [[ 0.0000-4.0609j, -0.4467-3.9143j, -2.5606-1.5376j, -2.2245-1.1862j],\n",
       "          [ 0.4467-3.9143j,  0.0000-3.2935j, -3.2496-1.1685j, -2.4116-3.1755j],\n",
       "          [ 2.5606-1.5376j,  3.2496-1.1685j,  0.0000-3.4513j, -0.2805-3.2134j],\n",
       "          [ 2.2245-1.1862j,  2.4116-3.1755j,  0.2805-3.2134j,  0.0000-3.9226j]],\n",
       "\n",
       "         [[ 0.0000-2.3693j,  1.9322-2.3963j, -3.4194+0.2389j, -0.3545+3.5015j],\n",
       "          [-1.9322-2.3963j,  0.0000-3.2715j, -2.6085+1.6153j,  2.2600+3.1784j],\n",
       "          [ 3.4194+0.2389j,  2.6085+1.6153j,  0.0000-2.6846j, -2.3138-2.7348j],\n",
       "          [ 0.3545+3.5015j, -2.2600+3.1784j,  2.3138-2.7348j,  0.0000-0.9692j]]]],\n",
       "       device='cuda:0', requires_grad=True)"
      ]
     },
     "execution_count": 62,
     "metadata": {},
     "output_type": "execute_result"
    }
   ],
   "source": [
    "pcf_level_2.unitary_development.projection.A"
   ]
  },
  {
   "cell_type": "code",
   "execution_count": null,
   "id": "00620201",
   "metadata": {},
   "outputs": [],
   "source": []
  },
  {
   "cell_type": "code",
   "execution_count": 149,
   "id": "bed49a39",
   "metadata": {},
   "outputs": [
    {
     "data": {
      "image/png": "[encoded data removed]",
      "text/plain": [
       "<Figure size 1500x500 with 2 Axes>"
      ]
     },
     "metadata": {},
     "output_type": "display_data"
    }
   ],
   "source": [
    "fig, ax = plt.subplots(1,2,figsize=(15,5))\n",
    "\n",
    "ax[0].hist(MMD_1[:,0], bins=25, label='H_0',edgecolor='#E6E6E6')\n",
    "ax[0].hist(MMD_1[:,1], bins=25, label='H_A',edgecolor='#E6E6E6')\n",
    "\n",
    "ax[0].legend(loc='upper right', ncol=2, fontsize=22)\n",
    "ax[0].set_xlabel('D_1(X, Y)^2', labelpad=10)\n",
    "ax[0].set_ylabel('Count', labelpad=10)\n",
    "\n",
    "ax[1].hist(MMD_2[:,0], bins=25, label='H_0', edgecolor='#E6E6E6')\n",
    "ax[1].hist(MMD_2[:,1], bins=25, label='H_A', edgecolor='#E6E6E6')\n",
    "\n",
    "ax[1].legend(loc='upper right', ncol=2, fontsize=22)\n",
    "ax[1].set_xlabel('D_2(X, Y)^2', labelpad=10)\n",
    "ax[1].set_ylabel('Count', labelpad=10)\n",
    "\n",
    "plt.tight_layout(pad=3.0)\n",
    "# plt.savefig('MMD_binary_tex.pdf',bbox_inches='tight')\n",
    "plt.show()"
   ]
  },
  {
   "cell_type": "code",
   "execution_count": 19,
   "id": "66390903",
   "metadata": {},
   "outputs": [
    {
     "data": {
      "text/plain": [
       "array([[0., 0.],\n",
       "       [0., 0.],\n",
       "       [0., 0.],\n",
       "       [0., 0.],\n",
       "       [0., 0.],\n",
       "       [0., 0.],\n",
       "       [0., 0.],\n",
       "       [0., 0.],\n",
       "       [0., 0.],\n",
       "       [0., 0.],\n",
       "       [0., 0.],\n",
       "       [0., 0.],\n",
       "       [0., 0.],\n",
       "       [0., 0.],\n",
       "       [0., 0.],\n",
       "       [0., 0.],\n",
       "       [0., 0.],\n",
       "       [0., 0.],\n",
       "       [0., 0.],\n",
       "       [0., 0.],\n",
       "       [0., 0.],\n",
       "       [0., 0.],\n",
       "       [0., 0.],\n",
       "       [0., 0.],\n",
       "       [0., 0.],\n",
       "       [0., 0.],\n",
       "       [0., 0.],\n",
       "       [0., 0.],\n",
       "       [0., 0.],\n",
       "       [0., 0.],\n",
       "       [0., 0.],\n",
       "       [0., 0.],\n",
       "       [0., 0.],\n",
       "       [0., 0.],\n",
       "       [0., 0.],\n",
       "       [0., 0.],\n",
       "       [0., 0.],\n",
       "       [0., 0.],\n",
       "       [0., 0.],\n",
       "       [0., 0.],\n",
       "       [0., 0.],\n",
       "       [0., 0.],\n",
       "       [0., 0.],\n",
       "       [0., 0.],\n",
       "       [0., 0.],\n",
       "       [0., 0.],\n",
       "       [0., 0.],\n",
       "       [0., 0.],\n",
       "       [0., 0.],\n",
       "       [0., 0.],\n",
       "       [0., 0.],\n",
       "       [0., 0.],\n",
       "       [0., 0.],\n",
       "       [0., 0.],\n",
       "       [0., 0.],\n",
       "       [0., 0.],\n",
       "       [0., 0.],\n",
       "       [0., 0.],\n",
       "       [0., 0.],\n",
       "       [0., 0.],\n",
       "       [0., 0.],\n",
       "       [0., 0.],\n",
       "       [0., 0.],\n",
       "       [0., 0.],\n",
       "       [0., 0.],\n",
       "       [0., 0.],\n",
       "       [0., 0.],\n",
       "       [0., 0.],\n",
       "       [0., 0.],\n",
       "       [0., 0.],\n",
       "       [0., 0.],\n",
       "       [0., 0.],\n",
       "       [0., 0.],\n",
       "       [0., 0.],\n",
       "       [0., 0.],\n",
       "       [0., 0.],\n",
       "       [0., 0.],\n",
       "       [0., 0.],\n",
       "       [0., 0.],\n",
       "       [0., 0.],\n",
       "       [0., 0.],\n",
       "       [0., 0.],\n",
       "       [0., 0.],\n",
       "       [0., 0.],\n",
       "       [0., 0.],\n",
       "       [0., 0.],\n",
       "       [0., 0.],\n",
       "       [0., 0.],\n",
       "       [0., 0.],\n",
       "       [0., 0.],\n",
       "       [0., 0.],\n",
       "       [0., 0.],\n",
       "       [0., 0.],\n",
       "       [0., 0.],\n",
       "       [0., 0.],\n",
       "       [0., 0.],\n",
       "       [0., 0.],\n",
       "       [0., 0.],\n",
       "       [0., 0.],\n",
       "       [0., 0.]])"
      ]
     },
     "execution_count": 19,
     "metadata": {},
     "output_type": "execute_result"
    }
   ],
   "source": [
    "MMD_1"
   ]
  },
  {
   "cell_type": "markdown",
   "id": "8dff9c28",
   "metadata": {},
   "source": [
    "### Train first level"
   ]
  },
  {
   "cell_type": "code",
   "execution_count": 23,
   "id": "52ba11ee",
   "metadata": {},
   "outputs": [],
   "source": [
    "train_X = torch.tensor(X[:,:,0,:]).reshape([-1, L, D]).to(device)\n",
    "train_Y = torch.tensor(X_n[:,:,0,:]).reshape([-1, L, D]).to(device)\n",
    "\n",
    "train_X_dl = DataLoader(train_X, 128, shuffle=True)\n",
    "train_Y_dl = DataLoader(train_Y, 128, shuffle=True)"
   ]
  },
  {
   "cell_type": "code",
   "execution_count": 24,
   "id": "a80cc445",
   "metadata": {},
   "outputs": [
    {
     "data": {
      "text/plain": [
       "torch.Size([500000, 3, 1])"
      ]
     },
     "execution_count": 24,
     "metadata": {},
     "output_type": "execute_result"
    }
   ],
   "source": [
    "train_Y.shape"
   ]
  },
  {
   "cell_type": "code",
   "execution_count": 25,
   "id": "e839eae0",
   "metadata": {},
   "outputs": [
    {
     "data": {
      "text/plain": [
       "char_func_path(\n",
       "  (unitary_development): development_layer(\n",
       "    (projection): projection(\n",
       "      (param_map): unitary()\n",
       "    )\n",
       "  )\n",
       ")"
      ]
     },
     "execution_count": 25,
     "metadata": {},
     "output_type": "execute_result"
    }
   ],
   "source": [
    "lie_degree_1 = 4\n",
    "num_samples_1 = 20\n",
    "input_size = 1\n",
    "add_time = False\n",
    "\n",
    "pcf_level_1 = char_func_path(num_samples=num_samples_1, \n",
    "                              hidden_size=lie_degree_1, \n",
    "                              input_dim=input_size, \n",
    "                              add_time=add_time, \n",
    "                              include_initial = False)\n",
    "pcf_level_1.to(device)"
   ]
  },
  {
   "cell_type": "code",
   "execution_count": 26,
   "id": "bb800a69",
   "metadata": {},
   "outputs": [
    {
     "name": "stdout",
     "output_type": "stream",
     "text": [
      "start opitmize charateristics function\n"
     ]
    },
    {
     "data": {
      "application/vnd.jupyter.widget-view+json": {
       "model_id": "fbd2adcf3f7343c281f6b6995d84c32e",
       "version_major": 2,
       "version_minor": 0
      },
      "text/plain": [
       "  0%|          | 0/2000 [00:00<?, ?it/s]"
      ]
     },
     "metadata": {},
     "output_type": "display_data"
    },
    {
     "name": "stdout",
     "output_type": "stream",
     "text": [
      "Iteration 0 :  loss = 0.00019097000767942518\n",
      "Iteration 100 :  loss = 0.011122475378215313\n",
      "Iteration 200 :  loss = 0.0008812019950710237\n",
      "Iteration 300 :  loss = 0.011186576448380947\n",
      "Iteration 400 :  loss = 0.004297185223549604\n",
      "Iteration 500 :  loss = 0.001010038424283266\n",
      "Iteration 600 :  loss = 0.0006641546497121453\n",
      "Iteration 700 :  loss = 0.014417760074138641\n",
      "Iteration 800 :  loss = 5.305147597264859e-14\n",
      "Iteration 900 :  loss = 0.0004403514903970063\n",
      "Iteration 1000 :  loss = 0.004441100172698498\n",
      "Iteration 1100 :  loss = 0.02332552708685398\n",
      "Iteration 1200 :  loss = 0.0006138706230558455\n",
      "Iteration 1300 :  loss = 0.0001684476446826011\n",
      "Iteration 1400 :  loss = 0.0016673080390319228\n",
      "Iteration 1500 :  loss = 6.60986564961219e-14\n",
      "Iteration 1600 :  loss = 0.0008758321637287736\n",
      "Iteration 1700 :  loss = 0.015154204331338406\n",
      "Iteration 1800 :  loss = 0.00025485194055363536\n",
      "Iteration 1900 :  loss = 0.004349355585873127\n"
     ]
    }
   ],
   "source": [
    "iterations = 2000\n",
    "\n",
    "char_optimizer = torch.optim.Adam(\n",
    "        pcf_level_1.parameters(), betas=(0, 0.9), lr=0.002)\n",
    "\n",
    "print('start opitmize charateristics function')\n",
    "pcf_level_1.train()\n",
    "for i in tqdm(range(iterations)):\n",
    "    X_ = next(iter(train_X_dl))\n",
    "    Y_ = next(iter(train_Y_dl))\n",
    "    char_optimizer.zero_grad()\n",
    "    char_loss = - pcf_level_1.distance_measure(\n",
    "            X_, Y_, Lambda=0)\n",
    "    if i%100 == 0:\n",
    "        print(\"Iteration {} :\".format(i), \" loss = {}\".format(-char_loss))\n",
    "    char_loss.backward()\n",
    "    char_optimizer.step()"
   ]
  },
  {
   "cell_type": "code",
   "execution_count": 31,
   "id": "7beeb1f6",
   "metadata": {},
   "outputs": [
    {
     "data": {
      "application/vnd.jupyter.widget-view+json": {
       "model_id": "3a07be12ac6c4a04a7e6bf46bc26370c",
       "version_major": 2,
       "version_minor": 0
      },
      "text/plain": [
       "  0%|          | 0/1000 [00:00<?, ?it/s]"
      ]
     },
     "metadata": {},
     "output_type": "display_data"
    }
   ],
   "source": [
    "for i in tqdm(range(repeats)):\n",
    "    x0 = torch.tensor(X[i, :, 0, :, :], dtype=torch.float64).to(device)     # X of shape (repeats,n_samples,2,L,D)\n",
    "    x0_ = torch.tensor(X[i, :, 1, :, :], dtype=torch.float64).to(device)    # independent copy of X\n",
    "    xn = torch.tensor(X_n[i, :, 0, :, :], dtype=torch.float64).to(device)\n",
    "    xn_ = torch.tensor(X_n[i, :, 1, :, :], dtype=torch.float64).to(device)  # independent copy of X_n\n",
    "    \n",
    "    order_1_expected_dev_x0 = pcf_level_1.unitary_development(x0).mean(0)\n",
    "    order_1_expected_dev_x0_ = pcf_level_1.unitary_development(x0_).mean(0)\n",
    "    order_1_expected_dev_xn = pcf_level_1.unitary_development(xn).mean(0)\n",
    "#     order_2_expected_dev_xn_ = pcf_level_2.unitary_development(expected_dev_xn_).reshape([500, -1, 4, 4]).mean(0)\n",
    "    \n",
    "    MMD_1[i,0] = HS_norm(order_1_expected_dev_x0_-order_1_expected_dev_x0,\n",
    "                        order_1_expected_dev_x0_-order_1_expected_dev_x0)\n",
    "    MMD_1[i,1] = HS_norm(order_1_expected_dev_xn-order_1_expected_dev_x0,\n",
    "                        order_1_expected_dev_xn-order_1_expected_dev_x0)"
   ]
  },
  {
   "cell_type": "code",
   "execution_count": 32,
   "id": "5710b021",
   "metadata": {},
   "outputs": [
    {
     "data": {
      "image/png": "[encoded data removed]",
      "text/plain": [
       "<Figure size 1500x500 with 2 Axes>"
      ]
     },
     "metadata": {},
     "output_type": "display_data"
    }
   ],
   "source": [
    "fig, ax = plt.subplots(1,2,figsize=(15,5))\n",
    "\n",
    "ax[0].hist(MMD_1[:,0], bins=25, label='H_0',edgecolor='#E6E6E6')\n",
    "ax[0].hist(MMD_1[:,1], bins=25, label='H_A',edgecolor='#E6E6E6')\n",
    "\n",
    "ax[0].legend(loc='upper right', ncol=2, fontsize=22)\n",
    "ax[0].set_xlabel('D_1(X, Y)^2', labelpad=10)\n",
    "ax[0].set_ylabel('Count', labelpad=10)\n",
    "\n",
    "ax[1].hist(MMD_2[:,0], bins=25, label='H_0', edgecolor='#E6E6E6')\n",
    "ax[1].hist(MMD_2[:,1], bins=25, label='H_A', edgecolor='#E6E6E6')\n",
    "\n",
    "ax[1].legend(loc='upper right', ncol=2, fontsize=22)\n",
    "ax[1].set_xlabel('D_2(X, Y)^2', labelpad=10)\n",
    "ax[1].set_ylabel('Count', labelpad=10)\n",
    "\n",
    "plt.tight_layout(pad=3.0)\n",
    "# plt.savefig('MMD_binary_tex.pdf',bbox_inches='tight')\n",
    "plt.show()"
   ]
  },
  {
   "cell_type": "code",
   "execution_count": null,
   "id": "96ceea3b",
   "metadata": {},
   "outputs": [],
   "source": []
  }
 ],
 "metadata": {
  "kernelspec": {
   "display_name": "levy",
   "language": "python",
   "name": "levy"
  },
  "language_info": {
   "codemirror_mode": {
    "name": "ipython",
    "version": 3
   },
   "file_extension": ".py",
   "mimetype": "text/x-python",
   "name": "python",
   "nbconvert_exporter": "python",
   "pygments_lexer": "ipython3",
   "version": "3.9.13"
  }
 },
 "nbformat": 4,
 "nbformat_minor": 5
}
